{
 "cells": [
  {
   "cell_type": "raw",
   "metadata": {},
   "source": [
    "---\n",
    "title: \"Eksamen H23 S2\"\n",
    "from: markdown+emoji\n",
    "author: \"Torodd F. Ottestad\"\n",
    "date: \"12-11-2023\"\n",
    "categories: [S2, H23, eksamen]\n",
    "---"
   ]
  },
  {
   "attachments": {},
   "cell_type": "markdown",
   "metadata": {},
   "source": [
    "# Løysingsforslag eksamen S2 - H23 \n",
    "\n",
    "Her er eit forslag til løysing av hausteksamen i S2 2023. I del 2 er oppgåvene stort sett Python brukt som hjelpemiddel.\n",
    "\n",
    "Eg kan ikkje lova at løysinga er feilfri... 😊 Gje meg gjerne ein lyd i kommentarfeltet eller [her](/about.qmd) om du ser feil :mag: \n",
    "\n",
    "Sist oppdatert: 11.12\n",
    "\n",
    "---\n",
    "\n",
    "Eksamenssettet finn du hos UDIR: [Finn eksamensoppgaver](https://sokeresultat.udir.no/eksamensoppgaver.html)"
   ]
  },
  {
   "attachments": {},
   "cell_type": "markdown",
   "metadata": {},
   "source": [
    "\n",
    "# Del 1 - utan hjelpemiddel\n",
    "\n",
    "## Oppgåve 1 - bestemt integral\n",
    "\n",
    "Integrerer:\n",
    "\n",
    "$$\n",
    "\\begin{align*}\n",
    "&\\int_{-1}^{1} (x^3 + 2x) \\, dx \\\\ &= \\left[ \\frac{x^4}{4} + x^2 \\right]_{-1}^{1} \\\\\n",
    "&= \\left( \\frac{1^4}{4} + 1^2 \\right) - \\left( \\frac{(-1)^4}{4} + (-1)^2 \\right) \\\\\n",
    "&= \\frac{1}{4} + 1 - \\left( \\frac{1}{4} + 1 \\right) \\\\\n",
    "&= 0\n",
    "\\end{align*}\n",
    "$$\n",
    "\n",
    "La $f(x) = x^3 + 2x$. Ser at $f(x) < 0$ når $x \\in [ -1,0 \\rangle$, og at $f(x) > 0$ når $x \\in \\langle 0,1]$.\n",
    "\n",
    "$\\int_{-1}^{1} f(x) \\, dx = 0$ betyr at arealet avgrensa av $f(x)$ og $x$-aksen i kvart av dei to intervalla er like store. Sidan integrala har ulikt forteikn vert summen av dei $0$.\n"
   ]
  },
  {
   "attachments": {},
   "cell_type": "markdown",
   "metadata": {},
   "source": [
    "## Oppgåve 2 - rekker\n",
    "\n",
    "### a) summen av dei fire første ledda\n",
    "\n",
    "Summen av ei uendelig geometrisk rekke som konvergerer er gitt ved\n",
    "\n",
    "$$\n",
    "S = \\frac{a_1}{1 - k}\n",
    "$$\n",
    "\n",
    "Her er $S = 8$ og $a_1 = 4$. Dermed får me\n",
    "\n",
    "$$\n",
    "\\begin{align*}\n",
    "8 &= \\frac{4}{1 - k} \\\\\n",
    "8 - 8k &= 4 \\\\\n",
    "8k &= 4 \\\\\n",
    "k &= \\frac{4}{8} = \\frac{1}{2}\n",
    "\\end{align*}\n",
    "$$\n",
    "\n",
    "Då blir\n",
    "\n",
    "$$\n",
    "\\begin{align*}\n",
    "S_4 &= a_1 + a_2 + a_3 + a_4 \\\\\n",
    "&= 4 + 2 + 1 + \\frac{1}{2} \\\\\n",
    "&= 7.5\n",
    "\\end{align*}\n",
    "$$\n",
    "\n",
    "### b) \n",
    "\n",
    "Skal finna $a_4$ når $$a_1 + a_4 + a_7 = 114$$\n",
    "\n",
    "Veit at $$a_4 = a_1 + 3d \\Leftrightarrow a_1 = a_4 - 3d$$ og at  $$a_7 = a_4 + 3d$$\n",
    "\n",
    "Dermed får me\n",
    "\n",
    "$$\n",
    "\\begin{align*}\n",
    "a_1 + a_4 + a_7 &= 114 \\\\\n",
    "(a_4 - 3d) + a_4 + (a_4 + 3d) &= 114 \\\\\n",
    "3a_4 &= 114 \\\\\n",
    "a_4 &= \\frac{114}{3} = 38.\n",
    "\\end{align*}\n",
    "$$\n"
   ]
  },
  {
   "attachments": {},
   "cell_type": "markdown",
   "metadata": {},
   "source": [
    "## Oppgåve 3\n",
    "\n",
    "### a) einingskostnad\n",
    "\n",
    "Ser at $h(x)=81,75x$ skjær $K(x)$ i punkt $A$. Dvs at $K(40)=g(40) = 81,75\\cdot 40$ \n",
    "\n",
    "Dermed må einingskostnaden når ein produserer 40 einingar vera 81,75 kr. \n",
    "\n",
    "### b) grensekostnad\n",
    "\n",
    "I punkt $A$, ved produksjon av 40 einingar tangerer $f(x)=31x + 2030$ grafen til $K(x)$. \n",
    "\n",
    "Dvs. at stigningstalet til tangenten til $K$ i $x=40$ er 31. Dermed vil $K'(40)=31$ som betyr at grensekostnaden er 31. \n",
    "\n",
    "### c) minste einingskostnad\n",
    "\n",
    "Ser at det lågaste stigningstalet ei linje som kryssar både origo og $K(x)$ er linja som tangerer grafen i punkt $B$. Alle andre linjer for større eller mindre verdiar av $x$ vil ha høgare stigningstal (og to skjæringspunkt). \n",
    "\n",
    "Dermed er stigningstalet til denne tangenten, $g(x)=60x$, den minste einingskostnaden. \n",
    "\n",
    "Den minste einingskostnaden er 60 kr. "
   ]
  },
  {
   "attachments": {},
   "cell_type": "markdown",
   "metadata": {},
   "source": [
    "## Oppgåve 4 \n"
   ]
  },
  {
   "cell_type": "code",
   "execution_count": 2,
   "metadata": {},
   "outputs": [
    {
     "name": "stdout",
     "output_type": "stream",
     "text": [
      "4.000000000000003\n"
     ]
    }
   ],
   "source": [
    "#| eval: false\n",
    "#| code-line-numbers: true\n",
    "#| output: false\n",
    "N = 1000\n",
    "start = -2\n",
    "slutt = 2\n",
    "dx = (slutt - start)/N\n",
    "\n",
    "def f(x):\n",
    "    return x**2-1\n",
    "\n",
    "S = 0\n",
    "for i in range(N):\n",
    "    xi = start + i*dx\n",
    "    S = S + abs(f(xi))*dx  # abs(f(x)) gir absoluttverdien til f(x)\n",
    "\n",
    "print(S)"
   ]
  },
  {
   "cell_type": "markdown",
   "metadata": {},
   "source": [
    "### a) - forklar kva eleven vil finna\n",
    "\n",
    "Ser at eleven arbeider med funksjonen $f(x)=x^2-1$ (linje 6-7). \n",
    "i dei første linjene deler han opp avstanden mellom $x=-2$ og $x=2$ i $1000$ like store bitar som han kallar `dx`.\n",
    "\n",
    "I `for`-løkka reknar han ut summen av 1000 rektangel mellom $x=-2$ og $x=2$. Dei har høgde slik at høgresida av rektangelet er like høgt som $f(x)$ i den aktuelle $x$-verdien. Sidan han tar absoluttverdien av funksjonsverdien sikrar han at han finn positive verdiar (areal er positivt) for alle dei ulike rektangla. \n",
    "\n",
    "Dette er ein måte å finna arealet avgrensa av $f(x)$ og $x$-aksen når $x\\in[-2, 2]$. \n",
    "\n",
    "### b) - ved rekning\n",
    "\n",
    "Veit at $f(x)=x^2-1$ er\n",
    "- symmetrisk om $x$-aksen\n",
    "- $0$ når $x=-1 \\vee x=1$\n",
    "- konveks, dvs $f(x)<0$ når $-1<x<1$ \n",
    "\n",
    "Kallar arealet me skal finna for $A$. Som følgje av symmetrien om $x$-aksen er det nok å finna arealet avgrensa av $x$-aksen og grafen til $f(x)$ mellom $x=0$ og $x=2$ og multiplisera resultatet her med 2. Då slepp me unna ein del algebra 😅 Sidan $f(x)<0$ i det første intervallet må me endra forteikn på dette for å finna arealet. Dermed får me: \n",
    "\n",
    "$$\\begin{align*}\n",
    "A &= 2\\cdot\\left(-\\int_{0}^1 f(x) \\,dx + \\int_1^2f(x) \\,dx \\right)\n",
    "\\end{align*}$$\n",
    "\n",
    "\n",
    "Reknar ut areala for seg\n",
    "\n",
    "$$\\begin{align*}\n",
    "\\int_{0}^{1} f(x) \\,dx &= \\left(\\frac{1^3}{3}-1\\right) - \\left(\\frac{0^3}{3}-0\\right) \\\\\n",
    "&= \\frac{-2}{3} \\\\\n",
    "\\\\\n",
    "\\int_1^2f(x) \\,dx &= \\left(\\frac{2^3}{3}-2\\right) - \\left(\\frac{1^3}{3}-1\\right) \\\\\n",
    "&= \\left(\\frac{8}{3}-2\\right) - \\left(\\frac{1}{3}-1\\right) \\\\\n",
    "&= \\left(\\frac{2}{3}\\right) + \\left(\\frac{2}{3}\\right) \\\\\n",
    "&= \\frac{4}{3} \n",
    "\\end{align*}$$ \n",
    "\n",
    "Og arealet blir\n",
    "$$\\begin{align*}\n",
    "A &= 2\\cdot\\left(-\\int_{0}^1 f(x) \\,dx + \\int_1^2f(x) \\,dx \\right) \\\\\n",
    "&= 2\\cdot \\left( - \\left(\\frac{-2}{3} \\right) + \\frac{4}{3} \\right) \\\\\n",
    "&= 2\\cdot \\frac{6}{3} \\\\\n",
    "&= 4\n",
    "\\end{align*}$$"
   ]
  },
  {
   "cell_type": "markdown",
   "metadata": {},
   "source": [
    "## Oppgåve 5\n",
    "\n",
    "Tre typar kuler i ein kasse. \n",
    "\n",
    "| vekt ($X$) | $P(X=x)$ |\n",
    "|---|----|\n",
    "|4 kg | $\\frac{1}{4}$ |\n",
    "|5 kg | $\\frac{1}{2}$ |\n",
    "|10 kg | $1-\\frac{1}{4}-\\frac{1}{2} = \\frac{1}{4}$ |"
   ]
  },
  {
   "cell_type": "markdown",
   "metadata": {},
   "source": [
    "### a) Forventningsverdi, E(X)\n",
    "\n",
    "$$\\begin{align*}\n",
    "E(X) &= \\sum_{i=1}^{3} x_i \\cdot P(X=x_i) \\\\\n",
    "&= 4\\cdot \\frac{1}{4} + 5\\cdot\\frac{1}{2} + 10 \\cdot \\frac{1}{4} \\\\\n",
    "&= \\frac{4 + 10 + 10}{4} = \\frac{24}{4} = 6\n",
    "\\end{align*} $$\n",
    "\n",
    "Dermed er $E(X)=6\\, kg$"
   ]
  },
  {
   "cell_type": "markdown",
   "metadata": {},
   "source": [
    "### b) Sannsynsfordelinga til Y\n",
    "\n",
    "Veit at $Y=X_1 + X_2$. Sidan det er med tilbakelegging vil me kunna bruka to like eller to ulike kuler. Dermed kan total vekt, $Y$, bli:\n",
    "\n",
    "| vekt i kg ($Y$) | $P(Y=y)$ |\n",
    "|---|----|\n",
    "|8 = 4 + 4 |  $\\frac{1}{16} = \\frac{1}{4} \\cdot \\frac{1}{4}$ |\n",
    "|9 = 4 + 5 |  $\\frac{1}{4} = 2\\cdot \\frac{1}{4} \\cdot \\frac{1}{2}$  |\n",
    "|10 = 5 + 5 | $\\frac{1}{4} = \\frac{1}{2} \\cdot \\frac{1}{2}$  |\n",
    "|14 = 4 + 10| $\\frac{1}{8} = 2\\cdot \\frac{1}{4} \\cdot \\frac{1}{4}$ |\n",
    "|15 = 5 + 10| $\\frac{1}{4} = 2\\cdot \\frac{1}{2} \\cdot \\frac{1}{4}$ |\n",
    "|20 = 10 + 10|$\\frac{1}{16} = \\frac{1}{4} \\cdot \\frac{1}{4}$ |\n",
    "\n",
    "Ser at summen av sannsyna her vert 1, som tyder på at fordelinga er rett. "
   ]
  },
  {
   "cell_type": "markdown",
   "metadata": {},
   "source": [
    "### c) P(Y > 10)\n",
    "\n",
    "Bruker sannsynsfordelinga over. \n",
    "\n",
    "$$ \\begin{align*}\n",
    "P(Y>10) &= P(Y=14) + P(Y=15) + P(Y=20) \\\\\n",
    "&= \\frac{1}{8} + \\frac{1}{4} + \\frac{1}{16} \\\\\n",
    "&= \\frac{2 + 4 + 1}{16} \\\\\n",
    "&= \\frac{7}{16}\n",
    "\\end{align*} $$"
   ]
  },
  {
   "attachments": {},
   "cell_type": "markdown",
   "metadata": {},
   "source": [
    "# Del 2\n",
    "\n",
    "## Oppgåve 1\n",
    "\n",
    "|Pris (kr) | Etterspurnad|\n",
    "|----|----|\n",
    "|10|237|\n",
    "|20|111|\n",
    "|30|49|\n",
    "|40|22|\n",
    "|50|12|\n",
    "\n",
    "### a) Lag ein modell \n",
    "\n",
    "Lag ein modell $q$ som kan brukast for å beskriva samanhengen mellom pris i kroner $p$ og dagleg etterspurnad. \n",
    "\n",
    "Ser at når ein aukar prisen med 10 kroner vert etterspurnaden omlag halvert. Det kan tyda på at ein eksponentiell modell kan passa her. Plottar datapunkta og ser korleis dei ser ut:\n",
    "\n",
    "\n"
   ]
  },
  {
   "cell_type": "code",
   "execution_count": 3,
   "metadata": {},
   "outputs": [
    {
     "data": {
      "image/png": "[encoded data removed]",
      "text/plain": [
       "<Figure size 640x480 with 1 Axes>"
      ]
     },
     "metadata": {},
     "output_type": "display_data"
    }
   ],
   "source": [
    "import matplotlib.pyplot as plt\n",
    "\n",
    "pris = [10, 20, 30, 40, 50]\n",
    "etterspurnad = [237, 111, 49, 22, 12]\n",
    "\n",
    "plt.plot(pris, etterspurnad, \"o\")\n",
    "plt.show()"
   ]
  },
  {
   "cell_type": "markdown",
   "metadata": {},
   "source": [
    "Det ser framleis ut som ein eksponentiell funksjon er ein veg å gå her. Den er på forma $$q(p)= a \\cdot b^p$$ Bruker regresjon i python for å finna ein passande modell. "
   ]
  },
  {
   "cell_type": "code",
   "execution_count": 19,
   "metadata": {},
   "outputs": [
    {
     "name": "stdout",
     "output_type": "stream",
     "text": [
      "a = 515 \n",
      "b = 0.9255\n"
     ]
    },
    {
     "data": {
      "image/png": "[encoded data removed]",
      "text/plain": [
       "<Figure size 640x480 with 1 Axes>"
      ]
     },
     "metadata": {},
     "output_type": "display_data"
    }
   ],
   "source": [
    "from scipy.optimize import curve_fit\n",
    "import numpy as np\n",
    "\n",
    "def q(p, a, b):\n",
    "    return a * b**p\n",
    "\n",
    "# gjetter ca koeffverdi\n",
    "#gjett = [650, 25, 1]\n",
    "\n",
    "# finn funksjonen\n",
    "K, E = curve_fit(q, xdata=pris, ydata=etterspurnad)\n",
    "\n",
    "# hentar ut koeff.\n",
    "a, b = K\n",
    "\n",
    "x_verdiar = np.linspace(0, 60, 1000)\n",
    "y_verdiar = q(x_verdiar, a, b)\n",
    "\n",
    "# plottar modell og datapunkt\n",
    "plt.plot(x_verdiar, y_verdiar)\n",
    "plt.plot(pris, etterspurnad, \"o\")\n",
    "\n",
    "# x- og y-akse\n",
    "plt.axhline(y=0, c=\"black\")\n",
    "plt.axvline(x=0, c=\"black\")\n",
    "\n",
    "# skriv ut koeff.\n",
    "print(f\"a = {a:.0f} \\nb = {b:.4f}\")"
   ]
  },
  {
   "cell_type": "markdown",
   "metadata": {},
   "source": [
    "Får at $q(p)= 515\\cdot 0,926^p$ \n",
    "\n",
    "Denne modellen vil ikkje vera gyldig for veldig låge verdiar av $p$ sidan det ikkje er realistisk at dei sel vara til feks. 1 kr. Samstundes vil nok ikkje modellen vera gyldig for veldig store verdiar av $p$ heller, sidan prisen på eitt tidspunkt vert for høg til at nokon vil kjøpa vara. Prøver modellen for ulike verdiar for $p$. "
   ]
  },
  {
   "cell_type": "code",
   "execution_count": 26,
   "metadata": {},
   "outputs": [
    {
     "name": "stdout",
     "output_type": "stream",
     "text": [
      "pris: 50, etterspurnad: 10.71\n",
      "pris: 60, etterspurnad: 4.94\n",
      "pris: 70, etterspurnad: 2.28\n",
      "pris: 80, etterspurnad: 1.05\n",
      "pris: 90, etterspurnad: 0.48\n"
     ]
    }
   ],
   "source": [
    "for i in range(5):\n",
    "    pris = 50 + 10*i\n",
    "    print(f\"pris: {pris}, etterspurnad: {q(pris, a, b):.2f}\")"
   ]
  },
  {
   "cell_type": "markdown",
   "metadata": {},
   "source": [
    "Ser at etterspurnaden er ca. ei vare når prisen er 80. Etter dette vil ein ikkje få solgt varer. \n",
    "\n",
    "Modellen kan vera gyldig når $p\\in[1, 80]$ (gitt at dei kan selja vara for mindre enn 10 kr.)"
   ]
  },
  {
   "cell_type": "markdown",
   "metadata": {},
   "source": [
    "### b) 70 einingar pr dag\n",
    "\n",
    "Løyser likninga $q(p)= 70$"
   ]
  },
  {
   "cell_type": "code",
   "execution_count": 36,
   "metadata": {},
   "outputs": [
    {
     "data": {
      "text/latex": [
       "$\\displaystyle \\left\\{25.96\\right\\}$"
      ],
      "text/plain": [
       "{25.96}"
      ]
     },
     "execution_count": 36,
     "metadata": {},
     "output_type": "execute_result"
    }
   ],
   "source": [
    "from sympy import Symbol, Eq, solveset, Reals\n",
    "\n",
    "p = Symbol(\"p\")\n",
    "\n",
    "vs = 515 * 0.926**p\n",
    "hs = 70\n",
    "\n",
    "likning = Eq(vs, hs)\n",
    "løysing = solveset(likning, p, Reals)\n",
    "løysing.evalf(4)"
   ]
  },
  {
   "cell_type": "markdown",
   "metadata": {},
   "source": [
    "Prisen bør i følge modellen vera 26 jr for at bedrifta skal selja 70 einingar per dag. "
   ]
  },
  {
   "cell_type": "markdown",
   "metadata": {},
   "source": [
    "### c) størst mogleg inntekt\n",
    "\n",
    "For ei anna vare gjeld modellen $$p=79-12,2 \\ln(x)$$ der $x$ er den daglege etterspurnaden når vara kostar $p$ kr. \n",
    "\n",
    "Inntektene finn me ved å ganga prisen med tal solgte eininigar.     \n",
    "\n",
    "$$\\begin{align*}\n",
    "I(x) &= p(x) \\cdot x \\\\\n",
    "&= (79-12.2\\ln(x))\\cdot x\n",
    "\\end{align*}$$\n",
    "\n",
    "::: {.panel-tabset}\n",
    "## Python\n",
    "\n",
    "Løyser i Python med `SymPy`"
   ]
  },
  {
   "cell_type": "code",
   "execution_count": 46,
   "metadata": {},
   "outputs": [
    {
     "data": {
      "text/latex": [
       "$\\displaystyle \\left\\{239.0\\right\\}$"
      ],
      "text/plain": [
       "{239.0}"
      ]
     },
     "execution_count": 46,
     "metadata": {},
     "output_type": "execute_result"
    }
   ],
   "source": [
    "from sympy import diff, ln\n",
    "x = Symbol(\"x\")\n",
    "\n",
    "# definerer og deriverer I\n",
    "I = (79 - 12.2 * ln(x)) * x \n",
    "dI = I.diff()\n",
    "\n",
    "# finn nullpunkt\n",
    "vs = dI\n",
    "hs = 0\n",
    "likning = Eq(vs, hs)\n",
    "løysing = solveset(likning, x, Reals)\n",
    "\n",
    "# skriv ut svaret\n",
    "løysing.evalf(3)"
   ]
  },
  {
   "cell_type": "markdown",
   "metadata": {},
   "source": [
    "Ser at produksjonsmengd på 239 gir størst inntekt. Finn prisen når $x=239$. "
   ]
  },
  {
   "cell_type": "code",
   "execution_count": 51,
   "metadata": {},
   "outputs": [
    {
     "data": {
      "text/latex": [
       "$\\displaystyle 12.0$"
      ],
      "text/plain": [
       "12."
      ]
     },
     "execution_count": 51,
     "metadata": {},
     "output_type": "execute_result"
    }
   ],
   "source": [
    "p = 79 - 12.2*ln(x)\n",
    "p.subs(x, 239).evalf(2)"
   ]
  },
  {
   "cell_type": "markdown",
   "metadata": {},
   "source": [
    "## GeoGebra\n",
    "\n",
    "Løyser i GeoGebra\n",
    "\n",
    "![](1c-cas.png)\n",
    "\n",
    ":::\n",
    "\n",
    "Pris på 12 kroner gir størst inntekt. "
   ]
  },
  {
   "cell_type": "markdown",
   "metadata": {},
   "source": [
    "### d) Grensekostnad og grenseinntekt\n",
    "\n",
    "Kostnadsfunksjon gitt ved $$K(x)=0,21x^2 + 10x + 910$$\n",
    "\n",
    "Vil finna $x$ som gjer at grensekostnad og grenseinntekt blir like. "
   ]
  },
  {
   "cell_type": "code",
   "execution_count": 61,
   "metadata": {},
   "outputs": [
    {
     "data": {
      "text/latex": [
       "$\\displaystyle 80.0$"
      ],
      "text/plain": [
       "80."
      ]
     },
     "execution_count": 61,
     "metadata": {},
     "output_type": "execute_result"
    }
   ],
   "source": [
    "from sympy import nsolve\n",
    "\n",
    "# definerer og deriverer I\n",
    "I = (79 - 12.2 * ln(x)) * x \n",
    "dI = I.diff()\n",
    "\n",
    "# definerer og deriverer K\n",
    "K = 0.021*x**2 + 10*x + 910\n",
    "dK = K.diff()\n",
    "\n",
    "# set opp og løyser likninga\n",
    "vs = dI \n",
    "hs = dK\n",
    "\n",
    "# løyser numerisk, nsolve treng startverdi\n",
    "# ber han starta på 1\n",
    "gjett = 1\n",
    "\n",
    "likning = Eq(vs, hs)\n",
    "løysing = nsolve(likning, x, gjett)\n",
    "løysing.evalf(2)"
   ]
  },
  {
   "cell_type": "markdown",
   "metadata": {},
   "source": [
    "Grensekostnadene og grenseinntektene er like når det vert solgt 80 einingar. \n",
    "\n",
    "Dette er vinningsoptimal produksjonsmengde, sidan det er her overskotsfunksjonen har sitt ekstremalpunkt. \n",
    "\n",
    "$$\\begin{align*}\n",
    "O(x) &= I(x) - K(x) \\\\\n",
    "O'(x) &= I'(x) - K'(x) \\\\ \\\\\n",
    "O'(x) &= 0 \\\\ &\\Updownarrow \\\\ I'(x)&=K'(x)\n",
    "\\end{align*}$$"
   ]
  },
  {
   "cell_type": "markdown",
   "metadata": {},
   "source": [
    "## Oppgåve 2\n",
    "\n",
    "Miriam set inn 20 000 kr i byrjinga av kvart år. Første innskot i starten av 2024, andre innskot i starten av 2025 osb. Fast årleg rentesats på 3,5 %. "
   ]
  },
  {
   "cell_type": "markdown",
   "metadata": {},
   "source": [
    "### a) etter 20 innskot\n",
    "\n",
    "Bruker `python` for å finna ut av dette. Like etter at ho har sett inn innskot 20 betyr at dette ikkje har forrenta seg. Innskot 19 vil ha forrenta seg ein gong, nr. 18 to gongar osb. "
   ]
  },
  {
   "cell_type": "code",
   "execution_count": 62,
   "metadata": {},
   "outputs": [
    {
     "name": "stdout",
     "output_type": "stream",
     "text": [
      "På konto rett etter innskot 20: 565594\n"
     ]
    }
   ],
   "source": [
    "innskot = 20000\n",
    "\n",
    "konto = 0\n",
    "rente = 1.035\n",
    "\n",
    "for år in range(20):\n",
    "    konto = konto + innskot\n",
    "    innskot = innskot * 1.035\n",
    "\n",
    "print(f\"På konto rett etter innskot nr 20: {konto:.0f} kr\")"
   ]
  },
  {
   "cell_type": "markdown",
   "metadata": {},
   "source": [
    "### b) Hermod sitt sparebeløp\n",
    "\n",
    "Prøver meg fram med utgangskpunkt i koden frå (a)"
   ]
  },
  {
   "cell_type": "code",
   "execution_count": 69,
   "metadata": {},
   "outputs": [
    {
     "name": "stdout",
     "output_type": "stream",
     "text": [
      "24500\n"
     ]
    }
   ],
   "source": [
    "# metoden frå (a) som funksjon\n",
    "def etter20år(innskot):\n",
    "    innskot = innskot\n",
    "\n",
    "    konto = 0 \n",
    "    rente = 1.035\n",
    "\n",
    "    for år in range(20):\n",
    "        konto = konto + innskot\n",
    "        innskot = innskot * 1.035\n",
    "\n",
    "    return konto\n",
    "\n",
    "# veit frå (a) at innskotet er større enn 20000\n",
    "innskot = 20000\n",
    "\n",
    "# prøver meg fram til eg finn innskotet\n",
    "while etter20år(innskot) <= 692852:\n",
    "    innskot = innskot + 1 \n",
    "\n",
    "print(innskot)"
   ]
  },
  {
   "cell_type": "markdown",
   "metadata": {},
   "source": [
    "Han må setje inn 24 500 kr kvart år for å få 692 852 kr etter det 20. innskotet. "
   ]
  },
  {
   "cell_type": "markdown",
   "metadata": {},
   "source": [
    "### c) Variabelt innskot"
   ]
  },
  {
   "cell_type": "markdown",
   "metadata": {},
   "source": [
    "Første innskot blir $20000 + 0x$. Andre innskot blir $20000+x$, tredje $20000+2x$ osv. \n",
    "\n",
    "Første innskot forrentar seg 19 gongar, til $(20000+0x)\\cdot 1,035^{19}$. Andre innskot blir til $(20000 + x)\\cdot 1,035^{18}$ osv. \n",
    "\n",
    "Dermed får me $$(20000 + (1-1)x)\\cdot 1,035^{20-1} + (20000 + (2-1)x)\\cdot 1,035^{20-2} + \\ldots (20000 + (20-1)x)\\cdot 1,035^{20-20} $$\n",
    "\n",
    "Ser at denne summen kan delast inn i to summar \n",
    "$$\\begin{align*}\n",
    "s_1 &= 20000 + 20000\\cdot 1,035 + 20000\\cdot 1,035^2 + \\ldots 20000\\cdot 1,035^{19} \\\\\n",
    "s_2 &= (1-1)x\\cdot 1,035^{20-1} + (2-1)x\\cdot 1,035^{20-2} + \\ldots (20-1)x\\cdot 1,035^{20-20}\n",
    "\\end{align*}$$\n",
    "\n",
    "Frå (a) veit me at $s_1 = 565594$. Dermed må me finna $x$ slik at $s_2 = 1000000-565594$. "
   ]
  },
  {
   "cell_type": "code",
   "execution_count": 93,
   "metadata": {},
   "outputs": [
    {
     "name": "stdout",
     "output_type": "stream",
     "text": [
      "Sparebeløpet må aukast med 1836.5 kr pr. år\n",
      "Då har ho 1000040.73 kr på konto rett etter innskot nr. 20\n"
     ]
    }
   ],
   "source": [
    "def sum_auke(x):\n",
    "    total = 0\n",
    "\n",
    "    for i in range(1, 21):\n",
    "        ledd = (i-1)*x * 1.035**(20-i)\n",
    "        total = total + ledd\n",
    "\n",
    "    return total\n",
    "\n",
    "# det variable sparebeløpet må \n",
    "# voksa til \"mål\"\n",
    "mål = 1000000 - 565594\n",
    "\n",
    "# startverdi\n",
    "x = 0\n",
    "\n",
    "# finn auken \n",
    "while sum_auke(x) < mål:\n",
    "    x = x + 0.5\n",
    "\n",
    "print(f\"Sparebeløpet må aukast med {x} kr pr. år\")\n",
    "print(f\"Då har ho {sum_auke(x) + 565594:.2f} kr på konto rett etter innskot nr. 20\")"
   ]
  },
  {
   "cell_type": "markdown",
   "metadata": {},
   "source": [
    "## Oppgåve 3 \n",
    "\n",
    "Vinterdekk med bremselengd 83 meter under bestemte forhold. \n",
    "\n",
    "$X$: bremselengda ved eit tilfeldig måling under dei bestemte forholda.  \n",
    "$X$ er normalfordelt med $\\mu = 83\\,m$ og $\\sigma = 3,0\\, m$\n",
    "\n",
    "Mykje her kan løysast i sannsynskalkulatoren til GeoGebra. Eg vel å nytta simuleringar for å finna svara her. \n"
   ]
  },
  {
   "cell_type": "code",
   "execution_count": 5,
   "metadata": {},
   "outputs": [],
   "source": [
    "# importerer numpy og lagar tilfeldighetsgenerator\n",
    "import numpy as np\n",
    "rng = np.random.default_rng()"
   ]
  },
  {
   "cell_type": "markdown",
   "metadata": {},
   "source": [
    "\n",
    "### a) Bremselengd over 87 meter \n",
    "\n",
    "Simulerer mange tilfeldige målingar og ser kor mange som er over 87 meter. "
   ]
  },
  {
   "cell_type": "code",
   "execution_count": 25,
   "metadata": {},
   "outputs": [
    {
     "name": "stdout",
     "output_type": "stream",
     "text": [
      "P(X > 87) = 0.0912\n"
     ]
    }
   ],
   "source": [
    "N = 100000000\n",
    "\n",
    "bremselengd = rng.normal(83, 3.0, size=N)\n",
    "\n",
    "gunstige = sum(bremselengd > 87)\n",
    "\n",
    "sannsyn = gunstige / N\n",
    "\n",
    "print(f\"P(X > 87) = {sannsyn:.4f}\")"
   ]
  },
  {
   "cell_type": "markdown",
   "metadata": {},
   "source": [
    "Køyrer simuleringa med 100 000 000 forsøk fleire gongar og ser at $P(X>87)=0,0912$. "
   ]
  },
  {
   "cell_type": "markdown",
   "metadata": {},
   "source": [
    "#### Ved rekning\n",
    "\n",
    "Bruker `scipy.stats` sin `norm.cdf(x, forventningsverdi, standardavvik)` for å bestemma sannsynet. Den returnerer $P(X\\leq x)$, så for å finna $P(X>x)$ trekk eg resultatet frå 1. "
   ]
  },
  {
   "cell_type": "code",
   "execution_count": 2,
   "metadata": {},
   "outputs": [
    {
     "name": "stdout",
     "output_type": "stream",
     "text": [
      "P(X > 87) = 0.0912\n"
     ]
    }
   ],
   "source": [
    "from scipy.stats import norm\n",
    "\n",
    "mu = 83          # gjennomsnitt\n",
    "sigma = 3        # standardavvik\n",
    "x = 87  \n",
    "\n",
    "sannsyn = 1 - norm.cdf(x, mu, sigma)\n",
    "\n",
    "print(f\"P(X > 87) = {sannsyn:.4f}\")"
   ]
  },
  {
   "cell_type": "markdown",
   "metadata": {},
   "source": [
    "### b) Bestemme k\n",
    "\n",
    "Bestem $k$ slik at $P(X < k)=0,9$. Gje ei praktisk tolking av svaret\n",
    "\n",
    "#### Ved rekning (i SciPy)\n",
    "\n",
    "Finn $k$ med `scipy.stats` sin `norm.ppf` som finn kva $k$ som gjer at $P(X\\leq k) = p$. Oppgåva spør etter $P(X<k)$ men antar at sannsynet for akkurat $P(X=k)$ er så lite at denne skilnaden ikkje er relevant.   "
   ]
  },
  {
   "cell_type": "code",
   "execution_count": 4,
   "metadata": {},
   "outputs": [
    {
     "name": "stdout",
     "output_type": "stream",
     "text": [
      "k = 86.84\n"
     ]
    }
   ],
   "source": [
    "from scipy.stats import norm\n",
    "\n",
    "mu = 83          # gjennomsnitt\n",
    "sigma = 3        # standardavvik\n",
    "sannsyn = 0.9  \n",
    "\n",
    "\n",
    "# Finn k-verdien for det gjevne sannsynet\n",
    "k = norm.ppf(sannsyn, mu, sigma)\n",
    "print(f\"k = {k:.2f}\")"
   ]
  },
  {
   "cell_type": "markdown",
   "metadata": {},
   "source": [
    "#### Ved simulering\n",
    "\n",
    "Tek utgangspunkt i koden frå a), men minkar gradvis bremselengda (`k`) til sannsynet vert 0,9. "
   ]
  },
  {
   "cell_type": "code",
   "execution_count": 6,
   "metadata": {},
   "outputs": [
    {
     "name": "stdout",
     "output_type": "stream",
     "text": [
      "k = 86.86\n"
     ]
    }
   ],
   "source": [
    "N = 10000000\n",
    "\n",
    "# startverdiar\n",
    "k = 85   \n",
    "sannsyn = 0 \n",
    "\n",
    "# held på til sannsynet passerer 0.9\n",
    "while sannsyn < 0.9:\n",
    "    bremselengd = rng.normal(83, 3.0, size=N)\n",
    "    gunstige = sum(bremselengd <= k)\n",
    "    sannsyn = gunstige / N\n",
    "    k = k + 0.01\n",
    "\n",
    "print(f\"k = {k:.2f}\")"
   ]
  },
  {
   "cell_type": "markdown",
   "metadata": {},
   "source": [
    "Ser at $k$ må vera omtrent 86,8 m.  \n",
    "Dette betyr at det er 90 prosent sannsynleg at bremselengda ved ei tilfeldig måling er kortare enn 86,8 meter under dei bestemte forholda. "
   ]
  },
  {
   "cell_type": "markdown",
   "metadata": {},
   "source": [
    "### c) Bestemme sannsyn for gjennomsnitt av 15 målingar\n",
    "\n",
    "Løyser denne og med simulering, men på ein litt annan måte. \n",
    "Simulerer 15 målingar `N` gongar i ein tabell som er `N` brei og 15 høg. Finn vidare gjennomsnittet kolonnevis (dermed snittet av 15 tilfeldige målingar). \n"
   ]
  },
  {
   "cell_type": "code",
   "execution_count": 19,
   "metadata": {},
   "outputs": [
    {
     "name": "stdout",
     "output_type": "stream",
     "text": [
      "P(snitt 15 målingar < 84 m) = 0.9018\n"
     ]
    }
   ],
   "source": [
    "# tal simuleringar\n",
    "N = 10000000\n",
    "\n",
    "# simulerer 15 tilfeldige målingar N gongar\n",
    "simulert = rng.normal(83, 3.0, size=(15, N))\n",
    "\n",
    "# axis=0 -> finn snitt av kolonner\n",
    "snitt = np.average(simulert, axis=0)\n",
    "\n",
    "# tel opp gunstige og finn sannsynet\n",
    "gunstige = sum(snitt < 84)\n",
    "sannsyn = gunstige / N\n",
    "\n",
    "print(f\"P(snitt 15 målingar < 84 m) = {sannsyn:.4f}\")"
   ]
  },
  {
   "cell_type": "markdown",
   "metadata": {},
   "source": [
    "#### Ved rekning\n",
    "\n",
    "Veit $\\mu$ og $\\sigma$ for ei tilfeldig måling. Finn $E(15X)$ og $SD(15X)$. \n",
    "$$\\begin{align*}\n",
    "E(15X)&= 15\\cdot E(X) = 15\\cdot 83 m = 1245 m \\\\\n",
    "SD(15X) &= SD(X)\\cdot \\sqrt{15} = 3.0m \\cdot \\sqrt{15} \\approx 11,6 m\n",
    "\\end{align*}$$\n",
    "Bruker `scipy.stats` for å rekna ut sannsynet for at 15 målingar er mindre enn $15\\cdot84m$.\n"
   ]
  },
  {
   "cell_type": "code",
   "execution_count": 3,
   "metadata": {},
   "outputs": [
    {
     "name": "stdout",
     "output_type": "stream",
     "text": [
      "P(snitt 15 målingar < 84 m) = 0.9020\n"
     ]
    }
   ],
   "source": [
    "from scipy.stats import norm\n",
    "\n",
    "mu = 1245\n",
    "sigma = 11.6\n",
    "x = 15*84\n",
    "\n",
    "sannsyn = norm.cdf(x, mu, sigma)\n",
    "\n",
    "print(f\"P(snitt 15 målingar < 84 m) = {sannsyn:.4f}\")"
   ]
  },
  {
   "cell_type": "markdown",
   "metadata": {},
   "source": [
    "Begge metodane viser at sannsynet for at snittet av 15 målingar er under 84m er 0.902. "
   ]
  },
  {
   "cell_type": "markdown",
   "metadata": {},
   "source": [
    "### d) Hypotesetest\n",
    "\n",
    "Det blir påstått at bremselengda er lenger enn 83 meter.  \n",
    "Gjennomført 15 målingar. "
   ]
  },
  {
   "cell_type": "code",
   "execution_count": 9,
   "metadata": {},
   "outputs": [],
   "source": [
    "målingar =  np.array([\n",
    "    86.4, 85.5, 82.9, 81.9, 84.0,\n",
    "    86.4, 82.3, 85.9, 77.7, 83.0, \n",
    "    86.9, 88.3, 86.2, 80.5, 84.8\n",
    "    ])"
   ]
  },
  {
   "cell_type": "markdown",
   "metadata": {},
   "source": [
    "**Hypoteser**  \n",
    "$H_0$: Bremselengda er 83 meter (under bestemte forhold) $\\mu = 83$  \n",
    "$H_1$: Bremselengda er meir enn 83 meter (under bestemte forhold) $\\mu > 83$\n"
   ]
  },
  {
   "cell_type": "markdown",
   "metadata": {},
   "source": [
    "Finn gjennomsnittet av målingane våre. "
   ]
  },
  {
   "cell_type": "code",
   "execution_count": 14,
   "metadata": {},
   "outputs": [
    {
     "name": "stdout",
     "output_type": "stream",
     "text": [
      "84.18\n"
     ]
    }
   ],
   "source": [
    "mu_1 = np.average(målingar)\n",
    "print(mu_1)"
   ]
  },
  {
   "cell_type": "markdown",
   "metadata": {},
   "source": [
    "Reknar ut forventningsverdien og standardavviket til 15 målingar ut frå nullpypotesa sine verdiar (samme logikk og utrekning som i c):   \n",
    "Lar $X$ vera bremselengda ved ei tilfeldig måling slik at: $$X = X_1 + X_2 + \\ldots + X_{15}$$ Sidan alle målingane har samme forventningsverdi og standardavvik får me då at\n",
    "$$E(X)=15\\cdot 83 = 1245$$ \n",
    "og \n",
    "$$SD(X)=3.0 \\cdot \\sqrt{15} \\approx 11,6$$"
   ]
  },
  {
   "cell_type": "markdown",
   "metadata": {},
   "source": [
    "Samla resutat frå målingane ut frå snittet vårt finn me ved"
   ]
  },
  {
   "cell_type": "code",
   "execution_count": 16,
   "metadata": {},
   "outputs": [
    {
     "data": {
      "text/plain": [
       "1262.7"
      ]
     },
     "execution_count": 16,
     "metadata": {},
     "output_type": "execute_result"
    }
   ],
   "source": [
    "mu_1 * 15"
   ]
  },
  {
   "cell_type": "markdown",
   "metadata": {},
   "source": [
    "Sjekkar sannsynet for at $P(X\\geq 1262.7)$ når $\\mu=1245$ og $\\sigma=11.6$"
   ]
  },
  {
   "cell_type": "code",
   "execution_count": 18,
   "metadata": {},
   "outputs": [
    {
     "name": "stdout",
     "output_type": "stream",
     "text": [
      "P(X > 1262.7) = 0.0635\n"
     ]
    }
   ],
   "source": [
    "from scipy.stats import norm\n",
    "\n",
    "mu = 1245           # gjennomsnitt\n",
    "sigma = 11.6        # standardavvik\n",
    "x = 1262.7          # samla resultat frå datamaterialet  \n",
    "\n",
    "sannsyn = 1 - norm.cdf(x, mu, sigma)\n",
    "\n",
    "print(f\"P(X > {x}) = {sannsyn:.4f}\")"
   ]
  },
  {
   "cell_type": "markdown",
   "metadata": {},
   "source": [
    "Dette tilsvarar ca 6,4 %. Sidan me gjennomfører testen med signifikansnivå på 5% er det ikkje grunnlag for å forkaste $H_0$. \n",
    "\n",
    "Det er **ikkje** hold i mistanken. "
   ]
  },
  {
   "cell_type": "markdown",
   "metadata": {},
   "source": [
    "## Oppgåve 4\n",
    "\n",
    "Figurtal, pentagonar. \n",
    "\n",
    "$$\\begin{align*}\n",
    "P_1 &= 1 \\\\\n",
    "P_2 &= 6 \\\\\n",
    "P_3 &= 16 \\\\\n",
    "P_4 &= 31 \\\\\n",
    "P_5 &= 51 \\\\\n",
    "\\end{align*}$$"
   ]
  },
  {
   "cell_type": "markdown",
   "metadata": {},
   "source": [
    "### a) Rekursiv samanheng\n",
    "\n",
    "Ser at $P_2-P_1=5$, $P_3-P_2=10$, $P_4-P_3=15$ osb. \n",
    "\n",
    "Dermed er ein rekursiv formel som passar $$P_n = P_{n-1} + 5\\cdot (n-1)$$"
   ]
  },
  {
   "cell_type": "markdown",
   "metadata": {},
   "source": [
    "### b) Programmere rekursiv samanheng\n",
    "\n",
    "Lagar ein python-kode for å finna $P_{100}$"
   ]
  },
  {
   "cell_type": "code",
   "execution_count": 6,
   "metadata": {},
   "outputs": [
    {
     "name": "stdout",
     "output_type": "stream",
     "text": [
      "24751\n"
     ]
    }
   ],
   "source": [
    "# figurtall 1\n",
    "P = 1\n",
    "\n",
    "# figurtall 2 til og med 100\n",
    "for n in range(2, 101):\n",
    "    P = P + 5*(n-1)\n",
    "\n",
    "# skriv ut P_100\n",
    "print(P)"
   ]
  },
  {
   "cell_type": "markdown",
   "metadata": {},
   "source": [
    "## Oppgåve 5\n",
    "\n",
    "$X$: Høgda til tilfeldig vald jente på 24 månader.  \n",
    "$E(X)=87\\, cm$, $SD(X)=3,3\\, cm$\n",
    "\n",
    "$Y$: Høgda til tilfeldig vald gut på 24 månader.  \n",
    "$E(X)=88\\, cm$, $SD(X)=3,1\\, cm$\n",
    "\n",
    "Lagar eit program for å anslå sannsynet for at høgda til eit tilfeldig valt barn på 24 månader er mindre enn 84 cm. Antar at det er like mange jenter som gutar i populasjonen. "
   ]
  },
  {
   "cell_type": "code",
   "execution_count": 29,
   "metadata": {},
   "outputs": [
    {
     "name": "stdout",
     "output_type": "stream",
     "text": [
      "P(høgde < 84 cm) = 0.1400\n"
     ]
    }
   ],
   "source": [
    "import numpy as np\n",
    "rng = np.random.default_rng()\n",
    "\n",
    "# tal simuleringar \n",
    "N = 100000000\n",
    "\n",
    "# trekk tilfeldige barn og tel opp antal gutar (0) og jenter (1)\n",
    "barn = rng.integers(0, 2, size=N)\n",
    "j = sum(barn)\n",
    "g = N - j\n",
    "\n",
    "# finn høgda på jenter og gutar for seg\n",
    "hj = rng.normal(87, 3.3, size=j)\n",
    "hg = rng.normal(88, 3.1, size=g)\n",
    "\n",
    "# tel opp gunstige utfall\n",
    "gunstige = sum(hj < 84) + sum(hg < 84)\n",
    "\n",
    "# reknar ut sannsynet\n",
    "sannsyn = gunstige / N\n",
    "print(f\"P(høgde < 84 cm) = {sannsyn:.4f}\")"
   ]
  },
  {
   "cell_type": "markdown",
   "metadata": {},
   "source": [
    "Køyrer koden med simulert trekk av 100 000 000 barn fleire gongar og ser at sannsynet for at eit barn på 24 mnd er mindre enn 84 cm er 0,14."
   ]
  }
 ],
 "metadata": {
  "kernelspec": {
   "display_name": "Python 3 (ipykernel)",
   "language": "python",
   "name": "python3"
  },
  "language_info": {
   "codemirror_mode": {
    "name": "ipython",
    "version": 3
   },
   "file_extension": ".py",
   "mimetype": "text/x-python",
   "name": "python",
   "nbconvert_exporter": "python",
   "pygments_lexer": "ipython3",
   "version": "3.11.6"
  },
  "vscode": {
   "interpreter": {
    "hash": "369f2c481f4da34e4445cda3fffd2e751bd1c4d706f27375911949ba6bb62e1c"
   }
  }
 },
 "nbformat": 4,
 "nbformat_minor": 4
}
