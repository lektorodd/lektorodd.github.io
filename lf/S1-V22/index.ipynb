{
 "cells": [
  {
   "cell_type": "raw",
   "metadata": {},
   "source": [
    "---\n",
    "title: \"Eksamen V22 S1\"\n",
    "from: markdown+emoji\n",
    "author: \"Torodd F. Ottestad\"\n",
    "date: \"05-03-2023\"\n",
    "categories: [S1, V22, eksamen]\n",
    "image: \"exam.png\"\n",
    "---"
   ]
  },
  {
   "attachments": {},
   "cell_type": "markdown",
   "metadata": {},
   "source": [
    "# Løysingsforslag S1 - V22 \n",
    "\n",
    "Her er eit forslag til løysing av våreksamen i S1 2022. I del 2 er oppgåvene stort sett løyst i Python eller CAS.\n",
    "\n",
    "Eg kan ikkje lova at løysinga er feilfri... 😊 Gje meg gjerne [ein lyd](/about.qmd) om du ser feil. \n",
    "\n",
    "---\n",
    "\n",
    "Eksamenssettet finn du hos UDIR: [Finn eksamensoppgaver](https://sokeresultat.udir.no/eksamensoppgaver.html)"
   ]
  },
  {
   "attachments": {},
   "cell_type": "markdown",
   "metadata": {},
   "source": [
    "\n",
    "# Del 1\n",
    "\n",
    "## Oppgåve 1\n",
    "Skriv så enkelt som råd\n",
    "\n",
    "$$ \\begin{align*} \n",
    "\\left(2a\\right)^{-1}\\cdot \\left(\\frac{b}{2}\\right)^{-3}\\cdot \\left(a\\cdot b\\right)^3 &= \\frac{1}{2a}\\cdot \\frac{2^3}{b^3}\\cdot a^3 \\cdot b^3 \\\\\n",
    "&= \\frac{2^3 \\cdot a^3 \\cdot b^3}{2\\cdot a \\cdot b^3} \\\\\n",
    "&= 2^2 \\cdot a \\\\ &= 4a\n",
    "\\end{align*}$$\n"
   ]
  },
  {
   "attachments": {},
   "cell_type": "markdown",
   "metadata": {},
   "source": [
    "## Oppgåve 2\n",
    "\n",
    "Dagleg produksjonskostnad for $x$ luer gitt ved\n",
    "$$E(x)=0,2x+40+\\frac{20000}{x}$$\n",
    "\n",
    "Deriverer $E(x)$\n",
    "\n",
    "$$E'(x) = 0,2 + 0 + 20000\\cdot \\frac{-1}{x^2} = 0,2 - \\frac{20000}{x^2}$$\n",
    "\n",
    "Dermed får me\n",
    "\n",
    "$$E'(100)=0,2-\\frac{20000}{10000} = 0,2-2 = -1,8$$\n",
    "\n",
    "Dette betyr at ved 100 produserte einingar vil *endringa* i produksjonskostnaden vera $-1,8$. Altså vil det bli om lag 1,8 kr billegare å produsere kvar lue om ein aukar produksjonen frå 100 til 101. "
   ]
  },
  {
   "attachments": {},
   "cell_type": "markdown",
   "metadata": {},
   "source": [
    "## Oppgåve 3\n",
    "\n",
    "$$\n",
    "\\begin{align*}\n",
    "    \\lim_{x\\rightarrow 3} \\frac{x-3}{x^2+x-12} &= \\lim_{x\\rightarrow 3} \\frac{x-3}{(x+4)(x-3)} \\\\\n",
    "    &= \\lim_{x\\rightarrow 3} \\frac{1}{x+4} \\\\\n",
    "    &= \\frac{1}{3+4} \\\\\n",
    "    &= \\frac{1}{7}\n",
    "\\end{align*}\n",
    "$$"
   ]
  },
  {
   "attachments": {},
   "cell_type": "markdown",
   "metadata": {},
   "source": [
    "## Oppgåve 4\n",
    "\n",
    "Skal løysa likninga $e^{2x}-e^x=2$. Bruker at $e^{2x}=\\left(e^x\\right)^2$. Dermed får me\n",
    "$$\\left(e^x\\right)^2 - e^x = 2$$\n",
    "\n",
    "Bytter ut $e^x$ med $u$ og løyser andregradslikninga for $u$\n",
    "\n",
    "$$\n",
    "\\begin{align*}\n",
    "    u^2 - u &= 2 \\\\\n",
    "    u^2 - u - 2 &= 0 \\\\\n",
    "    (u+1)(u-2)&= 0 \\\\\n",
    "    u=-1 &\\vee u = 2 \\\\\n",
    "    \\text{Som vil seie at} \\\\\n",
    "    e^x = -1 &\\vee e^x =2 \\\\\n",
    "\\end{align*}\n",
    "$$\n",
    "\n",
    "Tar logarimten av begge sider for å få $x$ for å finna $x$. Får kun ei løysing, $x = \\ln(2)$, sidan den naturlege logaritmen kun er definert for positive tal. "
   ]
  },
  {
   "attachments": {},
   "cell_type": "markdown",
   "metadata": {},
   "source": [
    "## Oppgåve 5\n",
    "\n",
    "Set inn $x=7$ i likninga\n",
    "$$ \\begin{align*}\n",
    "    \\lg(x+3) + \\lg (x) &= \\lg(a) \\\\\n",
    "    \\lg(10) + \\lg(7) &= \\lg(a) \\\\\n",
    "    \\lg(10\\cdot 7) &= \\lg(a)\n",
    "\\end{align*} $$\n",
    "\n",
    "Dermed er $a=70$. "
   ]
  },
  {
   "attachments": {},
   "cell_type": "markdown",
   "metadata": {},
   "source": [
    "## Oppgåve 6\n",
    "\n",
    "### a) programkode\n",
    "Når programmet køyrer vil det bli trilla to terningar 1000000 gongar (`N`). Ein tel opp kor mange av desse kasta summen av terningane blir 9 (`gunstige`). Til slutt skriv ein ut den relative frekvensen (`gunstige/N`). \n",
    "\n",
    "Eleven ønsker å finna ut kva sannsynet for at eit terningkast med to terningar gir summen 9 (*eller* ein terning kasta to gongar). \n",
    "\n",
    "### b) sannsynsrekning\n",
    "\n",
    "Tel opp antall gunstige utfall (her er det lurt å teikne t.d. tabell eller valtre).\n",
    "\n",
    "Det er $4$ utfall som gjev $9$ som sum. ($3+6$, $4+5$, $5+4$ og $6+3$). \n",
    "\n",
    "Vidare er det $6\\cdot 6 = 36$ moglege utfall. \n",
    "\n",
    "$$P(\\text{summen er 9}) = \\frac{\\text{gunstige}}{\\text{moglege}} = \\frac{4}{36}=\\frac{1}{9}$$\n",
    "\n"
   ]
  },
  {
   "attachments": {},
   "cell_type": "markdown",
   "metadata": {},
   "source": [
    "# Del 2\n",
    "\n",
    "## Oppgåve 1\n",
    "\n",
    "Tabellen nedanfor viser talet på gardsbruk i Noreg for nokre gitte årstal.\n",
    "\n",
    "| År | Tal gardsbruk |\n",
    "|---|---|\n",
    "|1969 |154 977|\n",
    "|1989 |99 382|\n",
    "|1999 |68 539|\n",
    "|2009 |47 688|\n",
    "|2020 |38 633|\n"
   ]
  },
  {
   "attachments": {},
   "cell_type": "markdown",
   "metadata": {},
   "source": [
    "### a) modell for framtida\n",
    "\n",
    "Plottar først datapunkta for å få ei oversikt over korleis det ser ut"
   ]
  },
  {
   "cell_type": "code",
   "execution_count": 1,
   "metadata": {},
   "outputs": [
    {
     "data": {
      "image/png": "[encoded data removed]",
      "text/plain": [
       "<Figure size 640x480 with 1 Axes>"
      ]
     },
     "metadata": {},
     "output_type": "display_data"
    }
   ],
   "source": [
    "import matplotlib.pyplot as plt\n",
    "import numpy as np\n",
    "\n",
    "år = [0, 20, 30, 40, 51]\n",
    "gårdar = [154977, 99382, 68539, 47688, 38633]\n",
    "\n",
    "plt.plot(år, gårdar, \"ro\")\n",
    "plt.show()"
   ]
  },
  {
   "attachments": {},
   "cell_type": "markdown",
   "metadata": {},
   "source": [
    "Det kan sjå ut som om nedgangen vert mindre og mindre. Ser om det kan passa med ein modell for prosentvis nedgang (eksponentiell modell). \n",
    "\n",
    "Bruker `curve_fit` for å finna ein funksjon på forma $f(x)=a \\cdot b^x$"
   ]
  },
  {
   "cell_type": "code",
   "execution_count": 5,
   "metadata": {},
   "outputs": [
    {
     "data": {
      "image/png": "[encoded data removed]",
      "text/plain": [
       "<Figure size 640x480 with 1 Axes>"
      ]
     },
     "metadata": {},
     "output_type": "display_data"
    },
    {
     "name": "stdout",
     "output_type": "stream",
     "text": [
      "f(x)=157256.2*0.973^x\n"
     ]
    }
   ],
   "source": [
    "from scipy.optimize import curve_fit\n",
    "\n",
    "def f(x, a, b):\n",
    "    return a*b**x\n",
    "\n",
    "K, E = curve_fit(f, år, gårdar)\n",
    "\n",
    "a, b = K\n",
    "\n",
    "x_verdiar = np.linspace(0, 65, 1000)\n",
    "\n",
    "plt.plot(x_verdiar, f(x_verdiar, a, b))\n",
    "plt.plot(år, gårdar, \"ro\")\n",
    "plt.ylim([0, 160000])\n",
    "plt.show()\n",
    "print(f\"f(x)={a:.1f}*{b:.3f}^x\")"
   ]
  },
  {
   "attachments": {},
   "cell_type": "markdown",
   "metadata": {},
   "source": [
    "Det kan sjå ut som modellen $$f(x)=157256 \\cdot 0,973^x$$ passar fint med datapunkta. \n",
    "\n",
    "I tillegg er det naturleg å tenka at talet på gardsbruk vil ha ein prosentvis nedgang som den i modellen over. På 60-70-talet var det mange små gårdsbruk som har blitt *slukt* av større gårdar. Med tanke på at me framleis held på med matproduksjon og landbruk, vil denne nedgangen i små gardsbruk (og auken i store) bli mindre og mindre over tid. "
   ]
  },
  {
   "attachments": {},
   "cell_type": "markdown",
   "metadata": {},
   "source": [
    "### b) framtida\n",
    "\n",
    "Reknar ut $f(2060-1969)$:"
   ]
  },
  {
   "cell_type": "code",
   "execution_count": 6,
   "metadata": {},
   "outputs": [
    {
     "name": "stdout",
     "output_type": "stream",
     "text": [
      "Gårdar i 2060: \n",
      "f(91) = 13248\n"
     ]
    }
   ],
   "source": [
    "x = 2060-1969\n",
    "framtid = f(x, a, b)\n",
    "print(f\"Gårdar i 2060: \\nf({x}) = {framtid:.0f}\")"
   ]
  },
  {
   "attachments": {},
   "cell_type": "markdown",
   "metadata": {},
   "source": [
    "Det er vanskeleg å seie mykje om dette svaret utan meir bakgrunnskunnskap og andre data. Likevel tenker eg at det er eit rimeleg svar, dersom t.d. automatisering og liknande effektiviserer landbruket, slik at det trengs færre bønder (og gjerne færre gårdar). På den andre sida kan det tenkast at ustabile globale tilhøve på matforsyning gjer at talet på gårdsbruk vert høgare. Som sagt, vanskeleg å seie noko om. "
   ]
  },
  {
   "attachments": {},
   "cell_type": "markdown",
   "metadata": {},
   "source": [
    "### c) nedgang med 1000\n",
    "\n",
    "Her kunne me jo løyst likninga $f'(x)=-1000$, men me prøver oss på ein annan framgongsmåte i Python. \n",
    "\n",
    "Lagar ei `while`-løkke som ser på skilnaden mellom eit år og det neste. Av grafen veit/ser me at i starten er nedgangen mykje større enn 1000 i året (ca. 56 000 færre frå 1969 til 1989). \n",
    "Held difor på så lenge skilnaden på to påfølgjande år er større enn 1000 (bruker absoluttverdi)"
   ]
  },
  {
   "cell_type": "code",
   "execution_count": 9,
   "metadata": {},
   "outputs": [
    {
     "name": "stdout",
     "output_type": "stream",
     "text": [
      "x = 53\n",
      "f(53) = 37224.1\n",
      "f(54) = 36225.7\n",
      "Endring: -998.4\n"
     ]
    }
   ],
   "source": [
    "x = 0\n",
    "\n",
    "f0 = f(x, a, b)\n",
    "f1 = f(x+1, a, b)\n",
    "\n",
    "while abs(f1-f0) >= 1000:\n",
    "    x +=1 \n",
    "    f0 = f(x, a, b)\n",
    "    f1 = f(x+1, a, b)\n",
    "\n",
    "print(f\"x = {x}\")\n",
    "print(f\"f({x}) = {f0:.1f}\")\n",
    "print(f\"f({x+1}) = {f1:.1f}\")\n",
    "print(f\"Endring: {(f1-f0):.1f}\")"
   ]
  },
  {
   "attachments": {},
   "cell_type": "markdown",
   "metadata": {},
   "source": [
    "Ser at når $x=53$ er nedgangen ca. 1000 gårdsbruk. Dvs. kring år 2022. "
   ]
  },
  {
   "attachments": {},
   "cell_type": "markdown",
   "metadata": {},
   "source": [
    ":::{.callout-tip}\n",
    "## Løyse symbolsk i `sympy` \n",
    "\n",
    "Me kan løysa likninga $f'(x)=-1000$ med `sympy`/CAS"
   ]
  },
  {
   "cell_type": "code",
   "execution_count": 46,
   "metadata": {},
   "outputs": [
    {
     "name": "stdout",
     "output_type": "stream",
     "text": [
      "x = {53.4}\n"
     ]
    }
   ],
   "source": [
    "#| code-fold: true\n",
    "#| code-summary: \"Vis koden\"\n",
    "# importerer aktuelle funksjonar frå sympy\n",
    "from sympy import Symbol, diff, Eq, Reals, solveset\n",
    "\n",
    "# definerer x\n",
    "x = Symbol(\"x\")\n",
    "\n",
    "# definerer funksjonen og deriverer\n",
    "f = a * b**x\n",
    "df = diff(f, x)\n",
    "\n",
    "# set opp likninga, og løyser den\n",
    "likning = Eq(df, -1000)\n",
    "løysing = solveset(likning, x, domain=Reals)\n",
    "\n",
    "# skriv ut svaret\n",
    "print(f\"x = {løysing.evalf(3)}\")"
   ]
  },
  {
   "attachments": {},
   "cell_type": "markdown",
   "metadata": {},
   "source": [
    ":::"
   ]
  },
  {
   "attachments": {},
   "cell_type": "markdown",
   "metadata": {},
   "source": [
    "## Oppgåve 2\n",
    "\n",
    "### a) binomisk forsøk?\n",
    "\n",
    "Dersomm dette skal vera eit binomisk forsøk må me gå ut frå at sannsynet for at kvar av dei består er det same (74 %) og at oppkøyringa til kvar av elevane er uavhengige \"delforsøk\". Dvs. at om ein elev stryk (eller består) oppkøyringa så påverkar ikkje det resultatet til dei andre. I tillegg er det her slik at kvar delforsøk kun har to utfall, *bestå* og *ikkje bestå*. \n",
    "\n",
    "I praksis vil nok ikkje sannynet vera det samme for kvar elev. Ein har ulike føresetnader, er ulikt førebudd, vert ulikt påverka av nerver/stress osb. I tillegg kan ein tenka seg at om ein av dei stryk (og dei andre får høyra det) så kan det påverka oppkøyringa til nestemann."
   ]
  },
  {
   "attachments": {},
   "cell_type": "markdown",
   "metadata": {},
   "source": [
    "### b) sannsyn for at 8 av 12 består\n",
    "\n",
    "For å finna dette sannsynet kan me simulera dei 12 oppkøyringane mange gongar og telja opp kor mange av dei minst 8 består. Me antar at dette kan sjåast på som eit binomisk forsøk. "
   ]
  },
  {
   "cell_type": "code",
   "execution_count": 49,
   "metadata": {},
   "outputs": [
    {
     "name": "stdout",
     "output_type": "stream",
     "text": [
      "P(X >= 8) = 0.8211\n"
     ]
    }
   ],
   "source": [
    "import numpy as np\n",
    "rng = np.random.default_rng()\n",
    "\n",
    "N = 1000000 # tal simuleringar\n",
    "n = 12      # tal elevar\n",
    "p = 0.74    # sannynet for suksess (bestå)\n",
    "X = 8       # minst X suksess\n",
    "\n",
    "# simulerer\n",
    "oppkøyringar = rng.binomial(n, p, size = N)\n",
    "\n",
    "# tel opp\n",
    "gunstige = sum(oppkøyringar >= X)\n",
    "\n",
    "# finn og skriv ut sannsynet\n",
    "sannsyn = gunstige/N\n",
    "print(f\"P(X >= 8) = {sannsyn:.4f}\")\n"
   ]
  },
  {
   "attachments": {},
   "cell_type": "markdown",
   "metadata": {},
   "source": [
    "### c) akkurat 5 gutar og 4 jenter\n",
    "\n",
    "Ser på gutane og jentene for seg. Multipliserer saman sannsyna sidan dei to hendingane er uavhengige. "
   ]
  },
  {
   "cell_type": "code",
   "execution_count": 52,
   "metadata": {},
   "outputs": [
    {
     "name": "stdout",
     "output_type": "stream",
     "text": [
      "P(5 gutar og 4 jenter) = 0.1232\n"
     ]
    }
   ],
   "source": [
    "N = 1000000 # tal simuleringar\n",
    "n_g = 7     # tal gutar\n",
    "X_g = 5     # gutar som består\n",
    "n_j = 5     # tal jenter\n",
    "X_j = 4     # jenter som består\n",
    "p = 0.74    # sannynet for suksess (bestå)\n",
    "\n",
    "# simulerer\n",
    "gutar = rng.binomial(n_g, p, size=N)\n",
    "jenter = rng.binomial(n_j, p, size=N)\n",
    "\n",
    "# tel opp\n",
    "gunstige_g = sum(gutar == X_g)\n",
    "gunstige_j = sum(jenter == X_j)\n",
    "\n",
    "# finn og skriv ut sannsynet\n",
    "sannsyn_g = gunstige_g/N\n",
    "sannsyn_j = gunstige_j/N\n",
    "\n",
    "# hendingane er uavhengige, dermed får me:\n",
    "sannsyn = sannsyn_g * sannsyn_j\n",
    "print(f\"P(5 gutar og 4 jenter) = {sannsyn:.4f}\")"
   ]
  },
  {
   "attachments": {},
   "cell_type": "markdown",
   "metadata": {},
   "source": [
    "## Oppgåve 3\n",
    "\n",
    "70 000 kr på konto, med fast månadleg rentesats $$B(x) = 70000\\cdot 1,003^x$$\n",
    "\n",
    "### a) årleg rentesats"
   ]
  },
  {
   "cell_type": "code",
   "execution_count": 53,
   "metadata": {},
   "outputs": [
    {
     "name": "stdout",
     "output_type": "stream",
     "text": [
      "1.03659998028813\n"
     ]
    }
   ],
   "source": [
    "print(1.003**12)"
   ]
  },
  {
   "attachments": {},
   "cell_type": "markdown",
   "metadata": {},
   "source": [
    "Knut har ein årleg rentesats på ca. 3,7 prosent. "
   ]
  },
  {
   "attachments": {},
   "cell_type": "markdown",
   "metadata": {},
   "source": [
    "### b) 80 000 kroner\n",
    "\n",
    "Løyser likninga $B(x)=80000$. "
   ]
  },
  {
   "cell_type": "code",
   "execution_count": 59,
   "metadata": {},
   "outputs": [
    {
     "name": "stdout",
     "output_type": "stream",
     "text": [
      "{44.6}\n"
     ]
    }
   ],
   "source": [
    "from sympy import Symbol, Eq, solveset, Reals\n",
    "\n",
    "x = Symbol(\"x\")\n",
    "\n",
    "likning = Eq(70000*1.003**x, 80000)\n",
    "løysing = solveset(likning, x, domain=Reals)\n",
    "print(løysing.evalf(3))"
   ]
  },
  {
   "cell_type": "code",
   "execution_count": 63,
   "metadata": {},
   "outputs": [
    {
     "name": "stdout",
     "output_type": "stream",
     "text": [
      "3\n",
      "9\n"
     ]
    }
   ],
   "source": [
    "print(45 // 12)\n",
    "print(45 % 12)"
   ]
  },
  {
   "attachments": {},
   "cell_type": "markdown",
   "metadata": {},
   "source": [
    "Det tek 45 månader, 3 år og 9 månader, før beløpet har passert 80000 kr. "
   ]
  },
  {
   "attachments": {},
   "cell_type": "markdown",
   "metadata": {},
   "source": [
    "### c) kontinuerleg?\n",
    "\n",
    "Aksjefond: 2000 kroner inn kvar månad (0,7 prosent avkasting per mnd.) <br>\n",
    "Konto: 0.3% renter. \n",
    "\n",
    "$T(x)$ er den totale verdien av aksjefond og sparekonto. \n",
    "\n",
    "Sidan han set inn 2000 kroner kvar månad vil funksjonen gjera eit hopp på desse tidspunkta, og ikkje vera kontinuerleg. \n",
    "\n"
   ]
  },
  {
   "attachments": {},
   "cell_type": "markdown",
   "metadata": {},
   "source": [
    "### d) meir enn 200 000 kroner?\n",
    "\n",
    "Prøver oss fram i Python. "
   ]
  },
  {
   "cell_type": "code",
   "execution_count": 70,
   "metadata": {},
   "outputs": [
    {
     "name": "stdout",
     "output_type": "stream",
     "text": [
      "Etter 47 månader er det 200218.45 kr\n"
     ]
    }
   ],
   "source": [
    "# etter nøyaktig 24 månader\n",
    "konto = 70000*1.003**24\n",
    "fond = 2000\n",
    "total = konto + fond\n",
    "mnd = 0\n",
    "\n",
    "while total < 200000:\n",
    "    konto *= 1.003\n",
    "    fond = fond*1.007 + 2000\n",
    "    total = konto + fond\n",
    "    mnd += 1\n",
    "    \n",
    "print(f\"Etter {mnd} månader er det {total:.2f} kr\")\n"
   ]
  },
  {
   "attachments": {},
   "cell_type": "markdown",
   "metadata": {},
   "source": [
    "## Oppgåve 4\n",
    "\n",
    "Simulerer i Python. "
   ]
  },
  {
   "cell_type": "code",
   "execution_count": 74,
   "metadata": {},
   "outputs": [
    {
     "name": "stdout",
     "output_type": "stream",
     "text": [
      "Sannsynet for å vinna er 0.0924\n"
     ]
    }
   ],
   "source": [
    "import numpy as np\n",
    "rng = np.random.default_rng()\n",
    "\n",
    "# antall kast\n",
    "N = 1000000\n",
    "\n",
    "# dei tre terningane N kast\n",
    "t1 = rng.integers(1, 7, N)\n",
    "t2 = rng.integers(1, 7, N)\n",
    "t3 = rng.integers(1, 7, N)\n",
    "\n",
    "# produktet av terningane, per kast\n",
    "prod = t1 * t2 * t3\n",
    "\n",
    "# tel opp gunstige utfall\n",
    "gunstige = sum(prod > 100)\n",
    "\n",
    "# finn sannsynet\n",
    "sannsyn = gunstige / N\n",
    "print(f\"Sannsynet for å vinna er {sannsyn:.4f}\")\n"
   ]
  },
  {
   "attachments": {},
   "cell_type": "markdown",
   "metadata": {},
   "source": [
    "Køyrer programmet eit par gongar og ser at resultatet vert ganske likt. Sannsynet for å vinna er ca. 0,092"
   ]
  },
  {
   "attachments": {},
   "cell_type": "markdown",
   "metadata": {},
   "source": [
    "## Oppgåve 5\n",
    "\n",
    "Breidda på rektangelet er $2\\cdot a$ medan høgda er $b$, som er $y$-verdien til skjæringspunktet mellom linja frå $(0, 2)$ til $(2, 0)$ og $x=a$. \n",
    "\n",
    "Linja har stigningstal $-1$ og konstantledd $2$. Dvs. $f(x)=2-x$. \n",
    "\n",
    "Dermed er høgda til rektangelet $2-a$. Arealet vert då $$T = 2 \\cdot a \\cdot b = 2\\cdot a \\cdot(2-a) = 4a - 2a^2$$"
   ]
  },
  {
   "attachments": {},
   "cell_type": "markdown",
   "metadata": {},
   "source": [
    "Definerer $T(a)$ som funksjon, deriverer og finn den $a$-verdien som gjev størst $T$. (størst sidan $T$ er ein konkav/\"sur\" parabel)."
   ]
  },
  {
   "cell_type": "code",
   "execution_count": 77,
   "metadata": {},
   "outputs": [
    {
     "name": "stdout",
     "output_type": "stream",
     "text": [
      "{1}\n"
     ]
    }
   ],
   "source": [
    "from sympy import Symbol, diff, Eq, solveset, Reals\n",
    "a = Symbol(\"a\")\n",
    "\n",
    "T = 4*a - 2*a**2\n",
    "dT = diff(T, a)\n",
    "\n",
    "likning = Eq(dT, 0)\n",
    "løysing = solveset(likning, a, domain=Reals)\n",
    "print(løysing)"
   ]
  },
  {
   "attachments": {},
   "cell_type": "markdown",
   "metadata": {},
   "source": [
    "Det vil seie at $a=1$ gir størst areal. Då er $$T(1)=4\\cdot 1 - 2\\cdot 1^2 = 2$$"
   ]
  },
  {
   "attachments": {},
   "cell_type": "markdown",
   "metadata": {},
   "source": [
    "$2$ er den største verdien $T$ kan ha. "
   ]
  },
  {
   "attachments": {},
   "cell_type": "markdown",
   "metadata": {},
   "source": [
    "## Oppgåve 6\n",
    "\n",
    "Temperaturen $T$ etter $t$ min er \n",
    "\n",
    "$$\\ln(T-T_0)=-k\\cdot t + r$$\n",
    "\n",
    "der $T_0$ er romtepmeratur og $k$ og $r$ konstantar. \n",
    "\n",
    "Får oppgitt at \n",
    "- $T_0=22$ \n",
    "- $T=82$ når $t=0$\n",
    "- $T=66$ når $t=2$ "
   ]
  },
  {
   "attachments": {},
   "cell_type": "markdown",
   "metadata": {},
   "source": [
    "Dermed har me likningane \n",
    "\n",
    "$$\\begin{align*}\n",
    "    \\ln(82-22) &= -k\\cdot 0 + r &&=r \\\\\n",
    "    \\ln(66-22) &= -k\\cdot 2 + r &&= r-2k\n",
    "\\end{align*} $$"
   ]
  },
  {
   "cell_type": "code",
   "execution_count": 97,
   "metadata": {},
   "outputs": [
    {
     "name": "stdout",
     "output_type": "stream",
     "text": [
      "t = {7.76}\n"
     ]
    }
   ],
   "source": [
    "from sympy import Symbol, Eq, nsolve, solveset, Reals, log\n",
    "\n",
    "# definerer r og k\n",
    "r = Symbol(\"r\")\n",
    "k = Symbol(\"k\")\n",
    "\n",
    "# definerer likningane\n",
    "l1 = Eq(log(82-22), r)\n",
    "l2 = Eq(log(66-22), r-2*k)\n",
    "\n",
    "# finn numerisk verdi for r og k\n",
    "løysing = nsolve([l1, l2], [r, k], [1,1])\n",
    "\n",
    "# definerer t og ny likning med verdiar for r og k\n",
    "t = Symbol(\"t\")\n",
    "r_n = løysing[0]\n",
    "k_n = løysing[1]\n",
    "l_temp = Eq(log(40-22), -k_n * t + r_n)\n",
    "\n",
    "# løyser for t og skriv ut. \n",
    "ny_t = solveset(l_temp, t)\n",
    "print(f\"t = {ny_t.evalf(3)}\")\n"
   ]
  },
  {
   "attachments": {},
   "cell_type": "markdown",
   "metadata": {},
   "source": [
    "Det tar rett over 7 min og 45 sek før temperaturen når 40 grader. "
   ]
  },
  {
   "attachments": {},
   "cell_type": "markdown",
   "metadata": {},
   "source": [
    "## Oppgåve 7\n",
    "\n",
    "Ser på dei ulike grafane og ser at\n",
    "\n",
    "- **A** har \n",
    "    - ekstremalpunkt i $x\\approx -1$ og $x\\approx 1$\n",
    "        - voksande før det første ekstremalpunktet (toppunkt)\n",
    "        - synkande mellom ekstremalpunkta\n",
    "        - voksande etter det siste ekstremalpunktet (botnpunkt)\n",
    "    - nullpunkt (og vendepunkt) i origo\n",
    "        - grafen søkk og brattast her\n",
    "- **D** har\n",
    "    - nullpunkt i $x\\approx -1$ og $x\\approx 1$ \n",
    "    - ekstremalpunkt i origo (botnpunkt)\n",
    "\n",
    "Dermed er **A** grafen til $f$ og **D** er grafen til $f'$.\n",
    "\n",
    "Ser vidare at\n",
    "\n",
    "- **B** har\n",
    "    - nullpunkt i $x\\approx 1,5$\n",
    "    - positiv før nullpunktet \n",
    "    - negativ etter nullpunktet\n",
    "- **C** har\n",
    "    - ekstremalpunkt (toppunkt) i $x\\approx 1,5$\n",
    "\n",
    "Dermed er **C** grafen til $g$ og **B** er grafen til $g'$. "
   ]
  }
 ],
 "metadata": {
  "kernelspec": {
   "display_name": "Python 3",
   "language": "python",
   "name": "python3"
  },
  "language_info": {
   "codemirror_mode": {
    "name": "ipython",
    "version": 3
   },
   "file_extension": ".py",
   "mimetype": "text/x-python",
   "name": "python",
   "nbconvert_exporter": "python",
   "pygments_lexer": "ipython3",
   "version": "3.8.16"
  },
  "orig_nbformat": 4,
  "vscode": {
   "interpreter": {
    "hash": "369f2c481f4da34e4445cda3fffd2e751bd1c4d706f27375911949ba6bb62e1c"
   }
  }
 },
 "nbformat": 4,
 "nbformat_minor": 2
}
