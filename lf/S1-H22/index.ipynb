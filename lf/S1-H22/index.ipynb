{
 "cells": [
  {
   "cell_type": "raw",
   "metadata": {},
   "source": [
    "---\n",
    "title: \"Eksamen H22 S1\"\n",
    "from: markdown+emoji\n",
    "author: \"Torodd F. Ottestad\"\n",
    "date: \"2023-03-27\"\n",
    "categories: [S1, H22, eksamen]\n",
    "image: \"exam.png\"\n",
    "---"
   ]
  },
  {
   "attachments": {},
   "cell_type": "markdown",
   "metadata": {},
   "source": [
    "# Løysingsforslag eksamen S1 - H22 \n",
    "\n",
    "Her er eit forslag til løysing av hausteksamen i S1 2022. I del 2 er oppgåvene stort sett løyst i Python eller CAS.\n",
    "\n",
    "Eg kan ikkje lova at løysinga er feilfri... 😊 Gje meg gjerne [ein lyd](/about.qmd) om du ser feil. \n",
    "\n",
    "---\n",
    "\n",
    "Miniatyrbilete: \n",
    "<a href=\"https://www.flaticon.com/free-icons/exam\" title=\"exam icons\">Exam icons created by Freepik - Flaticon</a>\n",
    "\n",
    "Eksamenssettet finn du hos UDIR: [Finn eksamensoppgaver](https://sokeresultat.udir.no/eksamensoppgaver.html)\n",
    "\n",
    "\n",
    "## Del 1\n",
    "\n",
    "### Oppgåve 1\n",
    "Skriv så enkelt som råd\n",
    "\n",
    "$$ \\begin{align*} \n",
    "\\left(2a^{-2}b\\right)^{-1} \\cdot \\left(\\frac{b^2}{a}\\right)^2 &= \\frac{a^2}{2b} \\cdot \\left(\\frac{b^2}{a}\\right)^2 \\\\\n",
    "&= \\frac{a^2}{2b} \\cdot \\frac{b^4}{a^2} \\\\\n",
    "&= \\frac{b^3}{2}\n",
    "\\end{align*}$$\n",
    "\n",
    "### Oppgåve 2\n",
    "Funksjonen $O$ gitt ved\n",
    "$$O(x)=−0,05x^2 +100x−10 000$$\n",
    "er ein god modell for overskotet i kroner som ei bedrift har kvar veke, dersom ho produserer og sel $x$ einingar av ei vare.\n",
    "\n",
    "**a) Bestem $O'(500)$. Gi ei tolking av svaret i denne situasjonen**\n",
    "\n",
    "Deriverer $O$ og finn $$ O'(x)=-0,1x+100 $$\n",
    "Dermed er $$O'(500)=-0,1 \\cdot 500 + 100 = 50$$\n",
    "\n",
    "Dette betyr at om ein aukar produksjonen ($x$) med **ei** vare, så vil overskotet auka med ca. 50 kr. \n",
    "\n",
    "**b) Kva er det maksimale overskotet denne bedrifta kan ha kvar veke?**\n",
    "\n",
    "Løyser likninga $O'(x)=0$\n",
    "$$\\begin{align*} -0,1x+100&=0 \\\\ 0,1x &= 100 \\\\ x &= 1000 \\end{align*} $$\n",
    "\n",
    "Dette betyr at overskotet er størst ($O(x)$ er ein konkav andregradsfunksjon $\\Rightarrow$ toppunkt) når det vert produsert 1000 einingar. Finn overskotet:\n",
    "\n",
    "$$\\begin{align*} O(1000)&=-0,05\\cdot 1000^2 + 100\\cdot 1000 - 10 000 \\\\  &= -50000+100000-10000 \\\\ &= 40000 \\end{align*}$$\n",
    "\n",
    "Det største overskotet kvar veke er 40 000 kr."
   ]
  },
  {
   "attachments": {},
   "cell_type": "markdown",
   "metadata": {},
   "source": [
    "### Oppgåve 3\n",
    "\n",
    "Løys likninga \n",
    "$$ \\begin{align*}\n",
    "\\lg(x-3)+\\lg(x) &= 1 \\\\\n",
    "\\lg((x-3)x) &= 1 \\qquad \\leftarrow  \\lg(a) + \\lg(b) = \\lg(ab) \\\\\n",
    "(x-3)x &= 10^1 \\\\\n",
    "x^2 -3x - 10 &= 0 \\\\ \n",
    "(x+2)(x-5) &= 0 \\qquad \\leftarrow 2-5 = -3 \\text{ og } 2\\cdot -5 = -10 \\\\\n",
    "x=-2 &\\vee x = 5\n",
    "\\end{align*} $$\n",
    "\n",
    "Men kun $x=5$ er gyldig løysing, pga. $\\lg(x)$ i den opphavlege likninga. "
   ]
  },
  {
   "attachments": {},
   "cell_type": "markdown",
   "metadata": {},
   "source": [
    "### Oppgåve 4 \n",
    "\n",
    "Bestem grenseverdien \n",
    "$$\\lim_{h\\rightarrow 0} \\frac{\\left(4+h\\right)^2-4^2}{h}$$\n",
    "\n",
    "Denne kan løysast ved grenserekning (faktorisering eller L'Hôpital) men... \n",
    "\n",
    "Ser av uttrykket at dette er definisjonen av den deriverte til $x^2$ når $x=4$. Dermed får me\n",
    "$$\\begin{align*}\n",
    "f(x)&=x^2 \\\\ f'(x) &= 2x \\\\ f'(4) &= 2\\cdot 4 = 8 \\end{align*} $$"
   ]
  },
  {
   "attachments": {},
   "cell_type": "markdown",
   "metadata": {},
   "source": [
    "### Oppgåve 5\n",
    "\n",
    "I ei krukke er det 2 kvite og 6 svarte kuler. Du skal tilfeldig trekkje 2 kuler utan tilbakelegging.\n",
    "\n",
    "**a) Bestem sannsynet for at minst éi av kulene er kvit.**\n",
    "\n",
    "Trekk 2 kuler. Utfalla me kan få er SS, SK, KS, KK. Viss me lar $X$ vera tal kvite kuler trekt har me då\n",
    "\n",
    "$$P(X\\geq 1) = 1 - P(X=0)$$\n",
    "\n",
    "der $$P(X=0) = \\frac{6}{8}\\cdot\\frac{5}{7}=\\frac{30}{56}=\\frac{15}{28}$$\n",
    "\n",
    "dermed får me $$P(X\\geq 1)= 1 - \\frac{15}{28} = \\frac{13}{28}$$\n",
    "\n",
    "\n",
    "I ei anna krukke ligg det eit ukjent tal kuler. Her er 2 av kulene kvite, mens resten av kulene er svarte. Du skal tilfeldig trekkje 2 kuler utan tilbakelegging. Du ønskjer at sannsynet for at du trekkjer 2 svarte kuler, skal være minst 50 prosent.\n",
    "\n",
    "**b) Lag ein algoritme som du kan bruke for å bestemme det minste talet på svarte kuler som det da må vere i krukka. Ta med nødvendige formlar som du må bruke for å følgje algoritmen.**\n",
    "\n",
    "La $s$ vera talet svarte kuler og $k$ talet kvite kuler. \n",
    "\n",
    "1) $k=2$ og $s=2$ (sidan me må minst ha to svarte kuler i krukka) <br>\n",
    "2) finn sannsynet for å trekka 2 svarte kuler $P(\\text{to svarte}) = \\frac{s}{s+k}\\cdot\\frac{s-1}{s-1+k}$<br>\n",
    "3) Viss $P(\\text{to svarte}) <50%$ legg til ei svart kule og gjenta 2 og 3. Viss ikkje - gå til 4. <br>\n",
    "4) $s$ er no det minste talet svarte kuler. \n"
   ]
  },
  {
   "attachments": {},
   "cell_type": "markdown",
   "metadata": {},
   "source": [
    "## Del 2\n",
    "\n",
    "### Oppgåve 1\n",
    "\n",
    "> Undersøkingar viser at 70 prosent av kundane til ein butikk er turistar. Ein dag hadde butikken til saman 145 kundar. Legg nødvendige føresetnader til grunn, og bestem sannsynet for at minst 100 av desse kundane var turistar.\n",
    "\n",
    "Her er det naturleg å legga til grunn at \n",
    "- sannsynet for at kvar kunde som kjem er turist eller ikkje er likt for alle kundane (70%)\n",
    "- Om ein kunde er turist eller ikkje er uavhengig om neste kunde er turist eller ikkje\n",
    "\n",
    "$T$: kunden er turist\n",
    "\n",
    "Dermed har me ein situasjon med \n",
    "- delforsøk med to utfall ($T$ eller $\\bar{T}$)\n",
    "- likt sannsyn i alle delforsøka ($P(T)=0,7$ og $P(\\bar{T})=1-0,7=0,3$)\n",
    "- uavhengige delforsøk\n",
    "\n",
    "Dette er ganske forenkla og i røynda vil nok ikkje dette vera uavhengige delforsøk, sidan turistar ofte opptrer i flokk :smile: \n",
    "\n",
    "Bruker først simulering for å bestemma sannsynet. Sjekkar opp mot sannsynskalkulatoren i GeoGebra etterpå. \n",
    "\n",
    "::: {.callout-tip}\n",
    "## Tips\n",
    "\n",
    "Ta gjerne ein kikk på [dette innlegget](/posts/230209_simulering1/index.ipynb) om du treng meir info om grunnleggande simulering med NumPy\n",
    ":::"
   ]
  },
  {
   "cell_type": "code",
   "execution_count": 2,
   "metadata": {},
   "outputs": [
    {
     "name": "stdout",
     "output_type": "stream",
     "text": [
      "Sannsynet for at det var minst 100 turistar innom er 0.6454\n"
     ]
    }
   ],
   "source": [
    "import numpy as np\n",
    "rng = np.random.default_rng()\n",
    "\n",
    "N = 1000000 # tal simuleringar\n",
    "\n",
    "n = 145     # tal kundar\n",
    "p = 0.7     # sannsyn for turist\n",
    "\n",
    "# trekk kundar\n",
    "kundar = rng.binomial(n=n, p=p, size=N)\n",
    "\n",
    "# finn sannsynet\n",
    "gunstige = sum(kundar >= 100)\n",
    "sannsyn = gunstige / N\n",
    "\n",
    "print(f\"Sannsynet for at det var minst 100 turistar innom er {sannsyn:.4f}\")"
   ]
  },
  {
   "attachments": {},
   "cell_type": "markdown",
   "metadata": {},
   "source": [
    "**I GeoGebra**\n",
    "\n",
    "Ser at svaret vert det samme i GG:\n",
    "\n",
    "![:camera: Sannsynskalkulatoren i GeoGebra Classic 6](oppg1-sannsyn.png)"
   ]
  },
  {
   "attachments": {},
   "cell_type": "markdown",
   "metadata": {},
   "source": [
    "### Oppgåve 2\n",
    "\n",
    "Har fått oppgitt funksjonen\n",
    "\n",
    "$$f(x)=1-x^2, \\qquad D_f=[0, 1]$$\n",
    "\n",
    "La $a\\in\\langle 0, 1\\rangle$ og $O$ være origo. Tangenten til grafen til $f$ i punktet $P(a, f(a))$ skjer $x$-aksen i punktet $A$ og $y$-aksen i punktet $B$. \n",
    "\n",
    "> Bestem arealet av $\\triangle OAB$ når $P\\left(\\frac{1}{2}, \\frac{3}{4}\\right)$\n"
   ]
  },
  {
   "attachments": {},
   "cell_type": "markdown",
   "metadata": {},
   "source": [
    "Bruker CAS og finn arealet av trekanten\n",
    "\n",
    "![:camera: Skjermbilete frå CAS](del2-2a.png){fig-align=\"center\" width=\"80%\"}\n",
    "\n",
    "**Arealet av trekanten er $\\frac{25}{32}$**"
   ]
  },
  {
   "attachments": {},
   "cell_type": "markdown",
   "metadata": {},
   "source": [
    "> Bestem det minste arealet $\\triangle OAB$ kan ha\n",
    "\n"
   ]
  },
  {
   "attachments": {},
   "cell_type": "markdown",
   "metadata": {},
   "source": [
    "Gjer det samme som i (a) men med $a$ som $x$-verdien til tangeringspunktet. Finn ein funksjon for arealet, og finn ekstremalpunktet til denne. Viser ved andrederiverttesten at det er eit botnpunkt. \n",
    "\n",
    "![:camera: Skjermbilete frå CAS](del2-2b.png){fig-align=\"center\" width=\"80%\"}\n",
    "\n",
    "**Det minste arealet trekanten kan ha er $\\frac{4}{9}\\sqrt{3}$**"
   ]
  },
  {
   "attachments": {},
   "cell_type": "markdown",
   "metadata": {},
   "source": [
    "### Oppgåve 3\n",
    "\n",
    "> Tabellen nedanfor viser verdien av den totale vareeksporten frå Noreg for nokre år i perioden 1980–2018.\n",
    "\n",
    "Oppgåva ber først om to ulike modellar ein kan bruka for å seie noko om framtida. Det er litt krevjande med så få datapunkt og lite kunnskap om kva faktorar som spelar inn her.\n",
    "\n",
    "Prøver heller å finna modellar som kan passa til dei datapunkta me har. \n",
    "\n",
    "Startar med å legga inn punkta og plotta dei for å få oversikt. \n"
   ]
  },
  {
   "cell_type": "code",
   "execution_count": 14,
   "metadata": {},
   "outputs": [
    {
     "data": {
      "image/png": "[encoded data removed]",
      "text/plain": [
       "<Figure size 640x480 with 1 Axes>"
      ]
     },
     "metadata": {},
     "output_type": "display_data"
    }
   ],
   "source": [
    "#| fig-align: \"center\"\n",
    "import matplotlib.pyplot as plt\n",
    "import numpy as np\n",
    "\n",
    "x = [0, 10, 20, 30, 38]                 # år etter 1980\n",
    "v = [91.7, 211.6, 529.8, 788.1, 1000.3] # verdi i mrd. kr.append\n",
    "\n",
    "plt.plot(x, v, \"ro\")\n",
    "plt.show()"
   ]
  },
  {
   "attachments": {},
   "cell_type": "markdown",
   "metadata": {},
   "source": [
    "Lagar ein lineær funksjon først. "
   ]
  },
  {
   "cell_type": "code",
   "execution_count": 15,
   "metadata": {},
   "outputs": [
    {
     "data": {
      "image/png": "[encoded data removed]",
      "text/plain": [
       "<Figure size 640x480 with 1 Axes>"
      ]
     },
     "metadata": {},
     "output_type": "display_data"
    },
    {
     "name": "stdout",
     "output_type": "stream",
     "text": [
      "f_lin(x) = 24.90x + 36.32\n"
     ]
    }
   ],
   "source": [
    "#| fig-align: \"center\"\n",
    "a_lin, b_lin = np.polyfit(x, v, 1)\n",
    "x_verdier = np.linspace(0, 40, 1000)\n",
    "\n",
    "def lin(x):\n",
    "    return a_lin*x + b_lin\n",
    "\n",
    "plt.plot(x, v, \"ro\")\n",
    "plt.plot(x_verdier, lin(x_verdier))\n",
    "plt.show()\n",
    "\n",
    "# Skriv ut funksjoneuttrykket\n",
    "print(f\"f_lin(x) = {a_lin:.2f}x + {b_lin:.2f}\")"
   ]
  },
  {
   "attachments": {},
   "cell_type": "markdown",
   "metadata": {},
   "source": [
    "Prøver vidare å laga ein eksponentialfunksjon på forma $g(x) = a\\cdot b^x$ for å sjå om det kan passa med prosentvis auke."
   ]
  },
  {
   "cell_type": "code",
   "execution_count": 16,
   "metadata": {},
   "outputs": [
    {
     "data": {
      "image/png": "[encoded data removed]",
      "text/plain": [
       "<Figure size 640x480 with 1 Axes>"
      ]
     },
     "metadata": {},
     "output_type": "display_data"
    },
    {
     "name": "stdout",
     "output_type": "stream",
     "text": [
      "f_eksp(x) = 173.29 + 1.05^x\n"
     ]
    }
   ],
   "source": [
    "#| fig-align: \"center\"\n",
    "from scipy.optimize import curve_fit\n",
    "\n",
    "def eksp(x, a, b):\n",
    "    return a * b**x\n",
    "\n",
    "# finn passande funksjon\n",
    "K, E = curve_fit(eksp, x, v)\n",
    "a_eksp, b_eksp = K\n",
    "\n",
    "plt.plot(x, v, \"ro\")\n",
    "plt.plot(x_verdier, eksp(x_verdier, a_eksp, b_eksp))\n",
    "plt.show()\n",
    "\n",
    "# Skriv ut funksjoneuttrykket\n",
    "print(f\"f_eksp(x) = {a_eksp:.2f} + {b_eksp:.2f}^x\")"
   ]
  },
  {
   "attachments": {},
   "cell_type": "markdown",
   "metadata": {},
   "source": [
    "Plottar begge modellane med datapunkta i samme figur for å samanlikna. "
   ]
  },
  {
   "cell_type": "code",
   "execution_count": 17,
   "metadata": {},
   "outputs": [
    {
     "data": {
      "image/png": "[encoded data removed]",
      "text/plain": [
       "<Figure size 640x480 with 1 Axes>"
      ]
     },
     "metadata": {},
     "output_type": "display_data"
    }
   ],
   "source": [
    "#| fig-align: \"center\"\n",
    "plt.plot(x, v, \"ko\")\n",
    "plt.plot(x_verdier, lin(x_verdier), \"r\", label=\"f_lin\")\n",
    "plt.plot(x_verdier, eksp(x_verdier, a_eksp, b_eksp), \"b\", label=\"f_eksp\")\n",
    "\n",
    "plt.xlabel(\"År etter 1980\")\n",
    "plt.ylabel(\"Verdi vareeksport i mrd. kr.\")\n",
    "plt.legend()\n",
    "plt.show()"
   ]
  },
  {
   "attachments": {},
   "cell_type": "markdown",
   "metadata": {},
   "source": [
    "Det ser ut som om den lineære funksjonen passar best. Kallar denne for $g$. \n",
    "$$ g(x) = 24.90x + 36.32$$"
   ]
  },
  {
   "attachments": {},
   "cell_type": "markdown",
   "metadata": {},
   "source": [
    "Vidare er me ute etter den gjennomsnittlege årlege veksten mellom 2015 og 2025 for dei to modellane. "
   ]
  },
  {
   "cell_type": "code",
   "execution_count": 6,
   "metadata": {},
   "outputs": [
    {
     "name": "stdout",
     "output_type": "stream",
     "text": [
      "snitt lin:  24.90 mrd.kr. pr. år\n",
      "snitt eksp: 55.35 mrd.kr. pr. år\n"
     ]
    }
   ],
   "source": [
    "snitt_lin = (lin(45)-lin(35))/10\n",
    "snitt_eksp = (eksp(45, a_eksp, b_eksp)-eksp(35, a_eksp, b_eksp))/10\n",
    "\n",
    "print(f\"snitt lin:  {snitt_lin:.2f} mrd.kr. pr. år\\nsnitt eksp: {snitt_eksp:.2f} mrd.kr. pr. år\")"
   ]
  },
  {
   "attachments": {},
   "cell_type": "markdown",
   "metadata": {},
   "source": [
    "> Funksjonen $f$ gitt ved $$f(x)=91\\cdot 1,057^x$$ er ein modell for verdien av den totale vareimporten til Noreg i milliardar kroner, $x$ år etter 1980 . Når vil verdien av vareimporten til Noreg vere 10 gonger større enn det han var i 1980?\n",
    "\n",
    "Her må me løysa likninga $$1,057^x = 10$$\n",
    "\n",
    "Bruker CAS i Python :sunglasses:"
   ]
  },
  {
   "cell_type": "code",
   "execution_count": 7,
   "metadata": {},
   "outputs": [
    {
     "name": "stdout",
     "output_type": "stream",
     "text": [
      "x = 41.54\n"
     ]
    }
   ],
   "source": [
    "from sympy import *\n",
    "x = Symbol(\"x\")\n",
    "\n",
    "# definerer likning (vs, hs) og løyser\n",
    "eq = Eq(1.057**x, 10)\n",
    "løysing = solve(eq)\n",
    "\n",
    "print(f\"x = {løysing[0]:.2f}\")"
   ]
  },
  {
   "attachments": {},
   "cell_type": "markdown",
   "metadata": {},
   "source": [
    "I 2022, 42 år etter 1980, er vareimporten (litt større enn) 10 gongar så stor som i 1980. \n",
    "\n",
    "> Dersom verdien av vareeksporten i eit land er større enn verdien av vareimporten, seier vi at landet har eit handelsoverskot.\n",
    "\n",
    "Skal no finna ut kva tid det er handelsoverkot. \n"
   ]
  },
  {
   "cell_type": "code",
   "execution_count": 19,
   "metadata": {},
   "outputs": [
    {
     "name": "stdout",
     "output_type": "stream",
     "text": [
      "Skjæringspunkt 1: 2.9\n",
      "Skjæringspunkt 2: 46.5\n"
     ]
    },
    {
     "data": {
      "image/png": "[encoded data removed]",
      "text/plain": [
       "<Figure size 640x480 with 1 Axes>"
      ]
     },
     "metadata": {},
     "output_type": "display_data"
    }
   ],
   "source": [
    "#| fig-align: \"center\"\n",
    "# definerer funksjonane\n",
    "def imprt(x):\n",
    "    return 91 * 1.057**x\n",
    "\n",
    "def eksprt(x): \n",
    "    return 24.90*x + 36.32\n",
    "\n",
    "# lagar x-verdiar\n",
    "x = np.linspace(0, 50, 1000)\n",
    "\n",
    "# ser ca. kor dei kryssar kvarandre \n",
    "plt.plot(x, imprt(x), \"r\", label=\"import\")\n",
    "plt.plot(x, eksprt(x), \"g\", label=\"eksport\")\n",
    "plt.grid()\n",
    "\n",
    "# ca. verdi for det første skjæringspunktet, x1\n",
    "x_1 = 2\n",
    "\n",
    "# finn x1\n",
    "while imprt(x_1) > eksprt(x_1):\n",
    "    x_1 += 0.1\n",
    "\n",
    "# plottar linja og skriv ut\n",
    "plt.axvline(x_1)\n",
    "print(f\"Skjæringspunkt 1: {x_1:.1f}\")\n",
    "\n",
    "# ca. verdi for det andre skjæringspunktet, x2\n",
    "x_2 = 45\n",
    "\n",
    "# finn x2\n",
    "while imprt(x_2) < eksprt(x_2):\n",
    "    x_2 += 0.1\n",
    "\n",
    "# plottar linja og skriv ut\n",
    "plt.axvline(x_2)\n",
    "print(f\"Skjæringspunkt 2: {x_2:.1f}\")\n",
    "\n",
    "plt.legend()\n",
    "plt.show()"
   ]
  },
  {
   "attachments": {},
   "cell_type": "markdown",
   "metadata": {},
   "source": [
    "Dvs. det er handelsoverskot ca. frå starten av 1983 til midt i 2026 ut frå modellane. "
   ]
  },
  {
   "attachments": {},
   "cell_type": "markdown",
   "metadata": {},
   "source": [
    "### Oppgåve 4\n",
    "\n",
    "> Tenk deg at du har ein terning med n sider der talet på auge på sidene er $1, 2, ... , n$. Når du kastar terningen, er alle utfalla like sannsynlege. Du kastar terningen to gonger. La $X$ vere produktet av talet på auge i dei to kasta. Dersom til dømes første kast gir 7 og andre kast gir 3, blir $X$ lik $3\\cdot 7 = 21$.\n",
    "\n",
    "Startar med å la $n=10$ og prøver å finna $P(X > 60)$"
   ]
  },
  {
   "cell_type": "code",
   "execution_count": 20,
   "metadata": {},
   "outputs": [
    {
     "name": "stdout",
     "output_type": "stream",
     "text": [
      "Når n = 10: \n",
      "P(X > 60) = 0.1302\n"
     ]
    }
   ],
   "source": [
    "import numpy as np\n",
    "rng = np.random.default_rng()\n",
    "\n",
    "N = 1000000\n",
    "n = 10\n",
    "\n",
    "# triller ternignar\n",
    "t1 = rng.integers(1, n+1, size=N)\n",
    "t2 = rng.integers(1, n+1, size=N)\n",
    "\n",
    "# finn produktet av dei to kasta\n",
    "prod = t1 * t2\n",
    "\n",
    "# finn gunstige utfall og sannsynet\n",
    "gunstige = sum(prod > 60)\n",
    "sannsyn = gunstige / N\n",
    "\n",
    "print(f\"Når n = 10: \\nP(X > 60) = {sannsyn:.4f}\")"
   ]
  },
  {
   "attachments": {},
   "cell_type": "markdown",
   "metadata": {},
   "source": [
    "Så vil me finna ut kva den minste verdien av $n$ som gjer at $P(X>60) > 0.5$ er.\n",
    "Bruker koden vidare, men gjer han om til ein funksjon med input `n` og output `sannsyn`. Då kan ein prøva seg fram med ei `while`-løkke. "
   ]
  },
  {
   "cell_type": "code",
   "execution_count": 21,
   "metadata": {},
   "outputs": [
    {
     "name": "stdout",
     "output_type": "stream",
     "text": [
      "n = 17: \n",
      "P(X > 60) = 0.5062\n"
     ]
    }
   ],
   "source": [
    "def trilling(n):\n",
    "    N = 1000000\n",
    "\n",
    "    # triller ternignar\n",
    "    t1 = rng.integers(1, n+1, size=N)\n",
    "    t2 = rng.integers(1, n+1, size=N)\n",
    "\n",
    "    # finn produktet av dei to kasta\n",
    "    prod = t1 * t2\n",
    "\n",
    "    # finn gunstige utfall og sannsynet\n",
    "    gunstige = sum(prod > 60)\n",
    "    sannsyn = gunstige / N\n",
    "\n",
    "    return sannsyn\n",
    "\n",
    "# Prøver oss fram\n",
    "n = 10\n",
    "\n",
    "while trilling(n) < 0.5:\n",
    "    n += 1\n",
    "\n",
    "print(f\"n = {n}: \\nP(X > 60) = {trilling(n):.4f}\")\n"
   ]
  },
  {
   "attachments": {},
   "cell_type": "markdown",
   "metadata": {},
   "source": [
    "17 er altså den minste verdien $n$ kan ha for at $P(X>60) > 0.5$. "
   ]
  },
  {
   "attachments": {},
   "cell_type": "markdown",
   "metadata": {},
   "source": [
    "### Oppgåve 5\n",
    "\n",
    "> Arnt har fått ein sjukdom og må ta ein tablett som inneheld 100 mg av eit verkestoff. Funksjonen $f$ gitt ved $$f(t)=100\\cdot e^{−0,012t}$$ er ein modell for kor mykje av verkestoffet til tabletten som er igjen i kroppen $t$ timar etter at han tok den.\n",
    "\n",
    "Først skal me finna ut kor mykje stoff som er i kroppen 24 timar etter at han har tatt ein tabelett. \n",
    "\n",
    "Startar med å definera funksjonen. "
   ]
  },
  {
   "cell_type": "code",
   "execution_count": 2,
   "metadata": {},
   "outputs": [
    {
     "name": "stdout",
     "output_type": "stream",
     "text": [
      "Verkestoff etter 24 timar: 74.98 mg\n"
     ]
    }
   ],
   "source": [
    "import numpy as np\n",
    "\n",
    "def f(t):\n",
    "    return 100 * np.exp(-0.012*t)\n",
    "\n",
    "etter24 = f(24)\n",
    "\n",
    "print(f\"Verkestoff etter 24 timar: {etter24:.2f} mg\")"
   ]
  },
  {
   "attachments": {},
   "cell_type": "markdown",
   "metadata": {},
   "source": [
    "Vidare får me opplyst at\n",
    "\n",
    "> Arnt tek ein tablett kvar morgon klokka åtte. La $g$ vere ein funksjon som beskriv mengda verkestoff han har i kroppen $t$ timar etter at han tok den første tabletten.\n",
    "\n",
    "Det skal argumenterast for om $g$ er ein kontinuerlig funksjon eller ikkje.\n",
    "\n",
    "At den nye tabeletten skal bli tatt opp umiddelbart (at nivå verkestoff i kroppen gjer eit hopp med 100 mg) er litt vanskeleg å sjå for seg om ein tenker at \"i kroppen\" = \"i blodet\". Om ein tenker at \"i kroppen\" er innafor munnen, så kan ein argumentera for at funksjonen er diskontinuerleg med eit slikt hopp... \n",
    "\n",
    "\n",
    "\n",
    "Så skal me finna ut kor mykje verkestoff Arnt har i kroppen like før den 6. tabletten. Bruker funksjonen frå tidlegare. Hugs at $t$ er timar her og ikkje døgn. Startar på 1 sidan den \"nyaste\" tabeletten (nr. 5) har vore eitt døgn i kroppen. \n",
    "\n"
   ]
  },
  {
   "cell_type": "code",
   "execution_count": 5,
   "metadata": {},
   "outputs": [
    {
     "name": "stdout",
     "output_type": "stream",
     "text": [
      "Rett før tab.nr. 6 er det 228.63 mg i kroppen\n"
     ]
    }
   ],
   "source": [
    "verkestoff = 0\n",
    "\n",
    "for i in range(1, 6):\n",
    "    verkestoff += f(i*24)\n",
    "\n",
    "print(f\"Rett før tab.nr. 6 er det {verkestoff:.2f} mg i kroppen\")"
   ]
  },
  {
   "attachments": {},
   "cell_type": "markdown",
   "metadata": {},
   "source": [
    "Til slutt skal me finna ut kor mykje verkestoff Arnt vil ha i kroppen om han tek ein tablett i døgnet over eit lengre tidsrom. Bruker funksjonen og løkka frå tidlegare. Startar på 0 no sidan me ikkje lenger ser på \"rett før\" ein tablett. Prøver meg fram for å finna ut kor langt fram me må sjå for å finna taket. "
   ]
  },
  {
   "cell_type": "code",
   "execution_count": 10,
   "metadata": {},
   "outputs": [
    {
     "name": "stdout",
     "output_type": "stream",
     "text": [
      "Dag  1: 100.00 mg\n",
      "Dag  2: 174.98 mg\n",
      "Dag  3: 231.19 mg\n",
      "Dag  4: 273.34 mg\n",
      "Dag  5: 304.94 mg\n",
      "Dag  6: 328.63 mg\n",
      "Dag  7: 346.39 mg\n",
      "Dag  8: 359.71 mg\n",
      "Dag  9: 369.70 mg\n",
      "Dag 10: 377.19 mg\n",
      "Dag 11: 382.80 mg\n",
      "Dag 12: 387.01 mg\n",
      "Dag 13: 390.16 mg\n",
      "Dag 14: 392.53 mg\n",
      "Dag 15: 394.30 mg\n",
      "Dag 16: 395.63 mg\n",
      "Dag 17: 396.63 mg\n",
      "Dag 18: 397.38 mg\n",
      "Dag 19: 397.94 mg\n",
      "Dag 20: 398.36 mg\n",
      "Dag 21: 398.67 mg\n",
      "Dag 22: 398.91 mg\n",
      "Dag 23: 399.09 mg\n",
      "Dag 24: 399.22 mg\n",
      "Dag 25: 399.32 mg\n"
     ]
    }
   ],
   "source": [
    "verkestoff = 0\n",
    "\n",
    "for i in range(0, 25):\n",
    "    verkestoff += f(i*24)\n",
    "    print(f\"Dag {i+1:2n}: {verkestoff:.2f} mg\")"
   ]
  },
  {
   "attachments": {},
   "cell_type": "markdown",
   "metadata": {},
   "source": [
    "Det ser ut som Arnt ikkje vil overstiga 400 mg verkestoff i kroppen på lang sikt. "
   ]
  },
  {
   "attachments": {},
   "cell_type": "markdown",
   "metadata": {},
   "source": [
    "### Oppgåve 6\n",
    "\n",
    "Ein funksjon $f$ er gitt ved $$f(x)=2x+5+\\frac{1}{x-1}$$\n",
    "\n",
    "Løyser oppgåva i CAS. \n",
    "\n",
    "**a) For kva verdiar av $k$ har likninga $f'(x)=k$ løysing?**\n",
    "\n",
    "![:camera: Skjermbilete av CAS](del2-6a.png){fig-align=\"center\" width=\"80%\"}\n",
    "\n",
    "Løyser liknigna. Ser at $k=2$ gir $0$ i nemnar. \n",
    "\n",
    "Likninga har løysing for $k<2$\n",
    "\n",
    "\n",
    "**b) Vel ulike verdiar av $k$, og beskriv symmetrien i løysingane av likninga $f'(x)=k$ for kvar av desse verdiane**\n",
    "\n",
    "Prøver tre ulike verdiar for $k$ og ser at alle er symmetriske om linja $x=1$. \n",
    "\n",
    "![:camera: Skjermbilete av CAS](del2-6b.png){fig-align=\"center\" width=\"80%\"}\n",
    "\n",
    "La $g$ vere ein funksjon som kan skrivast på forma $$g(x)=a\\cdot x + b + \\frac{1}{x+d}$$\n",
    "\n",
    "**c) For kva verdiar av $a$ har likninga $g'(x)=4$ løysing?**\n",
    "\n",
    "Løyser likninga og ser at likninga har løysing når $a>4$.\n",
    "\n",
    "![:camera: Skjermbilete av CAS](del2-6c.png){fig-align=\"center\" width=\"80%\"}\n",
    "\n",
    "La no $a=3$. \n",
    "\n",
    "**d) Utforsk og beskriv løysingane til likninga $g'(x)=k$ for ulike verdiar av $k$.**\n",
    "\n",
    "Ser at no er løysingane symmetriske om $x=-d$. \n",
    "\n",
    "![:camera: Skjermbilete av CAS](del2-6d.png){fig-align=\"center\" width=\"80%\"}\n",
    "\n",
    "**e) Bestem $b$ og $d$ slik at $g'(-1)=g'(5)$ og $g(1)=7$.**\n",
    "\n",
    "Dersom $g'(-1)=g'(5)$ må løysingane til likninga $g'(x)=k$ vera symmetrisk om $x=\\frac{-1+5}{2}=2$. <br>\n",
    "Dvs. $-d=2 \\Rightarrow d = -2$. \n",
    "\n",
    "Då er $$g(x) = 3x + b + \\frac{1}{x-2}$$ og vidare finn me $b$ ved å løysa likninga $g(1)=7$\n",
    "\n",
    "![:camera: Skjermbilete av CAS](del2-6e.png){fig-align=\"center\" width=\"80%\"}\n",
    "\n",
    "Og me står att med $$g(x) = 3x + 5 + \\frac{1}{x-2}$$"
   ]
  }
 ],
 "metadata": {
  "kernelspec": {
   "display_name": "Python 3",
   "language": "python",
   "name": "python3"
  },
  "language_info": {
   "codemirror_mode": {
    "name": "ipython",
    "version": 3
   },
   "file_extension": ".py",
   "mimetype": "text/x-python",
   "name": "python",
   "nbconvert_exporter": "python",
   "pygments_lexer": "ipython3",
   "version": "3.8.15"
  },
  "orig_nbformat": 4,
  "vscode": {
   "interpreter": {
    "hash": "369f2c481f4da34e4445cda3fffd2e751bd1c4d706f27375911949ba6bb62e1c"
   }
  }
 },
 "nbformat": 4,
 "nbformat_minor": 2
}
