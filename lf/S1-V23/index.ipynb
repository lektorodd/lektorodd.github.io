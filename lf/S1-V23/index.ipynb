{
 "cells": [
  {
   "cell_type": "raw",
   "metadata": {},
   "source": [
    "---\n",
    "title: \"Eksamen V23 S1\"\n",
    "from: markdown+emoji\n",
    "author: \"Torodd F. Ottestad\"\n",
    "date: \"05-24-2023\"\n",
    "categories: [S1, V23, eksamen]\n",
    "image: \"exam.png\"\n",
    "draft: true\n",
    "---"
   ]
  },
  {
   "attachments": {},
   "cell_type": "markdown",
   "metadata": {},
   "source": [
    "# Løysingsforslag eksamen S1 - V23 \n",
    "\n",
    "Her er eit forslag til løysing av våreksamen i S1 2023. I del 2 er oppgåvene stort sett Python brukt som hjelpemiddel.\n",
    "\n",
    "Eg kan ikkje lova at løysinga er feilfri... 😊 Gje meg gjerne ein lyd i kommentarfeltet eller [her](/about.qmd) om du ser feil :mag: \n",
    "\n",
    "Sist oppdatert: 24.mai\n",
    "\n",
    "---\n",
    "\n",
    "Miniatyrbilete: \n",
    "<a href=\"https://www.flaticon.com/free-icons/exam\" title=\"exam icons\">Exam icons created by Freepik - Flaticon</a>\n",
    "\n",
    "Eksamenssettet finn du hos UDIR: [Finn eksamensoppgaver](https://sokeresultat.udir.no/eksamensoppgaver.html)"
   ]
  },
  {
   "attachments": {},
   "cell_type": "markdown",
   "metadata": {},
   "source": [
    "\n",
    "# Del 1 - utan hjelpemiddel\n",
    "\n",
    "## Oppgåve 1\n",
    "\n",
    "Skriv så enkelt som mogleg\n",
    "\n",
    "$$ \\begin{align*} \n",
    "\\frac{\\left(2ab^{-1}\\right)^3 \\cdot \\left( a^2 b^{-2}\\right)^{-1}}{4 a^2 b^{-3}} \n",
    "    &= \\frac{2^3 a^3 b^{-1\\cdot 3} a^{2 \\cdot (-1)} b^{-2 \\cdot -1}}{2^2 a^2 b^{-3}} \\\\\n",
    "    &= \\frac{2^3 a^3 b^{-3} a^{-2} b^{2}}{2^2 a^2 b^{-3}} \\\\\n",
    "    &= 2^{3-2} a^{3-2-2} b^{-3+2-(-3)} \\\\\n",
    "    &= 2 a^{-1} b^2 \\\\\n",
    "    &= \\frac{2b^2}{a}\n",
    "\\end{align*}$$\n"
   ]
  },
  {
   "attachments": {},
   "cell_type": "markdown",
   "metadata": {},
   "source": [
    "## Oppgåve 2\n",
    "\n",
    "Skal derivera funksjonen $f$ gitt ved $$f(x)=x\\cdot \\ln(x)$$\n",
    "\n",
    "Ser at $f$ er eit produkt av funksjonane $x$ og $\\ln(x)$. \n",
    "\n",
    "Lar $u=x$ og $v=\\ln(x)$. Då er $u' = 1$ og $v'=\\frac{1}{x}$. \n",
    "\n",
    "Produktregelen for derivasjon gjev oss \n",
    "$$\\begin{align*}\n",
    "f(x) &= u\\cdot v \\\\\n",
    "f'(x) &= u'\\cdot v + u\\cdot v' \\\\\n",
    "&= 1\\cdot \\ln(x) + x \\cdot \\frac{1}{x} \\\\\n",
    "&= \\ln(x) + 1\n",
    "\\end{align*}\n",
    "$$"
   ]
  },
  {
   "attachments": {},
   "cell_type": "markdown",
   "metadata": {},
   "source": [
    "## Oppgåve 3\n",
    "\n",
    "Bestem grenseverdien \n",
    "\n",
    "$$\\lim_{x\\rightarrow 2} \\frac{x^3-8}{x^2-4}$$\n",
    "\n",
    "Ser at om me set inn $x=2$ i uttrykket vert både teljar og nemnar 0\n",
    "\n",
    "$$\\frac{2^3-8}{2^2-4} = \\frac{8-8}{4-4} = \\frac{0}{0}$$\n",
    "\n",
    "Dermed kan me bruka L'Hôpitals regel, og deriverer teljar og nemnar for seg\n",
    "\n",
    "$$\\lim_{x\\rightarrow 2} \\frac{x^3-8}{x^2-4} = \\lim_{x\\rightarrow 2} \\frac{3x^2}{2x} = \\frac{3\\cdot 2^2}{2\\cdot 2}=3$$"
   ]
  },
  {
   "attachments": {},
   "cell_type": "markdown",
   "metadata": {},
   "source": [
    "## Oppgåve 4\n",
    "\n",
    "Tre svarte og fire kvite kuler i ei krukke, trekk tre kuler uten tilbakelegging. \n",
    "\n",
    "### a) To av tre er svarte\n",
    "\n",
    "Her har me ein todelt populasjon (kulene i krukka) og gjer eit utval som også er todelt. Me kan dermed sjå på dete som eit hypergeometrisk forsøk. \n",
    "\n",
    "La tal svarte kuler i utvalet vera $X$. Me vil då finna $P(X=2)$. \n",
    "\n",
    "$$P(X=2)= \\frac{\\left(3 \\atop 2\\right) \\left( 4\\atop 1\\right)}{\\left(7 \\atop 3\\right)} = \\frac{3\\cdot 4}{35}= \\frac{12}{35}$$\n",
    "\n",
    "::: {.callout-tip}\n",
    "## Binomialkoeffesientane\n",
    "- $\\left(3 \\atop 2\\right) = \\frac{3\\cdot 2}{2\\cdot 1} = 3$\n",
    "- $\\left(4 \\atop 1\\right) = \\frac{4}{1} = 4$\n",
    "- $\\left(7 \\atop 3\\right) = \\frac{7\\cdot 6 \\cdot 5}{3\\cdot 2\\cdot 1} = 35$\n",
    ":::"
   ]
  },
  {
   "attachments": {},
   "cell_type": "markdown",
   "metadata": {},
   "source": [
    "### b) Minst to kvite\n",
    "\n",
    "Viss me skal trekka minst to kvite kuler, så vert det i eit utval på 3 dei utfalla som gjev to kvite kuler eller tre kvite kuler. \n",
    "\n",
    "Lar $Y$ vera tal kvite kuler i utvalet. Vil no finna $P(Y\\geq 2) = P(Y=2) + P(Y=3)$\n",
    "\n",
    "Finn først $P(Y=2)$:\n",
    "\n",
    "$$P(Y=2)= \\frac{\\left(4 \\atop 2\\right) \\left( 3\\atop 1\\right)}{\\left(7 \\atop 3\\right)} = \\frac{6\\cdot 3}{35}= \\frac{18}{35}$$\n",
    "\n",
    "og deretter $P(Y=3)$:\n",
    "\n",
    "$$P(Y=3)= \\frac{\\left(4 \\atop 3\\right) \\left( 3\\atop 0\\right)}{\\left(7 \\atop 3\\right)} = \\frac{4\\cdot 1}{35}= \\frac{4}{35}$$\n",
    "\n",
    "Dermed får me \n",
    "\n",
    "$$P(Y\\geq 2) = P(Y=2) + P(Y=3) = \\frac{18}{35} + \\frac{4}{35} = \\frac{22}{35}$$\n",
    "\n",
    "### Alternativ løysing på b)\n",
    "\n",
    "Me kan bruka resultatet frå **a)**. Der fann me sannsynet for at to kuler var svarte. Om me i tillegg finn sannsynet for at tre av tre kuler er svarte, så kan me bruka at\n",
    "\n",
    "$$P(Y\\geq 2) = 1 - P(X=2) - P(X=3)$$\n",
    "\n",
    "Me finn $P(X=3)$:\n",
    "$$P(X=3)= \\frac{\\left(3 \\atop 3\\right) \\left( 4\\atop 0\\right)}{\\left(7 \\atop 3\\right)} = \\frac{1\\cdot 1}{35}= \\frac{1}{35}$$\n",
    "\n",
    "Dermed får me \n",
    "$$P(Y\\geq 2) = 1 - P(X=2) - P(X=3) = 1 - \\frac{12}{35} -\\frac{1}{35} = \\frac{22}{35}$$"
   ]
  },
  {
   "attachments": {},
   "cell_type": "markdown",
   "metadata": {},
   "source": [
    "## Oppgåve 5\n",
    "\n",
    "Kostnad $K$ ved produksjon av $x$ einingar per veke gitt ved\n",
    "$$K(X)=0,2x^2+140x+7000$$\n",
    "\n",
    "Bedrifta har laga programmet:"
   ]
  },
  {
   "cell_type": "code",
   "execution_count": 1,
   "metadata": {},
   "outputs": [
    {
     "name": "stdout",
     "output_type": "stream",
     "text": [
      "300\n"
     ]
    }
   ],
   "source": [
    "#| eval: false\n",
    "#| output: false\n",
    "#| code-line-numbers: true\n",
    "def K(x):\n",
    "    return 0.2*x**2 + 140*x + 7000\n",
    "\n",
    "v = 260\n",
    "h = 0.0001\n",
    "x = 0\n",
    "\n",
    "while (K(x+h)-K(x))/h < v:\n",
    "    x = x + 1\n",
    "\n",
    "print(x)"
   ]
  },
  {
   "attachments": {},
   "cell_type": "markdown",
   "metadata": {},
   "source": [
    "Me kjenner att `K(x + h) - K(x))/h` som definisjonen til den deriverte av $K$. Programmet finn dermed ut kva tid den deriverte til $K$, *grensekostnaden (kompetansemål i S2)*, blir større enn/passerer `v = 260`. \n",
    "\n",
    "Resultatet når ein køyrer programmet vert då den siste x-verdien (heiltal) som gjer $K'(x) \\leq 260$. \n",
    "\n",
    "Løyser likninga $K'(x)=260$: \n",
    "\n",
    "$$\\begin{align*} \n",
    "K'(x) &= 260 \\\\\n",
    "0,4x + 140 &= 260 \\\\\n",
    "0,4x &= 260 - 140 \\\\\n",
    "x &= \\frac{120}{0,4} = 300\n",
    "\\end{align*} $$\n",
    "\n",
    "Dermed er $K'(300) = 260$ som vil seie at programmet skriv ut `300` når det køyrer, sidan $K'(301)$ vil vera større enn vilkåret i `while`-løkka i rad 8. (sidan $K'(x)$ er ein lineær funksjon med positivt stigningstal). \n",
    "\n",
    "Dette fortel bedrifta at om ein aukar produksjonen frå 300 til 301 einingar per veke så vil kostnadane auka med omlag 260 kr. "
   ]
  },
  {
   "attachments": {},
   "cell_type": "markdown",
   "metadata": {},
   "source": [
    "# Del 2\n",
    "\n",
    "## Oppgåve 1\n",
    "\n",
    "Tabellen nedanfor viser timelønna til ei yrkesgruppe.\n",
    "\n",
    "| År | Timeløn |\n",
    "|---|---|\n",
    "|2008 |272,55|\n",
    "|2010 |285,50|\n",
    "|2013 |307,30|\n",
    "|2015 |314,00|\n",
    "|2019 |327,60|\n",
    "|2022 |340,10|\n"
   ]
  },
  {
   "attachments": {},
   "cell_type": "markdown",
   "metadata": {},
   "source": [
    "### a) Prosentvis vekst\n",
    "\n",
    "Gjennomsnittleg årleg prosentvis vekst frå 2008 til 2022. Det er snakk om $2022-2008=14$ år. Løyser likninga\n",
    "\n",
    "$$272,55 \\cdot x^{14} = 340,10$$ \n",
    "for å finna vekstfaktoren\n",
    "\n"
   ]
  },
  {
   "cell_type": "code",
   "execution_count": 2,
   "metadata": {},
   "outputs": [
    {
     "name": "stdout",
     "output_type": "stream",
     "text": [
      "x = {-1.016, 1.016}\n"
     ]
    }
   ],
   "source": [
    "from sympy import Symbol, diff, Eq, Reals, solveset\n",
    "\n",
    "# definerer x\n",
    "x = Symbol(\"x\")\n",
    "\n",
    "# definerer vs og hs av likninga\n",
    "vs = 272.55 * x**14\n",
    "hs = 340.10\n",
    "\n",
    "# set opp likninga, og løyser ho\n",
    "likning = Eq(vs, hs)\n",
    "løysing = solveset(likning, x, domain=Reals)\n",
    "\n",
    "# skriv ut svaret\n",
    "print(f\"x = {løysing.evalf(4)}\")"
   ]
  },
  {
   "attachments": {},
   "cell_type": "markdown",
   "metadata": {},
   "source": [
    "Ser at vekstfaktoren her er 1.016 som tilsvarar ein årleg gjennomsnittleg prosentvis auke på 1,6%. "
   ]
  },
  {
   "attachments": {},
   "cell_type": "markdown",
   "metadata": {},
   "source": [
    "### b) Eksponentialfunksjon\n",
    "\n",
    "Finn passande eksponentialfunksjon med `curve_fit` i `Scipy`/Python. \n"
   ]
  },
  {
   "cell_type": "code",
   "execution_count": 3,
   "metadata": {},
   "outputs": [
    {
     "name": "stdout",
     "output_type": "stream",
     "text": [
      "g(x) = 278.5 * 1.0151^x\n"
     ]
    }
   ],
   "source": [
    "from scipy.optimize import curve_fit\n",
    "\n",
    "# generell eksponentialfunksjon\n",
    "def g(x, a, b):\n",
    "    return a*b**x\n",
    "\n",
    "# data frå oppgåva\n",
    "år = [0, 2, 5, 7, 11, 14]\n",
    "lønn = [272.55, 285.50, 307.30, 314.00, 327.60, 340.10]\n",
    "\n",
    "# finn funksjonen\n",
    "K, E = curve_fit(g, år, lønn)\n",
    "\n",
    "# hentar ut koeff.\n",
    "a, b = K\n",
    "\n",
    "# skriv ut funksjonsuttrykket\n",
    "print(f\"g(x) = {a:.1f} * {b:.4f}^x\")"
   ]
  },
  {
   "attachments": {},
   "cell_type": "markdown",
   "metadata": {},
   "source": [
    "Ein modell for timeløna til yrkesgruppa $x$ år etter 2008 er $$g(x) = 278,5 \\cdot 1,015^x$$"
   ]
  },
  {
   "attachments": {},
   "cell_type": "markdown",
   "metadata": {},
   "source": [
    "### c) Samla løn\n",
    "\n",
    "Amalie har hatt lønnsauke med 2,3 % kvart år, og starta med timelønn på 272,55 kroner i 2008. Ho har jobba 1700 timar per år. \n",
    "Løyser denne i python med ei `for-løkke`\n"
   ]
  },
  {
   "cell_type": "code",
   "execution_count": 4,
   "metadata": {},
   "outputs": [
    {
     "name": "stdout",
     "output_type": "stream",
     "text": [
      "Samla løn, Amalie: 8188601.24\n"
     ]
    }
   ],
   "source": [
    "samla_løn = 0\n",
    "vf = 1.023\n",
    "timeløn = 272.55\n",
    "\n",
    "# i frå og med 0 til og med 14\n",
    "# finn ny årsløn og legg til samla løn dei 15 åra\n",
    "for i in range(15):\n",
    "    samla_løn += 1700 * timeløn*vf**i\n",
    "\n",
    "print(f\"Samla løn, Amalie: {samla_løn:.2f}\")"
   ]
  },
  {
   "attachments": {},
   "cell_type": "markdown",
   "metadata": {},
   "source": [
    "Samla løn Per kan me finna på ulike måtar.\n",
    "\n",
    "Dersom me går ut frå at Per føl tabellen nøyaktig, dvs. 272,55 kr pr. time i 2008 og 2009, 285,50 kr pr. time i 2010, 2011, 2012 osv. vert den samla løna hans:"
   ]
  },
  {
   "cell_type": "code",
   "execution_count": 5,
   "metadata": {},
   "outputs": [
    {
     "name": "stdout",
     "output_type": "stream",
     "text": [
      "Samla løn, Per: 7811670.00\n"
     ]
    }
   ],
   "source": [
    "def periodeløn(tal_år, timeløn):\n",
    "    return tal_år * 1700 * timeløn\n",
    "\n",
    "# løn kvar periode\n",
    "p1 = periodeløn(2010-2008, 272.55)\n",
    "p2 = periodeløn(2013-2010, 285.50)\n",
    "p3 = periodeløn(2015-2013, 307.30)\n",
    "p4 = periodeløn(2019-2015, 314.00)\n",
    "p5 = periodeløn(2022-2019, 327.60)\n",
    "p6 = periodeløn(2023-2022, 340.10)\n",
    "\n",
    "samla_løn = p1 + p2 + p3 + p4 + p5 + p6\n",
    "\n",
    "print(f\"Samla løn, Per: {samla_løn:.2f}\")"
   ]
  },
  {
   "attachments": {},
   "cell_type": "markdown",
   "metadata": {},
   "source": [
    "Om me på den andre sida bruker modellen for timeløn som me fann i **b)** så kan me bruka den:"
   ]
  },
  {
   "cell_type": "code",
   "execution_count": 6,
   "metadata": {},
   "outputs": [
    {
     "name": "stdout",
     "output_type": "stream",
     "text": [
      "Samla løn, Per: 7903823.68\n"
     ]
    }
   ],
   "source": [
    "samla_løn = 0\n",
    "\n",
    "# modell for timeløn\n",
    "def g(x):\n",
    "    return 278.5 * 1.0151**x\n",
    "\n",
    "# i frå og med 0 til og med 14\n",
    "# finn ny årsløn og legg til samla løn dei 15 åra\n",
    "for i in range(15):\n",
    "    samla_løn += 1700 * g(i)\n",
    "\n",
    "print(f\"Samla løn, Per: {samla_løn:.2f}\")"
   ]
  },
  {
   "attachments": {},
   "cell_type": "markdown",
   "metadata": {},
   "source": [
    "Ser at skilnaden på dei to strategiane er rundt 92 000 kr i løpet av dei 15 åra (f.o.m. 2008, t.o.m. 2022). "
   ]
  },
  {
   "attachments": {},
   "cell_type": "markdown",
   "metadata": {},
   "source": [
    "\n",
    "### d) Lønnskrav\n",
    "\n",
    "I 2022 har Per timeløn 340,10 kr og Amalie timeløn $272.55 \\cdot 1.023^{14} \\approx 374,72$\n",
    "Viss Per skal ha same timeløn som Amalie i 2025 (om 3 år) må \n",
    "\n",
    "$$340,10 \\cdot x^3 = 374,72 \\cdot 1,023^3$$\n",
    "\n",
    "Løyser likninga i Python:"
   ]
  },
  {
   "cell_type": "code",
   "execution_count": 7,
   "metadata": {},
   "outputs": [
    {
     "name": "stdout",
     "output_type": "stream",
     "text": [
      "x = {1.057}\n"
     ]
    }
   ],
   "source": [
    "from sympy import Symbol, diff, Eq, Reals, solveset\n",
    "\n",
    "# definerer x\n",
    "x = Symbol(\"x\")\n",
    "\n",
    "# definerer vs og hs av likninga\n",
    "vs = 340.10 * x**3\n",
    "hs = 374.72 * 1.023**3\n",
    "\n",
    "# set opp likninga, og løyser ho\n",
    "likning = Eq(vs, hs)\n",
    "løysing = solveset(likning, x, domain=Reals)\n",
    "\n",
    "# skriv ut svaret\n",
    "print(f\"x = {løysing.evalf(4)}\")"
   ]
  },
  {
   "attachments": {},
   "cell_type": "markdown",
   "metadata": {},
   "source": [
    "Dersom kravet skal bli innfridd må Løna til Per stiga med 5,7% kvart år dei neste 3 åra. "
   ]
  },
  {
   "attachments": {},
   "cell_type": "markdown",
   "metadata": {},
   "source": [
    "## Oppgåve 2\n",
    "\n",
    "### a) Påstand 1 - logaritmar\n",
    "\n",
    "La $x=e$. Då er $x>0$ og $\\ln(x)=\\ln(e)=1$. Dermed får me\n",
    "\n",
    "$$\n",
    "\\begin{align*}\n",
    "    (\\ln(x))^4 &= 4\\ln(x) \\\\\n",
    "    1^4 &\\neq 4\\cdot 1\n",
    "\\end{align*}\n",
    "$$\n",
    "\n",
    "**Påstanden er usann**\n",
    "\n",
    "### b) Påstand 2 - fjerdegradsfunksjonar\n",
    "\n",
    "Talet på ekstremalpunkt til ein funksjon er knytt saman med talet på nullpunkt til den deriverte til funksjonen. \n",
    "\n",
    "Den deriverte til ein fjerdegradsfunksjon er ein tredjegradsfunksjon. Alle tredjegradsfunksjonar har minst eitt nullpunkt. \n",
    "\n",
    "Sidan alle tredjegradsfunksjonar har minst eitt nullpunkt har alle fjerdegradsfunksjonar minst eitt ekstremalpunkt. \n",
    "\n",
    "**Påstanden er sann**\n",
    "\n",
    "### c) Påstand 3 - Lotto\n",
    "\n",
    "Kan sjå på dette som hypergeometrisk sannsyn, der populasjon og utval er delt i to grupper, *mindre enn 18* og *ikkje mindre enn 18*.\n",
    "\n",
    "Det er 17 av tala som er *mindre enn 18*, $0\\rightarrow 17$, og 17 tala som er *ikkje mindre enn 18*, $18\\rightarrow 34$. \n",
    "\n",
    "La $X$ vera antall kuler mindre enn 18. Då er \n",
    "\n",
    "$$P(X=7) = \\frac{\\left(17 \\atop 7 \\right) \\left(17 \\atop 0 \\right)}{\\left(34 \\atop 7\\right)}$$\n",
    "\n",
    "og samtidig er \n",
    "\n",
    "$$P(X=0) = \\frac{\\left(17 \\atop 0 \\right) \\left(17 \\atop 7 \\right)}{\\left(34 \\atop 7\\right)}$$\n",
    "\n",
    "Dermed ser me at $P(X=7) = P(X=0)$. \n",
    "\n",
    "**Påstanden er sann**"
   ]
  },
  {
   "attachments": {},
   "cell_type": "markdown",
   "metadata": {},
   "source": [
    "## Oppgåve 3\n",
    "\n",
    "Eit spel med to terningar. Mona finn sannsyn med programmet\n",
    "\n",
    "\n"
   ]
  },
  {
   "cell_type": "code",
   "execution_count": 8,
   "metadata": {},
   "outputs": [
    {
     "name": "stdout",
     "output_type": "stream",
     "text": [
      "0.4166666666666667\n"
     ]
    }
   ],
   "source": [
    "#| code-line-numbers: true\n",
    "g = 0\n",
    "for i in range(1, 7):\n",
    "    for j in range(1, 7):\n",
    "        if i+j >= 8:\n",
    "            g = g + 1\n",
    "\n",
    "print(g/36)"
   ]
  },
  {
   "attachments": {},
   "cell_type": "markdown",
   "metadata": {},
   "source": [
    "### a) Sannsyn i programkoden\n",
    "\n",
    "Med dette programmet tel Mona opp kor mange av dei moglege utfalla (summen av to terningar) som blir 8 eller større. \n",
    "Løkka går gjennom alle kombinasjonar av dei to terningane `i=1, j=1`, `i=1, j=2`, ..., `i=2, j=1` osb.\n"
   ]
  },
  {
   "attachments": {},
   "cell_type": "markdown",
   "metadata": {},
   "source": [
    "### b) Nytt program - tre terningar\n",
    "\n",
    "Eit anna spel med tre terningar. Gevinst om summen av auge er 7 eller 11. \n",
    "Kan utvida programmet frå **a)**. Endrar nemnaren til 216 ($6\\cdot 6 \\cdot 6$) i siste linja. "
   ]
  },
  {
   "cell_type": "code",
   "execution_count": 9,
   "metadata": {},
   "outputs": [
    {
     "name": "stdout",
     "output_type": "stream",
     "text": [
      "0.19444444444444445\n"
     ]
    }
   ],
   "source": [
    "#| code-line-numbers: true\n",
    "g = 0\n",
    "for i in range(1, 7):\n",
    "    for j in range(1, 7):\n",
    "        for k in range(1, 7):\n",
    "            if (i+j+k == 7) or (i+j+k == 11):\n",
    "                g = g + 1\n",
    "\n",
    "print(g/216)"
   ]
  },
  {
   "attachments": {},
   "cell_type": "markdown",
   "metadata": {},
   "source": [
    "Sannsynet for å vinna dette spelet er $0,194$. "
   ]
  },
  {
   "attachments": {},
   "cell_type": "markdown",
   "metadata": {},
   "source": [
    "## Oppgåve 4\n",
    "\n",
    "### a) Pris 40 kr\n",
    "\n",
    "Viss $p=40$ les me av grafen at $e=2100$. \n",
    "\n",
    "Det vil seie at ein sel 2100 einingar til 40 kr pr. stk. \n",
    "\n",
    "Daglege inntekter på $2100 \\cdot 40 kr = 84 000 kr$. \n",
    "\n",
    "### b) Inntekt 75 000 kr\n",
    "\n",
    "Ser av grafen at $e(p)$ har konstantledd 4500 og stigningstal -60. (Nedgang frå 4500 til 3900 på y-aksen når ein går frå 0 til 10 på x-aksen)\n",
    "\n",
    "Dvs. $e(p) = 4500 - 60p$. \n",
    "\n",
    "Daglege inntekter er tal eiingar gange prisen, $e(p)\\cdot p$.\n",
    "\n",
    "Løyser likninga $e(p)\\cdot p = 75000$.\n",
    "\n"
   ]
  },
  {
   "cell_type": "code",
   "execution_count": 10,
   "metadata": {},
   "outputs": [
    {
     "name": "stdout",
     "output_type": "stream",
     "text": [
      "p = {25.0, 50.0}\n"
     ]
    }
   ],
   "source": [
    "from sympy import Symbol, diff, Eq, Reals, solveset\n",
    "\n",
    "# definerer p\n",
    "p = Symbol(\"p\")\n",
    "\n",
    "# definerer vs og hs av likninga\n",
    "vs = (4500 - 60*p)*p\n",
    "hs = 75000\n",
    "\n",
    "# set opp likninga, og løyser ho\n",
    "likning = Eq(vs, hs)\n",
    "løysing = solveset(likning, p, domain=Reals)\n",
    "\n",
    "# skriv ut svaret\n",
    "print(f\"p = {løysing.evalf(4)}\")"
   ]
  },
  {
   "attachments": {},
   "cell_type": "markdown",
   "metadata": {},
   "source": [
    "Ser at om prisen er 25 kr eller 50 kr så vil dei daglege inntektene bli 75000 kr. "
   ]
  },
  {
   "attachments": {},
   "cell_type": "markdown",
   "metadata": {},
   "source": [
    "### c) Størst inntekt \n",
    "\n",
    "Sidan funksjonen for daglege inntekter er ein konkav andregradsfunksjon ($(4500-60p)p = -60p^2+45000$) er ekstremalpunktet eit toppunkt. Av symmetri i andregradsfunksjonar følgjer det at toppunktet ligg midt mellom 25 kr og 50 kr. \n",
    "\n",
    "Pris på $(25 kr + 50 kr)/2 = 37,5 kr $ gjev størst inntekt. "
   ]
  },
  {
   "attachments": {},
   "cell_type": "markdown",
   "metadata": {},
   "source": [
    "## Oppgåve 5\n",
    "\n",
    "### a) Bestem sannsyn\n",
    "\n",
    "Her kan me gå ut frå at det binomisk sannsyn sidan me har\n",
    "- to utfall i kvart delforsøk, kvar bilett (brukt/ikkje brukt)\n",
    "- likt sannsyn for at billetten vert brukt (0,45) i kvart delforsøk\n",
    "- uavhengige delforsøk (viss me går ut frå at dei som får gratisbillettane ikkje påverkar kvarande med om dei bruker eller ikkje bruker billetten...)\n",
    "\n",
    "Lar $X$ vera tal billettar som vert brukt. \n",
    "\n",
    "Finn $P(X\\geq 600)$ ved simulering\n"
   ]
  },
  {
   "cell_type": "code",
   "execution_count": 11,
   "metadata": {},
   "outputs": [
    {
     "name": "stdout",
     "output_type": "stream",
     "text": [
      "P(X ≥ 600) = 0.2097\n"
     ]
    }
   ],
   "source": [
    "import numpy as np\n",
    "rng = np.random.default_rng()\n",
    "\n",
    "N = 10000000 # tal simuleringar\n",
    "p = 0.45     # P(brukt billett)\n",
    "n = 1300     # tal gratisbillettar\n",
    "\n",
    "# simulerer \n",
    "brukte_billettar = rng.binomial(n, p, size=N)\n",
    "\n",
    "# finn sannsynet\n",
    "gunstige = sum(brukte_billettar >= 600)\n",
    "sannsyn = gunstige / N\n",
    "print(f\"P(X ≥ 600) = {sannsyn:.4f}\")"
   ]
  },
  {
   "attachments": {},
   "cell_type": "markdown",
   "metadata": {},
   "source": [
    "Sannynet for at minst 600 av billettane vert brukt er omlag 0,21."
   ]
  },
  {
   "attachments": {},
   "cell_type": "markdown",
   "metadata": {},
   "source": [
    "### b) Finn tal gratisbilettar\n",
    "\n",
    "Vil finna ut kor mange gratisbillettar dei må dela ut dersom sannsynet for at minst 600 blir brukt skal vera over 95 %. \n",
    "\n",
    "Gjer simuleringa frå **a)** til ein funksjon og testar med fleire og fleire gratisbillettar til sannsynet for at minst 600 blir brukt passerer 95 %. "
   ]
  },
  {
   "cell_type": "code",
   "execution_count": 12,
   "metadata": {},
   "outputs": [
    {
     "name": "stdout",
     "output_type": "stream",
     "text": [
      "1401\n"
     ]
    }
   ],
   "source": [
    "# sannsynsfunksjon\n",
    "def sannsyn(n):\n",
    "    N = 1000000\n",
    "    p = 0.45\n",
    "\n",
    "    # simulerer \n",
    "    brukte_billettar = rng.binomial(n, p, size=N)\n",
    "\n",
    "    # finn sannsynet\n",
    "    gunstige = sum(brukte_billettar >= 600)\n",
    "    sannsyn = gunstige / N\n",
    "\n",
    "    return sannsyn\n",
    "\n",
    "n = 1300\n",
    "\n",
    "# aukar tal gratisbillettar til sannsynet er 95% eller meir\n",
    "while sannsyn(n) < 0.95:\n",
    "    n += 1\n",
    "\n",
    "print(n)"
   ]
  },
  {
   "attachments": {},
   "cell_type": "markdown",
   "metadata": {},
   "source": [
    "Dvs. om dei deler ut 1400 bilettar vil det vera over 95 % sannsynleg at minst 600 av dei vert brukt. "
   ]
  },
  {
   "attachments": {},
   "cell_type": "markdown",
   "metadata": {},
   "source": [
    "## Oppgåve 6\n",
    "\n",
    "Samanhengen mellom lydstyrken $L$ (målt i $dB$) og lydintensiteten $I$ (målt i $W/m^2$) er gitt ved\n",
    "\n",
    "$$L = 120 + 10\\cdot \\lg(I)$$\n",
    "\n",
    "Smertegrense for menneske på kring 130 $dB$\n",
    "\n",
    "### a) Bestem lydintensitet\n",
    "\n",
    "Set inn $L=130$ og løyser likninga for $I$. "
   ]
  },
  {
   "cell_type": "code",
   "execution_count": 13,
   "metadata": {},
   "outputs": [
    {
     "name": "stdout",
     "output_type": "stream",
     "text": [
      "I = {10.0}\n"
     ]
    }
   ],
   "source": [
    "from sympy import Symbol, diff, Eq, Reals, solveset, log\n",
    "\n",
    "# definerer I\n",
    "I = Symbol(\"I\")\n",
    "\n",
    "# definerer vs og hs av likninga\n",
    "vs = 130\n",
    "hs = 120 + 10*log(I, 10)\n",
    "\n",
    "# set opp likninga, og løyser ho\n",
    "likning = Eq(vs, hs)\n",
    "løysing = solveset(likning, I, domain=Reals)\n",
    "\n",
    "# skriv ut svaret\n",
    "print(f\"I = {løysing.evalf(4)}\")"
   ]
  },
  {
   "attachments": {},
   "cell_type": "markdown",
   "metadata": {},
   "source": [
    "Lydintensiteten er $10 W/m^2$ når lydstyrken er $130dB$."
   ]
  },
  {
   "attachments": {},
   "cell_type": "markdown",
   "metadata": {},
   "source": [
    "### b) Auke i intensitet\n",
    "\n",
    "Finn intensiten ved $132dB$. "
   ]
  },
  {
   "cell_type": "code",
   "execution_count": 14,
   "metadata": {},
   "outputs": [
    {
     "name": "stdout",
     "output_type": "stream",
     "text": [
      "I = {15.85}\n"
     ]
    }
   ],
   "source": [
    "# definerer vs og hs av likninga\n",
    "vs = 132\n",
    "hs = 120 + 10*log(I, 10)\n",
    "\n",
    "# set opp likninga, og løyser ho\n",
    "likning = Eq(vs, hs)\n",
    "løysing = solveset(likning, I, domain=Reals)\n",
    "\n",
    "# skriv ut svaret\n",
    "print(f\"I = {løysing.evalf(4)}\")"
   ]
  },
  {
   "attachments": {},
   "cell_type": "markdown",
   "metadata": {},
   "source": [
    "Lydinsiteten har auka frå 10 til 15,85. Det gir oss vekstfaktor $15,85 / 10 = 1,581$. \n",
    "\n",
    "Auken i lydintensitet er omlag 58,1 % når ein aukar lydstyrken med $2 dB$. "
   ]
  },
  {
   "attachments": {},
   "cell_type": "markdown",
   "metadata": {},
   "source": [
    "### c) Minste avstand til flyet\n",
    "\n",
    "Effekten til lyd frå lydkjelde, $E$, vil gje lydintensitet $I$ i ein avstand $r$ (målt i $m$) frå lydkjelda vera $$I = \\frac{E}{4\\pi \\cdot r^2}$$. \n",
    "\n",
    "Lydstyrke frå eit fly er $140 dB$ når ein er $50 m$ frå flyet. \n",
    "\n",
    "Bestem den minste avstanden til flyet der lydstyrken er mindre enn $130dB$. \n",
    "\n",
    "Finn intensiteten ved $140 dB$: \n",
    "\n"
   ]
  },
  {
   "cell_type": "code",
   "execution_count": 15,
   "metadata": {},
   "outputs": [
    {
     "name": "stdout",
     "output_type": "stream",
     "text": [
      "I = {100.0}\n"
     ]
    }
   ],
   "source": [
    "# definerer vs og hs av likninga\n",
    "vs = 140\n",
    "hs = 120 + 10*log(I, 10)\n",
    "\n",
    "# set opp likninga, og løyser ho\n",
    "likning = Eq(vs, hs)\n",
    "løysing = solveset(likning, I, domain=Reals)\n",
    "\n",
    "# skriv ut svaret\n",
    "print(f\"I = {løysing.evalf(4)}\")"
   ]
  },
  {
   "attachments": {},
   "cell_type": "markdown",
   "metadata": {},
   "source": [
    "Vidare bruker me at $I=100$ for å finna E. \n",
    "$$\\begin{align*}\n",
    "I &= \\frac{E}{4\\pi\\cdot r^2} \\\\\n",
    "100 &= \\frac{E}{4\\pi\\cdot 50^2} \\\\\n",
    "E &= 100 \\cdot 4\\pi\\cdot 50^2\n",
    "\\end{align*} $$"
   ]
  },
  {
   "attachments": {},
   "cell_type": "markdown",
   "metadata": {},
   "source": [
    "Dette gjev oss likninga \n",
    "\n",
    "$$\\begin{align*}\n",
    "L &= 120 + 10\\lg(I) \\\\\n",
    "&= 120 + 10\\lg\\left(\\frac{E}{4\\pi\\cdot r^2}\\right) \\\\\n",
    "&= 120 + 10\\lg\\left(\\frac{100 \\cdot 4\\pi\\cdot 50^2}{4\\pi\\cdot r^2}\\right) \\\\\n",
    "&= 120 + 10\\lg\\left(\\frac{100 \\cdot50^2}{r^2}\\right)\n",
    "\\end{align*} $$"
   ]
  },
  {
   "attachments": {},
   "cell_type": "markdown",
   "metadata": {},
   "source": [
    "Løyser likninga for $r$ når $L=130$. "
   ]
  },
  {
   "cell_type": "code",
   "execution_count": 16,
   "metadata": {},
   "outputs": [
    {
     "name": "stdout",
     "output_type": "stream",
     "text": [
      "r = {-158.1, 158.1}\n"
     ]
    }
   ],
   "source": [
    "# definerer r\n",
    "r = Symbol(\"r\")\n",
    "\n",
    "# definerer vs og hs av likninga\n",
    "vs = 130\n",
    "hs = 120 + 10*log((100*50**2)/(r**2), 10)\n",
    "\n",
    "# set opp likninga, og løyser ho\n",
    "likning = Eq(vs, hs)\n",
    "løysing = solveset(likning, r, domain=Reals)\n",
    "\n",
    "# skriv ut svaret\n",
    "print(f\"r = {løysing.evalf(4)}\")"
   ]
  },
  {
   "attachments": {},
   "cell_type": "markdown",
   "metadata": {},
   "source": [
    "Den minste avstanden er 158 meter. "
   ]
  },
  {
   "cell_type": "code",
   "execution_count": null,
   "metadata": {},
   "outputs": [],
   "source": []
  }
 ],
 "metadata": {
  "kernelspec": {
   "display_name": "Python 3",
   "language": "python",
   "name": "python3"
  },
  "language_info": {
   "codemirror_mode": {
    "name": "ipython",
    "version": 3
   },
   "file_extension": ".py",
   "mimetype": "text/x-python",
   "name": "python",
   "nbconvert_exporter": "python",
   "pygments_lexer": "ipython3",
   "version": "3.8.16"
  },
  "orig_nbformat": 4,
  "vscode": {
   "interpreter": {
    "hash": "369f2c481f4da34e4445cda3fffd2e751bd1c4d706f27375911949ba6bb62e1c"
   }
  }
 },
 "nbformat": 4,
 "nbformat_minor": 2
}
