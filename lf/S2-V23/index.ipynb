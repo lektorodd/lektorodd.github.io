{
 "cells": [
  {
   "cell_type": "raw",
   "metadata": {},
   "source": [
    "---\n",
    "title: \"Eksamen V23 S2\"\n",
    "from: markdown+emoji\n",
    "author: \"Torodd F. Ottestad\"\n",
    "date: \"07-24-2023\"\n",
    "categories: [S2, V23, eksamen]\n",
    "draft: true\n",
    "---"
   ]
  },
  {
   "attachments": {},
   "cell_type": "markdown",
   "metadata": {},
   "source": [
    "# Løysingsforslag eksamen S2 - V23 \n",
    "\n",
    "Her er eit forslag til løysing av våreksamen i S2 2023. I del 2 er oppgåvene stort sett Python brukt som hjelpemiddel.\n",
    "\n",
    "Eg kan ikkje lova at løysinga er feilfri... 😊 Gje meg gjerne ein lyd i kommentarfeltet eller [her](/about.qmd) om du ser feil :mag: \n",
    "\n",
    "Sist oppdatert: DD.mmm\n",
    "\n",
    "---\n",
    "\n",
    "Eksamenssettet finn du hos UDIR: [Finn eksamensoppgaver](https://sokeresultat.udir.no/eksamensoppgaver.html)"
   ]
  },
  {
   "attachments": {},
   "cell_type": "markdown",
   "metadata": {},
   "source": [
    "\n",
    "# Del 1 - utan hjelpemiddel\n",
    "\n",
    "## Oppgåve 1 - bestemt integral\n",
    "\n",
    "Rekn ut integralet\n",
    "\n",
    "$$\n",
    "\\begin{align*}\n",
    "\\int_0^1 \\left(e^x + 3x^2 \\right) dx &= \\left[ e^x + x^3 \\right]_0^1 \\\\\n",
    "&= \\left( e^1 + 1^3 \\right) - \\left(e^0 - 0^3\\right) \\\\\n",
    "&= e + 1 - (1-0) = e + 1 - 1 \\\\\n",
    "&= e \n",
    "\\end{align*}\n",
    "$$"
   ]
  },
  {
   "attachments": {},
   "cell_type": "markdown",
   "metadata": {},
   "source": [
    "## Oppgåve 2 - kostnads- og inntektsfunksjon\n",
    "\n",
    "Bruker figuren frå oppgåvesettet med inntekst- og kostnadsfunksjonane sine respektive grafar\n",
    "\n",
    "### a) - grensekostnad\n",
    "\n",
    "Grensekostnaden når det blir produsert 40 einingar er eit omtrentleg mål på kor mykje meir det vil kosta oss å produsera ei eining til (dvs. 41). Grensekostnaden finn me ved å sjå på den deriverte til kostnadsfunksjonen. For å finna den frå grafen kan me teikna ein tangent til kostnadsfunksjonen som tangerer når $x=40$. Deretter finn me stigningstalet til denne tangenten. \n",
    "\n",
    "Den aktuelle tangenten går gjennom tangeringspunktet $(40, 3000)$ og $(80, 6000)$.\n",
    "\n",
    "Dermed er grensekostnaden \n",
    "$$ K'(40) \\approx \\frac{\\Delta y}{\\Delta x} = \\frac{6000-3000}{80-40} = \\frac{3000}{40} = 75 $$\n",
    "\n",
    "### b) - størst overskot\n",
    "\n",
    "Overskotet er størst der overskotsfunksjonen har sitt ekstremalpunkt. \n",
    "\n",
    "Overskotssfunksjonen finn me ved å trekka kostnadene frå inntektene. Dermed har me at \n",
    "$$ \\begin{align*}\n",
    "O(x) &= I(x) - K(x) \\\\\n",
    "O'(x) &= I'(x) - K'(x) \n",
    "\\end{align*} $$\n",
    "\n",
    "Som betyr at \n",
    "$$O'(x) = 0 \\Leftrightarrow I'(x) = K'(x)$$\n",
    "\n",
    "Me kan altså sjå på grafen kva $x$-verdi som gjer at tangenten til inntektsfunksjonen og tangenten til kostnadsfunksjonen har samme stigningstal. "
   ]
  },
  {
   "attachments": {},
   "cell_type": "markdown",
   "metadata": {},
   "source": [
    "## Oppgåve 3\n",
    "\n",
    "### a) totalt sannsyn\n",
    "Summen av sannsyna i sannsynsfordelinga må vera 1. Dermed har me at\n",
    "\n",
    "$$\\begin{align*}\n",
    "k + 0,3 + (k-0,2) + 0,1 &= 1  \\\\\n",
    "2k + 0,2 &= 1 \\\\\n",
    "2k &= 0,8 \\\\\n",
    "k = 0,4 \n",
    "\\end{align*}$$\n",
    "\n",
    "Og då blir \n",
    "$$P(X>1) = (k-0,2) + 0,1 = (0,4-0,2)+0,1 = 0,3 $$\n",
    "\n",
    "### b) - forventningsverdi og varians\n",
    "\n",
    "- ha med formlar og vis utrekning"
   ]
  },
  {
   "attachments": {},
   "cell_type": "markdown",
   "metadata": {},
   "source": [
    "## Oppgåve 4 \n"
   ]
  },
  {
   "cell_type": "code",
   "execution_count": 4,
   "metadata": {},
   "outputs": [
    {
     "name": "stdout",
     "output_type": "stream",
     "text": [
      "210\n"
     ]
    }
   ],
   "source": [
    "#| eval: false\n",
    "#| code-line-numbers: true\n",
    "#| output: false\n",
    "a = 3\n",
    "d = 4\n",
    "\n",
    "N = 10\n",
    "S = 0\n",
    "\n",
    "for i in range(N):\n",
    "    S = S + a\n",
    "    a = a + d\n",
    "\n",
    "print(S)"
   ]
  },
  {
   "cell_type": "markdown",
   "metadata": {},
   "source": [
    "### a) - forklar koden\n",
    "\n",
    "I forløkka ser me at storleikane S og a vert endra `N` gongar. `a` vert lagt til `S` medan `d` vert lagt til `a`. \n",
    "\n",
    "Først i programmet vert `a=3` og `d=4`. Me ser òg at `S=0`. \n",
    "\n",
    "Desse opplysningane kombinert samsvarar godt med aritmetiske følger og summen av dei. \n",
    "\n",
    "Eleven her vil altså rekne ut summen av ei aritmetisk følge der $a_1 = 3$ og differansen mellom ledda er 4. `N=10` betyr at eleven finn summen av dei 10 første ledda. \n",
    "\n",
    "### b) - "
   ]
  },
  {
   "attachments": {},
   "cell_type": "markdown",
   "metadata": {},
   "source": [
    "## Oppgåve 5\n",
    "\n",
    "Knut må ta ein tabl"
   ]
  },
  {
   "cell_type": "markdown",
   "metadata": {},
   "source": [
    "## oppgåve 6\n",
    "\n",
    "### a) finn sannsynet\n",
    "\n",
    "### b) bestem t\n",
    "\n",
    "### c) grafisk framstilling"
   ]
  },
  {
   "attachments": {},
   "cell_type": "markdown",
   "metadata": {},
   "source": [
    "# Del 2\n",
    "\n",
    "## Oppgåve 1\n",
    "\n",
    "Lån\n",
    "\n"
   ]
  },
  {
   "cell_type": "markdown",
   "metadata": {},
   "source": [
    "### a) terminbeløp "
   ]
  },
  {
   "cell_type": "markdown",
   "metadata": {},
   "source": [
    "### b) dekke skader"
   ]
  },
  {
   "cell_type": "markdown",
   "metadata": {},
   "source": [
    "## Oppgåve 2\n",
    "\n",
    "Tabellen viser kor mange millionar kroner brukt på strøyming av musikk i nokre år i perioden 2008 til 2018\n",
    "\n",
    "\n",
    "| År | Strøyming |\n",
    "|---|---|\n",
    "|2008 |2|\n",
    "|2010 |70|\n",
    "|2012 |246|\n",
    "|2014 |456|\n",
    "|2016 |582|\n",
    "|2018 |655|"
   ]
  },
  {
   "cell_type": "markdown",
   "metadata": {},
   "source": [
    "### a) Lag ein modell "
   ]
  },
  {
   "cell_type": "markdown",
   "metadata": {},
   "source": [
    "### b) bestem konstantane"
   ]
  },
  {
   "cell_type": "markdown",
   "metadata": {},
   "source": [
    "### c) praktisk tolking"
   ]
  },
  {
   "attachments": {},
   "cell_type": "markdown",
   "metadata": {},
   "source": [
    "## Oppgåve 3\n",
    "\n",
    "Blindtest av Coca-Cola og Pepsi-Cola."
   ]
  },
  {
   "cell_type": "markdown",
   "metadata": {},
   "source": [
    "### a) P(X = 6)"
   ]
  },
  {
   "cell_type": "markdown",
   "metadata": {},
   "source": [
    "### b) hypotesetesting"
   ]
  },
  {
   "cell_type": "markdown",
   "metadata": {},
   "source": [
    "### c) overbevise Birger"
   ]
  },
  {
   "cell_type": "markdown",
   "metadata": {},
   "source": [
    "## Oppgåve 4"
   ]
  },
  {
   "cell_type": "markdown",
   "metadata": {},
   "source": [
    "### a) dei fire første vekene"
   ]
  },
  {
   "cell_type": "markdown",
   "metadata": {},
   "source": [
    "### b) samalikne vekeløn"
   ]
  },
  {
   "cell_type": "markdown",
   "metadata": {},
   "source": [
    "### c) samanlikne totaløn"
   ]
  },
  {
   "cell_type": "markdown",
   "metadata": {},
   "source": [
    "## Oppgåve 5"
   ]
  },
  {
   "cell_type": "markdown",
   "metadata": {},
   "source": [
    "### a) simulerer 20 elevar"
   ]
  },
  {
   "cell_type": "markdown",
   "metadata": {},
   "source": [
    "### b) finne sannsyn ved simulering"
   ]
  }
 ],
 "metadata": {
  "kernelspec": {
   "display_name": "Python 3 (ipykernel)",
   "language": "python",
   "name": "python3"
  },
  "language_info": {
   "codemirror_mode": {
    "name": "ipython",
    "version": 3
   },
   "file_extension": ".py",
   "mimetype": "text/x-python",
   "name": "python",
   "nbconvert_exporter": "python",
   "pygments_lexer": "ipython3",
   "version": "3.11.4"
  },
  "vscode": {
   "interpreter": {
    "hash": "369f2c481f4da34e4445cda3fffd2e751bd1c4d706f27375911949ba6bb62e1c"
   }
  }
 },
 "nbformat": 4,
 "nbformat_minor": 4
}
