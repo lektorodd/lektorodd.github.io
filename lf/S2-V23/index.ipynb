{
 "cells": [
  {
   "cell_type": "raw",
   "metadata": {
    "vscode": {
     "languageId": "raw"
    }
   },
   "source": [
    "---\n",
    "title: \"Eksamen V23 S2\"\n",
    "from: markdown+emoji\n",
    "author: \"Torodd F. Ottestad\"\n",
    "date: \"04-29-2024\"\n",
    "categories: [S2, V23, eksamen]\n",
    "---"
   ]
  },
  {
   "attachments": {},
   "cell_type": "markdown",
   "metadata": {},
   "source": [
    "# Løysingsforslag eksamen S2 - V23 \n",
    "\n",
    "Her er eit forslag til løysing av våreksamen i S2 2023. I del 2 er oppgåvene stort sett Python brukt som hjelpemiddel.\n",
    "\n",
    "Eg kan ikkje lova at løysinga er feilfri... 😊 Gje meg gjerne ein lyd i kommentarfeltet eller [her](/about.qmd) om du ser feil :mag: \n",
    "\n",
    "Sist oppdatert: 29.04.2024\n",
    "\n",
    "---\n",
    "\n",
    "Eksamenssettet finn du hos UDIR: [Finn eksamensoppgaver](https://sokeresultat.udir.no/eksamensoppgaver.html)"
   ]
  },
  {
   "attachments": {},
   "cell_type": "markdown",
   "metadata": {},
   "source": [
    "\n",
    "# Del 1 - utan hjelpemiddel\n",
    "\n",
    "## Oppgåve 1 - bestemt integral\n",
    "\n",
    "Rekn ut integralet\n",
    "\n",
    "$$\n",
    "\\begin{align*}\n",
    "\\int_0^1 \\left(e^x + 3x^2 \\right) dx &= \\left[ e^x + x^3 \\right]_0^1 \\\\\n",
    "&= \\left( e^1 + 1^3 \\right) - \\left(e^0 - 0^3\\right) \\\\\n",
    "&= e + 1 - (1-0) = e + 1 - 1 \\\\\n",
    "&= e \n",
    "\\end{align*}\n",
    "$$"
   ]
  },
  {
   "attachments": {},
   "cell_type": "markdown",
   "metadata": {},
   "source": [
    "## Oppgåve 2 - kostnads- og inntektsfunksjon\n",
    "\n",
    "Bruker figuren frå oppgåvesettet med inntekst- og kostnadsfunksjonane sine respektive grafar\n",
    "\n",
    "### a) - grensekostnad\n",
    "\n",
    "Grensekostnaden når det blir produsert 40 einingar er eit omtrentleg mål på kor mykje meir det vil kosta oss å produsera ei eining til (dvs. 41). Grensekostnaden finn me ved å sjå på den deriverte til kostnadsfunksjonen. For å finna den frå grafen kan me teikna ein tangent til kostnadsfunksjonen som tangerer når $x=40$. Deretter finn me stigningstalet til denne tangenten. \n",
    "\n",
    "Den aktuelle tangenten vil gå gjennom tangeringspunktet $(40, 3000)$ og punktet $(80, 6000)$.\n",
    "\n",
    "Dermed er grensekostnaden når det blir produsert 40 einingar:\n",
    "$$ K'(40) \\approx \\frac{\\Delta y}{\\Delta x} = \\frac{6000-3000}{80-40} = \\frac{3000}{40} = 75 $$\n",
    "\n",
    "### b) - størst overskot\n",
    "\n",
    "Overskotet er størst der overskotsfunksjonen har sitt ekstremalpunkt. \n",
    "\n",
    "Overskotssfunksjonen finn me ved å trekka kostnadene frå inntektene. Dermed har me at \n",
    "$$ \\begin{align*}\n",
    "O(x) &= I(x) - K(x) \\\\\n",
    "O'(x) &= I'(x) - K'(x) \n",
    "\\end{align*} $$\n",
    "\n",
    "Som betyr at \n",
    "$$O'(x) = 0 \\Leftrightarrow I'(x) = K'(x)$$\n",
    "\n",
    "Me kan altså sjå på grafen kva $x$-verdi som gjer at tangenten til inntektsfunksjonen og tangenten til kostnadsfunksjonen har samme stigningstal. \n",
    "\n",
    "I dette tilfellet ser det ut til å vera for $x\\approx 55$, dvs. 55 einingar. "
   ]
  },
  {
   "attachments": {},
   "cell_type": "markdown",
   "metadata": {},
   "source": [
    "## Oppgåve 3\n",
    "\n",
    "### a) totalt sannsyn\n",
    "Det totale sannsynet, summen av sannsyna i sannsynsfordelinga, må vera 1. Dermed har me at\n",
    "\n",
    "$$\\begin{align*}\n",
    "k + 0.3 + (k-0.2) + 0.1 &= 1  \\\\\n",
    "2k + 0.2 &= 1 \\\\\n",
    "2k &= 0.8 \\\\\n",
    "k &= 0.4 \n",
    "\\end{align*}$$\n",
    "\n",
    "Og då blir \n",
    "$$\\begin{align*}\n",
    "P(X>1) &= P(X=2)+P(X=3) \\\\\n",
    "&=(k-0.2) + 0,1 \\\\\n",
    "&= (0,4-0.2)+0.1 \\\\\n",
    "&= 0.3 \n",
    "\\end{align*}\n",
    "$$\n"
   ]
  },
  {
   "cell_type": "markdown",
   "metadata": {},
   "source": [
    "\n",
    "### b) - forventningsverdi og varians\n",
    "\n",
    "Skriv om tabellen med $k=0.4$\n",
    "\n",
    "| $x$ | $P(X=x)$ |\n",
    "|:----:|:----:|\n",
    "| 0 | 0.4|\n",
    "|1 | 0.3 |\n",
    "|2 | 0.2   |\n",
    "| 3|0.1|\n",
    "\n",
    "#### Forventningsverdi, E(X)\n",
    "\n",
    "Veit at \n",
    "\n",
    "$$E(X) = \\sum x_i \\cdot P(X=x_i)$$\n",
    "\n",
    "Bruker dette og finn forvetningsverdien:\n",
    "\n",
    "$$\\begin{align*}\n",
    "E(X) &= \\sum x_i \\cdot P(X=x_i) \\\\\n",
    "&= 0\\cdot 0.4 + 1 \\cdot 0.3 + 2 \\cdot 0.2 + 3 \\cdot 0.1 \\\\\n",
    "&= 0 + 0.3 + 0.4 + 0.3 \\\\\n",
    "&= 1\n",
    "\\end{align*}$$\n",
    "\n"
   ]
  },
  {
   "cell_type": "markdown",
   "metadata": {},
   "source": [
    "#### Varians, Var(X)\n",
    "\n",
    "Veit no at $\\mu = E(X) = 1$. Variansen er det gjennomsnittlege kvadratavviket mellom observasjonane og $\\mu$. Dermed er\n",
    "\n",
    "$$\\begin{align*}\n",
    "Var(X) &= \\sum (x_i-\\mu)^2\\cdot P(X=x_i) \\\\\n",
    "&= (0-1)^2\\cdot 0.4 + (1-1)^2 \\cdot 0.3 + (2-1)^2 \\cdot 0.2 + (3-1)^2 \\cdot 0.1 \\\\ \n",
    "&= 1\\cdot 0.4 + 0\\cdot 0.3 + 1\\cdot 0.2 + 4\\cdot 0.1 \\\\\n",
    "&= 0.4 + 0.2 + 0.4 \\\\\n",
    "&= 1\n",
    "\\end{align*}$$\n",
    "\n",
    "Dermed har me funne at $E(X)=Var(X)=1$"
   ]
  },
  {
   "attachments": {},
   "cell_type": "markdown",
   "metadata": {},
   "source": [
    "## Oppgåve 4 \n"
   ]
  },
  {
   "cell_type": "code",
   "execution_count": 4,
   "metadata": {},
   "outputs": [
    {
     "name": "stdout",
     "output_type": "stream",
     "text": [
      "210\n"
     ]
    }
   ],
   "source": [
    "#| eval: false\n",
    "#| code-line-numbers: true\n",
    "#| output: false\n",
    "a = 3\n",
    "d = 4\n",
    "\n",
    "N = 10\n",
    "S = 0\n",
    "\n",
    "for i in range(N):\n",
    "    S = S + a\n",
    "    a = a + d\n",
    "\n",
    "print(S)"
   ]
  },
  {
   "cell_type": "markdown",
   "metadata": {},
   "source": [
    "### a) - forklar koden\n",
    "\n",
    "I forløkka ser me at storleikane `S` og `a` vert endra `N` gongar.  \n",
    "`a` vert lagt til `S` medan `d` vert lagt til `a`. \n",
    "\n",
    "Først i programmet definerer ein `a=3` og `d=4`. Me ser òg at `S=0`. \n",
    "\n",
    "Desse opplysningane kombinert samsvarar godt med aritmetiske følger og summen av dei. \n",
    "\n",
    "Eleven her vil altså rekne ut summen av ei aritmetisk følge der $a_1 = 3$ og differansen mellom ledda er 4. `N=10` betyr at eleven finn summen av dei 10 første ledda av denne følga.  \n",
    "\n",
    "### b) - resultat når N=100\n",
    "\n",
    "Ut frå forklaringa i (a) vil dette seie at programmet reknar ut summen av dei 100 første ledda i $a_n = 3 + (n-1)4 = 4n - 1$\n",
    "\n",
    "For å finna summen av dei 100 første ledda treng me $a_1$ og $a_{100}$. Bruker den eksplisitte formelen. \n",
    "\n",
    "$$\\begin{align*}\n",
    "a_1 &= 4\\cdot 1 - 1 = 3 \\\\\n",
    "a_{100} &= 4\\cdot 100 - 1 = 399\n",
    "\\end{align*}$$\n",
    "\n",
    "$$\\begin{align*}\n",
    "S_{100} &= \\frac{a_1 + a_{100}}{2} \\cdot 100 \\\\\n",
    "&= \\frac{3 + 399}{2} \\cdot 100 \\\\\n",
    "&= 201\\cdot 100 \\\\\n",
    "&= 20100\n",
    "\\end{align*}$$\n",
    "\n",
    "Når me endrar til `N=100` i linje fire skriv programmet ut 20100."
   ]
  },
  {
   "attachments": {},
   "cell_type": "markdown",
   "metadata": {},
   "source": [
    "## Oppgåve 5\n",
    "\n",
    "Ser om me finn eit system her.\n",
    "\n",
    "- Dag 1: 7 mg i kroppen\n",
    "- Dag 2: 7 mg + $0.9 \\cdot 7$ mg i kroppen (ny tabelett + 90% av tab. dagen før)\n",
    "- Dag 3: 7 mg + $0.9 \\cdot 7$ mg + $0.9(0.9 \\cdot 7)$ mg i kroppen. \n",
    "\n",
    "Ser at dette dannar ei geometrisk rekke med $a_1 = 7$ og $k=0.9$. \n",
    "\n",
    "Sidan $-1<k<1$ er den uendelege geometriske rekka konvergent, og me kan finna ein sum:\n",
    "\n",
    "$$\\begin{align*}\n",
    "S &= \\frac{a_1}{1-k} \\\\\n",
    "&= \\frac{7}{1-0.9} \\\\\n",
    "&= \\frac{7}{0.1} \\\\\n",
    "&= 70\n",
    "\\end{align*}$$\n",
    "\n",
    "Om Knut tar ein tablett kvar dag til evig tid vil han aldri overstiga 70 mg verkestoff i kroppen. Legen har rett. "
   ]
  },
  {
   "cell_type": "markdown",
   "metadata": {},
   "source": [
    "## oppgåve 6\n",
    "\n",
    "### a) finn sannsynet\n",
    "\n",
    "Får oppgitt at $\\mu = 500$ og $\\sigma = 50$. \n",
    "\n",
    "Vil finna $P(X > 600)$. Gjer om til standard normalfordeling, slik at me kan nytta tabellen i vedlegget. \n",
    "\n",
    "$$z = \\frac{x-\\mu}{\\sigma} = \\frac{600-500}{50} = 2 $$\n",
    "\n",
    "Dermed veit me at $$P(X>600) = P(Z > 2)$$\n",
    "\n",
    "Les av tabellen og ser at $P(Z\\leq 2) = 0.9772$\n",
    "\n",
    "Dermed er $P(Z>2)=1-P(Z\\leq2)=1-0.9772 = 0.0228$\n",
    "\n",
    "Altså er $P(X > 600) = 0.0228$\n",
    "\n",
    "### b) bestem t\n",
    "\n",
    "Får oppgitt at $P(X > t) = 0.758$. Det vil seie at $P(Z\\leq z) = 1 - 0.758 = 0.242$\n",
    "\n",
    "Vil finna ein $z$ som tilfredsstiller dette. Ser i tabellen i vedlegget at $z=-0.7$ er rett verdi. \n",
    "\n",
    "Går frå standard normalfordeling til vår normalfordeling ved å gå motsett veg enn i oppgåve (a). \n",
    "\n",
    "$$\\begin{align*}\n",
    "z &= \\frac{x-\\mu}{\\sigma} \\\\\n",
    "-0.7 &= \\frac{x-500}{50} \\\\\n",
    "-35 &= x - 500 \\\\\n",
    "x &= 465\n",
    "\\end{align*}$$\n",
    "\n",
    "Dermed må $t=465$.  \n",
    "Det er 75,8% sannsynleg at eit tilfeldig trekt batteri har levetid på meir enn 465 timar. \n",
    "\n",
    "### c) grafisk framstilling\n",
    "\n",
    "Sidan $\\mu = 500$ må toppunktet til grafen vera i $x=500$. Dette ekskluderer **B** og **C**.\n",
    "\n",
    "I tillegg veit me at $\\sigma = 50$ betyr at ca. 95% av observasjonane, eller arealet under grafen i denne framstillinga, skal vera mindre enn 2 standardavvik frå forvetningsverdien. Dvs. $500 \\pm 2\\cdot 50 = 500 \\pm 100$. Dette eksluderer **D** som har ein større del av arealet sitt utanfor intevallet mellom $x=400$ og $x=600$. \n",
    "\n",
    "Figur **A** illustrerer $X$."
   ]
  },
  {
   "attachments": {},
   "cell_type": "markdown",
   "metadata": {},
   "source": [
    "# Del 2 - med hjelpemiddel\n",
    "\n",
    "## Oppgåve 1\n",
    "\n",
    "Lån\n",
    "\n"
   ]
  },
  {
   "cell_type": "markdown",
   "metadata": {},
   "source": [
    "### a) terminbeløp \n",
    "\n",
    "I eit annuitetslån skal summen av noverdiane av annuitetane (terminbeløpa) vera likt lånebeløpet. Går ut frå at første innbetaling er om ein månad. Om me kallar annuiteten $x$, vil noverdien av første innbetaling vera $\\frac{x}{1.0049}$, noverdien av andre innbetaling vera $\\frac{x}{1.0049^2}$ osb. \n",
    "\n",
    "Dette er ei geometrisk rekke med $a_1 = \\frac{x}{1.0049}$ og $k= \\frac{1}{1.0049}$. Summen av dei 36 første ledda skal bli 150000. \n",
    "\n",
    "Løyser i CAS: \n",
    "\n",
    "![](1a-del2.png){width=40%}"
   ]
  },
  {
   "cell_type": "markdown",
   "metadata": {},
   "source": [
    "### b) dekke restlån?\n",
    "\n",
    "Lagar eit python-skript for å finne restlånet etter 24 innbetalingar. "
   ]
  },
  {
   "cell_type": "code",
   "execution_count": 6,
   "metadata": {},
   "outputs": [
    {
     "name": "stdout",
     "output_type": "stream",
     "text": [
      "Restlån etter 24 terminar er ca 52960 kr\n"
     ]
    }
   ],
   "source": [
    "restlån = 150000\n",
    "rentefot = 0.0049\n",
    "terminbel = 4555.14\n",
    "\n",
    "N = 24\n",
    "\n",
    "for i in range(N):\n",
    "    renter = restlån*rentefot\n",
    "    avdrag = terminbel - renter\n",
    "\n",
    "    restlån = restlån - avdrag\n",
    "\n",
    "print(f\"Restlån etter {N} terminar er ca {restlån:.0f} kr\")"
   ]
  },
  {
   "cell_type": "markdown",
   "metadata": {},
   "source": [
    "Dei 55000 kr vil vera nok til å dekka restlånet."
   ]
  },
  {
   "cell_type": "markdown",
   "metadata": {},
   "source": [
    "## Oppgåve 2\n",
    "\n",
    "Tabellen viser kor mange millionar kroner brukt på strøyming av musikk i nokre år i perioden 2008 til 2018\n",
    "\n",
    "\n",
    "| År | Strøyming |\n",
    "|---|---|\n",
    "|2008 |2|\n",
    "|2010 |70|\n",
    "|2012 |246|\n",
    "|2014 |456|\n",
    "|2016 |582|\n",
    "|2018 |655|"
   ]
  },
  {
   "cell_type": "markdown",
   "metadata": {},
   "source": [
    "### a) Lag ein modell \n",
    "\n",
    "Me startar med å lage to arrays med $x$ og $y$-verdiar. Sidan $F(0)$ skal tilsvare talet på strøymingar i 2008 let me $x$ vera år etter 2008. "
   ]
  },
  {
   "cell_type": "code",
   "execution_count": 1,
   "metadata": {},
   "outputs": [],
   "source": [
    "# importerer aktuelle pakkar\n",
    "import numpy as np\n",
    "import matplotlib.pyplot as plt\n",
    "from scipy.optimize import curve_fit"
   ]
  },
  {
   "cell_type": "code",
   "execution_count": 2,
   "metadata": {},
   "outputs": [],
   "source": [
    "# data frå tabellen\n",
    "x = np.array([0, 2, 4, 6, 8, 10])\n",
    "y = np.array([2, 70, 246, 456, 582, 655])"
   ]
  },
  {
   "cell_type": "markdown",
   "metadata": {},
   "source": [
    "Plottar datapunkta for å få ei oversikt over korleis dei ser ut. "
   ]
  },
  {
   "cell_type": "code",
   "execution_count": 3,
   "metadata": {},
   "outputs": [
    {
     "data": {
      "image/png": "[encoded data removed]",
      "text/plain": [
       "<Figure size 640x480 with 1 Axes>"
      ]
     },
     "metadata": {},
     "output_type": "display_data"
    }
   ],
   "source": [
    "plt.plot(x, y, \"o:\")\n",
    "plt.show()"
   ]
  },
  {
   "cell_type": "markdown",
   "metadata": {},
   "source": [
    "Det kan sjå ut som om punkta ligg på ei S-kurve, slak stigning i starten og slutten, med bratt stigning på midten. \n",
    "Prøver difor å laga ein logistisk modell. "
   ]
  },
  {
   "cell_type": "markdown",
   "metadata": {},
   "source": [
    "Ein logistisk funksjon er gitt på forma $$ f(x) = \\frac{B}{1+a\\cdot e^{-k\\cdot x}}$$"
   ]
  },
  {
   "cell_type": "code",
   "execution_count": 27,
   "metadata": {},
   "outputs": [],
   "source": [
    "# generell logistisk funksjon\n",
    "def F(x, B, a, k):\n",
    "    return B / (1 + a * np.exp(-k*x))"
   ]
  },
  {
   "cell_type": "code",
   "execution_count": 34,
   "metadata": {},
   "outputs": [
    {
     "data": {
      "image/png": "[encoded data removed]",
      "text/plain": [
       "<Figure size 640x480 with 1 Axes>"
      ]
     },
     "metadata": {},
     "output_type": "display_data"
    }
   ],
   "source": [
    "x_verdiar = np.linspace(0, 10, 1000)\n",
    "\n",
    "\n",
    "# gjetter ca koeffverdi\n",
    "gjett = [650, 25, 1]\n",
    "\n",
    "# finn funksjonen\n",
    "K, E = curve_fit(F, x, y, p0=gjett)\n",
    "\n",
    "# hentar ut koeff.\n",
    "B, a, k = K\n",
    "\n",
    "# rekna ut y-verdiar\n",
    "y_verdiar = F(x_verdiar, B, a, k)\n",
    "\n",
    "# plottar grafen\n",
    "plt.plot(x_verdiar, y_verdiar)\n",
    "plt.plot(x, y, \"o\")\n",
    "plt.show()"
   ]
  },
  {
   "cell_type": "code",
   "execution_count": 35,
   "metadata": {},
   "outputs": [
    {
     "name": "stdout",
     "output_type": "stream",
     "text": [
      "Koeffisientane er ca.: B=660, a=31, k=0.71\n"
     ]
    }
   ],
   "source": [
    "print(f\"Koeffisientane er ca.: B={B:.0f}, a={a:.0f}, k={k:.2f}\")"
   ]
  },
  {
   "cell_type": "markdown",
   "metadata": {},
   "source": [
    "### b) Bestemme verdiar\n",
    "\n",
    "Bestem $I$, $G$, $S$ og $D$: \n",
    "\n",
    "$$ \\begin{align*}\n",
    "    I &= \\int_{-0.5}^{10.5} F(x)  dx \\\\\n",
    "    G &= \\frac{1}{5} \\int_{2.5}^{7.5} F(x) dx \\\\\n",
    "    S &= \\sum_{i=0}^{10} F(i) \\\\\n",
    "    D &= \\frac{F(5.001) - F(5)}{0.001}\n",
    "\\end{align*}\n",
    "$$\n",
    "\n",
    "Bruker CAS: Sjå radene i skjermbiletet for verdiane til $I$, $G$, $S$ og $D$\n",
    "\n",
    "![](2b-del2.png){width=40%}\n",
    "\n",
    "### c) Praktisk tolking\n",
    "\n",
    "At $I\\approx 3734$ betyr at det har blitt strøyma om lag 3734 millionar songar i perioden 2008 til 2018. Reknar med at 2008 er mellom $x=-0.5$ og $x=0.5$ og 2018 er mellom $x=9.5$ og $x=10.5$.\n",
    "\n",
    "\n",
    "At $G\\approx 345$ betyr at det har blitt strøyma om lag 345 millionar songar i gjennomsnitt per år i perioden 2010 til 2015.\n",
    "\n",
    "At $S\\approx 3734$ betyr at det har blitt strøyma om lag 3734 millionar songar i perioden 2008 til 2018. Forskjellen på  $I$ og $G$ er at $I$ reknar med $F(x)$ som ein kontinuerleg funksjon, medan $S$ reknar med diskrete verdiar (år for år).\n",
    "\n",
    "At $D\\approx 117$ betyr at vekstfarten (den deriverte) når $x=5$ er 117 millionar songar per år. Altså kan ein tenka at det vil bli strøyma 117 millionar fleire songar i 2014 enn i 2013. ($x=5$ svarar til 2013)"
   ]
  },
  {
   "attachments": {},
   "cell_type": "markdown",
   "metadata": {},
   "source": [
    "## Oppgåve 3\n",
    "\n",
    "Blindtest av Coca-Cola og Pepsi-Cola.\n",
    "\n",
    "### a) Berre tipping\n",
    "\n",
    "$X$ er rette svar når ho smakar på 10 glas. Dermed er \n",
    "\n",
    "$$X = X_1+X_2+\\ldots+X_{10}$$\n",
    "\n",
    "Dersom Marte berre skal tippa på dei ti glasa kan me gå ut frå at $P(X_i) = 0.5$ for alle $i$.\n",
    "Dvs. at det er 50% sjanse for at ho tippar rett på kvart glas.\n",
    "\n",
    "Me skal finna $P(X=6)$. Dette er binomisk sannsyn viss me går ut frå at\n",
    "\n",
    "- resultatet av tippinga på kvart glas er uavhengig av kva ho har tippa på tidlegare\n",
    "- sannsynet for å tippa rett er konstant for kvart glas ($p=0.5$)\n",
    "- det er berre to utfall, rett eller feil\n",
    "\n",
    "::: {.panel-tabset}\n",
    "\n",
    "## Python\n",
    "\n",
    "Løyser i Python med NumPy. \n",
    "\n"
   ]
  },
  {
   "cell_type": "code",
   "execution_count": 2,
   "metadata": {},
   "outputs": [
    {
     "name": "stdout",
     "output_type": "stream",
     "text": [
      "Sannsynet for å tippa 6 rett er ca 0.2031\n"
     ]
    }
   ],
   "source": [
    "import numpy as np\n",
    "rng = np.random.default_rng()\n",
    "\n",
    "# tal simuleringar\n",
    "N = 100000\n",
    "\n",
    "# tal glas\n",
    "n = 10\n",
    "# sannsynet for å tippa rett\n",
    "p = 0.5\n",
    "\n",
    "# simulerer\n",
    "x = rng.binomial(n, p, N)\n",
    "\n",
    "# tel opp\n",
    "gunstige = np.sum(x == 6)\n",
    "\n",
    "# finn og skriv ut sannsynet\n",
    "sannsyn = gunstige / N\n",
    "print(f\"Sannsynet for å tippa 6 rett er ca {sannsyn:.4f}\")"
   ]
  },
  {
   "cell_type": "markdown",
   "metadata": {},
   "source": [
    "\n",
    "\n",
    "## GeoGebra\n",
    "\n",
    "Bruker sannsynskalkulatoren i GeoGebra. Legg inn n=10 og p=0.5. \n",
    "\n",
    "Les av tabellen at sannsynet for å tippa rett på 6 glas er 0.2051.\n",
    "\n",
    "![](3a-del2.png){width=60%}\n",
    "\n",
    ":::"
   ]
  },
  {
   "cell_type": "markdown",
   "metadata": {},
   "source": [
    "### b) Hypotesetesting\n",
    "\n",
    "Marte svarar rett på 8 av 10 når ho gjer så godt ho kan. \n",
    "\n",
    "Me skal avgjera ved hypotesetesting om det er grunnlag for å seie at Marte kan kjenna att dei to Colatypane med eit signifikansnivå på 5%. \n",
    "\n",
    "Nullhypotesa er at Marte ikkje kan skilja mellom dei to, dvs. $p=0.5$. Alternativhypotesa er at ho kan skilja mellom dei to, dvs. $p>0.5$. Dermed får me\n",
    "$$ \\begin{align*}\n",
    "H_0 &: p=0.5 \\\\\n",
    "H_1 &: p>0.5\n",
    "\\end{align*}$$\n",
    "\n",
    "Dermed må me sjekka om $P(X\\geq 8)$ er mindre enn 0.05. Gjer dette med simulering på same måte som i oppgåve (a).\n",
    "\n",
    "\n"
   ]
  },
  {
   "cell_type": "code",
   "execution_count": 5,
   "metadata": {},
   "outputs": [
    {
     "name": "stdout",
     "output_type": "stream",
     "text": [
      "Sannsynet for å tippa 8 eller fleire rett er ca 0.0556\n"
     ]
    }
   ],
   "source": [
    "import numpy as np\n",
    "rng = np.random.default_rng()\n",
    "\n",
    "# tal simuleringar\n",
    "N = 100000\n",
    "\n",
    "# tal glas\n",
    "n = 10\n",
    "# sannsynet for å tippa rett\n",
    "p = 0.5\n",
    "\n",
    "# simulerer\n",
    "x = rng.binomial(n, p, N)\n",
    "\n",
    "# tel opp\n",
    "gunstige = np.sum(x >= 8)\n",
    "\n",
    "# finn og skriv ut sannsynet\n",
    "sannsyn = gunstige / N\n",
    "print(f\"Sannsynet for å tippa 8 eller fleire rett er ca {sannsyn:.4f}\")"
   ]
  },
  {
   "cell_type": "markdown",
   "metadata": {},
   "source": [
    "Sidan svaret her er større enn 0.05 kan me ikkje forkasta nullhypotesa. Me kan altså ikkje slå fast at Marte ikkje berre tippar tilfeldig. "
   ]
  },
  {
   "cell_type": "markdown",
   "metadata": {},
   "source": [
    "### c) overbevise Birger\n",
    "\n",
    "Birger syns 10 glas er lite og vil auka til 30 glas. Kor mange rette må Marte svara for at Birger skal bli overbevist om at ho kan skilja mellom dei to Cola-typene med eit signifikansnivå på 5%?\n",
    "\n",
    "Lagar eit tilsvarande program, men endrar til 30 glas. Lar ei while-løkke sjekka om kor mange rette som trengs for at $P(X\\geq x) < 0.05$.\n",
    "\n"
   ]
  },
  {
   "cell_type": "code",
   "execution_count": 18,
   "metadata": {},
   "outputs": [
    {
     "name": "stdout",
     "output_type": "stream",
     "text": [
      "Det trengs minst 20 rette for at sannsynet \n",
      "for å tippa så mange eller fleire rett er under 0.05\n"
     ]
    }
   ],
   "source": [
    "import numpy as np\n",
    "rng = np.random.default_rng()\n",
    "\n",
    "# tal simuleringar\n",
    "N = 1000000\n",
    "\n",
    "# tal glas\n",
    "n = 30\n",
    "# sannsynet for å tippa rett\n",
    "p = 0.5\n",
    "\n",
    "# simulerer\n",
    "x = rng.binomial(n, p, N)\n",
    "\n",
    "# variabel for rette. Startar med halvparten. \n",
    "rette = 15\n",
    "\n",
    "# og startverdi for sannsynet \n",
    "gunstige = np.sum(x >= rette)\n",
    "sannsyn = gunstige / N\n",
    "\n",
    "# sjekkar kor mange rette som trengs\n",
    "while sannsyn > 0.05:\n",
    "    rette += 1\n",
    "    gunstige = np.sum(x >= rette)\n",
    "    sannsyn = gunstige / N\n",
    "\n",
    "print(f\"Det trengs minst {rette} rette for at sannsynet \\nfor å tippa så mange eller fleire rett er under 0.05\")"
   ]
  },
  {
   "cell_type": "markdown",
   "metadata": {},
   "source": [
    "Ho må tippa minst 20 av 30 rette for at Birger skal bli overbevist om at ho smakar forskjell. "
   ]
  },
  {
   "cell_type": "markdown",
   "metadata": {},
   "source": [
    "## Oppgåve 4\n",
    "\n",
    "Tilbod 1: 100 kr første veka. Beløpet $a_n$ ho får utbetalt i veke $n$ er gitt ved $$ a_n = a_{n-1} + 10 $$\n",
    "\n",
    "Tilbod 2: 100 kr første veka. Beløpet $b_n$ ho får utbetalt i veke $n$ er gitt ved $$ b_n = b_{n-1}\\cdot 1.05 $$"
   ]
  },
  {
   "cell_type": "markdown",
   "metadata": {},
   "source": [
    "### a) dei fire første vekene\n",
    "\n",
    "**Tilbod 1** Lagar python-skript for å finna dei fire første vekene."
   ]
  },
  {
   "cell_type": "code",
   "execution_count": 48,
   "metadata": {},
   "outputs": [
    {
     "name": "stdout",
     "output_type": "stream",
     "text": [
      "a(1) = 100\n",
      "a(2) = 110\n",
      "a(3) = 120\n",
      "a(4) = 130\n"
     ]
    }
   ],
   "source": [
    "def a(n):\n",
    "    if n == 1:\n",
    "        return 100\n",
    "    else:\n",
    "        return a(n-1) + 10\n",
    "\n",
    "for i in range(1, 5):\n",
    "    print(f\"a({i}) = {a(i)}\")"
   ]
  },
  {
   "cell_type": "markdown",
   "metadata": {},
   "source": [
    "**Tilbod 2** Lagar python-skript for å finna dei fire første vekene."
   ]
  },
  {
   "cell_type": "code",
   "execution_count": 49,
   "metadata": {},
   "outputs": [
    {
     "name": "stdout",
     "output_type": "stream",
     "text": [
      "b(1) = 100.00\n",
      "b(2) = 105.00\n",
      "b(3) = 110.25\n",
      "b(4) = 115.76\n"
     ]
    }
   ],
   "source": [
    "def b(n):\n",
    "    if n == 1:\n",
    "        return 100\n",
    "    else:\n",
    "        return b(n-1)*1.05\n",
    "\n",
    "for i in range(1, 5):\n",
    "    print(f\"b({i}) = {b(i):.2f}\")"
   ]
  },
  {
   "cell_type": "markdown",
   "metadata": {},
   "source": [
    "### b) samalikne vekeløn\n",
    "\n",
    "Sjekkar kor mange veker det tar før tilbod 2 gir høgare løn enn tilbod 1."
   ]
  },
  {
   "cell_type": "code",
   "execution_count": 59,
   "metadata": {},
   "outputs": [
    {
     "name": "stdout",
     "output_type": "stream",
     "text": [
      "Etter 28 veker er tilbod 2 > tilbod 1\n",
      "tilbod 1: 370.00\n",
      "tilbod 2: 373.35\n"
     ]
    }
   ],
   "source": [
    "# startar i veke 2 sidan tilboda er like i veke 1\n",
    "veke = 2\n",
    "\n",
    "# finn første veke der tilbod 2 er større enn tilbod 1\n",
    "while b(veke) < a(veke):\n",
    "    veke += 1\n",
    "\n",
    "print(f\"Etter {veke} veker er tilbod 2 > tilbod 1\")\n",
    "print(f\"tilbod 1: {a(veke):.2f}\")\n",
    "print(f\"tilbod 2: {b(veke):.2f}\")"
   ]
  },
  {
   "cell_type": "markdown",
   "metadata": {},
   "source": [
    "### c) samanlikne totaløn"
   ]
  },
  {
   "cell_type": "markdown",
   "metadata": {},
   "source": [
    "Gjer tilsvarande som i oppgåve b men finn totalen. Sjekkar kor mange veker det tek før tilbod 2 til saman gjev meir løn enn tilbod 1."
   ]
  },
  {
   "cell_type": "code",
   "execution_count": 63,
   "metadata": {},
   "outputs": [
    {
     "name": "stdout",
     "output_type": "stream",
     "text": [
      "Etter 39 veker er tilbod 2 > tilbod 1\n",
      "tilbod 1: 11310.00\n",
      "tilbod 2: 11409.50\n"
     ]
    }
   ],
   "source": [
    "tot_a = a(1) + a(2)\n",
    "tot_b = b(1) + b(2)\n",
    "\n",
    "veke = 2\n",
    "\n",
    "while tot_b < tot_a:\n",
    "    veke += 1\n",
    "    tot_a += a(veke)\n",
    "    tot_b += b(veke)\n",
    "\n",
    "print(f\"Etter {veke} veker er tilbod 2 > tilbod 1\")\n",
    "print(f\"tilbod 1: {tot_a:.2f}\")\n",
    "print(f\"tilbod 2: {tot_b:.2f}\")\n",
    "\n"
   ]
  },
  {
   "cell_type": "markdown",
   "metadata": {},
   "source": [
    "## Oppgåve 5"
   ]
  },
  {
   "cell_type": "markdown",
   "metadata": {},
   "source": [
    "### a) simulerer 20 elevar\n",
    "\n",
    "Programmet skal trekkja ut 20 elevar. For kvar elev dei skal trekkja, trekk dei først ein tilfeldig skule og deretter ein tilfeldig elev frå den skulen. "
   ]
  },
  {
   "cell_type": "code",
   "execution_count": 41,
   "metadata": {},
   "outputs": [
    {
     "name": "stdout",
     "output_type": "stream",
     "text": [
      "Snittkarakteren er ca 3.37\n"
     ]
    }
   ],
   "source": [
    "import numpy as np\n",
    "rng = np.random.default_rng()\n",
    "\n",
    "# tal elevar\n",
    "N = 20\n",
    "\n",
    "# trekk tilfeldig skule (A->0, B->1, C->2)\n",
    "skule = rng.integers(0, 3, N)\n",
    "\n",
    "# tel opp kor mange av kvar skule\n",
    "A = np.sum(skule == 0)\n",
    "B = np.sum(skule == 1)\n",
    "C = np.sum(skule == 2)\n",
    "\n",
    "# trekk karakterar (elevar)\n",
    "A_kar = sum(rng.normal(3.8, 1.2, A))\n",
    "B_kar = sum(rng.normal(3.4, 1.4, B))\n",
    "C_kar = sum(rng.normal(4.1, 1.1, C))\n",
    "\n",
    "# snittkarakter\n",
    "snitt = (A_kar + B_kar + C_kar) / N\n",
    "\n",
    "print(f\"Snittkarakteren er ca {snitt:.2f}\")"
   ]
  },
  {
   "cell_type": "markdown",
   "metadata": {},
   "source": [
    "### b) finne sannsyn ved simulering\n",
    "\n",
    "Gjer om koden frå a) til ein funksjon. Køyrer denne simuleringa mange gongar for å finna sannsynet for at snittkarakteren til dei 20 elevane er over 4. "
   ]
  },
  {
   "cell_type": "code",
   "execution_count": 46,
   "metadata": {},
   "outputs": [
    {
     "name": "stdout",
     "output_type": "stream",
     "text": [
      "Sannsynet for at snittkarakteren er over 4 er ca 0.21\n"
     ]
    }
   ],
   "source": [
    "def snitt20elevar():\n",
    "    N = 20\n",
    "\n",
    "    skule = rng.integers(0, 3, N)\n",
    "\n",
    "    A = np.sum(skule == 0)\n",
    "    B = np.sum(skule == 1)\n",
    "    C = np.sum(skule == 2)\n",
    "\n",
    "    A_kar = sum(rng.normal(3.8, 1.2, A))\n",
    "    B_kar = sum(rng.normal(3.4, 1.4, B))\n",
    "    C_kar = sum(rng.normal(4.1, 1.1, C))\n",
    "\n",
    "    snitt = (A_kar + B_kar + C_kar) / N\n",
    "\n",
    "    return snitt\n",
    "\n",
    "# simulerer 100000 gonger\n",
    "simlueringar = 100000\n",
    "\n",
    "# tom liste til karakterar\n",
    "karakterar = np.array([])\n",
    "\n",
    "# legg til snittkarakter for 20 elevar i lista 100000 gonger\n",
    "for i in range(simlueringar):\n",
    "    karakterar = np.append(karakterar, snitt20elevar())\n",
    "\n",
    "# tel opp kor mange som er over 4\n",
    "over4 = np.sum(karakterar > 4)\n",
    "\n",
    "# reknar ut sannsynet\n",
    "sannsyn = over4 / simlueringar\n",
    "\n",
    "# skriv ut resultatet\n",
    "print(f\"Sannsynet for at snittkarakteren er over 4 er ca {sannsyn:.2f}\")"
   ]
  },
  {
   "cell_type": "markdown",
   "metadata": {},
   "source": [
    "::: {.callout-tip collapse=\"true\"}\n",
    "## Tips\n",
    "\n",
    "```python\n",
    "karakterar = np.array([])\n",
    "\n",
    "for i in range(simlueringar):\n",
    "    karakterar = np.append(karakterar, snitt20elevar())\n",
    "```\n",
    "\n",
    "kan forenklast til \n",
    "\n",
    "```python\n",
    "karakterar = np.array([snitt20elevar() for i in range(simlueringar)])\n",
    "```\n",
    ":::\n"
   ]
  },
  {
   "cell_type": "markdown",
   "metadata": {},
   "source": [
    "Køyrer koden fleire gongar med same resultat. Sannsynet for at snittkarakteren til dei 20 elevane er over 4 er ca. 0.21. "
   ]
  },
  {
   "cell_type": "markdown",
   "metadata": {},
   "source": []
  }
 ],
 "metadata": {
  "kernelspec": {
   "display_name": "Python 3 (ipykernel)",
   "language": "python",
   "name": "python3"
  },
  "language_info": {
   "codemirror_mode": {
    "name": "ipython",
    "version": 3
   },
   "file_extension": ".py",
   "mimetype": "text/x-python",
   "name": "python",
   "nbconvert_exporter": "python",
   "pygments_lexer": "ipython3",
   "version": "3.12.2"
  },
  "vscode": {
   "interpreter": {
    "hash": "369f2c481f4da34e4445cda3fffd2e751bd1c4d706f27375911949ba6bb62e1c"
   }
  }
 },
 "nbformat": 4,
 "nbformat_minor": 4
}
