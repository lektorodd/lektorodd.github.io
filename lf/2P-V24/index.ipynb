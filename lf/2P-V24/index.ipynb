{
 "cells": [
  {
   "cell_type": "raw",
   "metadata": {
    "vscode": {
     "languageId": "raw"
    }
   },
   "source": [
    "---\n",
    "title: \"Eksamen V24 2P\"\n",
    "from: markdown+emoji\n",
    "author: \"Torodd F. Ottestad\"\n",
    "date: \"2024-05-26\"\n",
    "categories: [2P, V24, eksamen]\n",
    "---"
   ]
  },
  {
   "attachments": {},
   "cell_type": "markdown",
   "metadata": {},
   "source": [
    "# Løysingsforslag eksamen 2P - V24 \n",
    "\n",
    "Har laga eit forslag til løysing av våreksamen i 2P 2024.\n",
    "\n",
    "**Forslaget til løysing (pdf) finn du her:** <a href=\"https://lektorodd.github.io/vedlegg/lf/V24-2P-loysingsforslag.pdf\" target=\"_blank\">V24-2P-loysingsforslag.pdf</a>\n",
    "\n",
    "Eg kan ikkje lova at løysinga er feilfri... 😊 Gje meg gjerne [ein lyd](/about.qmd) om du ser feil. \n",
    "\n",
    "---\n",
    "\n",
    "Eksamenssettet finn du hos UDIR: [Finn eksamensoppgaver](https://sokeresultat.udir.no/eksamensoppgaver.html)\n",
    "\n",
    "\n"
   ]
  },
  {
   "cell_type": "markdown",
   "metadata": {},
   "source": []
  }
 ],
 "metadata": {
  "kernelspec": {
   "display_name": "Python 3",
   "language": "python",
   "name": "python3"
  },
  "language_info": {
   "codemirror_mode": {
    "name": "ipython",
    "version": 3
   },
   "file_extension": ".py",
   "mimetype": "text/x-python",
   "name": "python",
   "nbconvert_exporter": "python",
   "pygments_lexer": "ipython3",
   "version": "3.8.15"
  },
  "orig_nbformat": 4,
  "vscode": {
   "interpreter": {
    "hash": "369f2c481f4da34e4445cda3fffd2e751bd1c4d706f27375911949ba6bb62e1c"
   }
  }
 },
 "nbformat": 4,
 "nbformat_minor": 2
}
