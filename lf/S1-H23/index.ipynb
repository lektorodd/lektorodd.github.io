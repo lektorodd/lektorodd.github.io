{
 "cells": [
  {
   "cell_type": "raw",
   "metadata": {},
   "source": [
    "---\n",
    "title: \"Eksamen H23 S1\"\n",
    "from: markdown+emoji\n",
    "author: \"Torodd F. Ottestad\"\n",
    "date: \"11-16-2023\"\n",
    "categories: [S1, H23, eksamen]\n",
    "image: \"exam.png\"\n",
    "---"
   ]
  },
  {
   "attachments": {},
   "cell_type": "markdown",
   "metadata": {},
   "source": [
    "# Løysingsforslag eksamen S1 - H23 \n",
    "\n",
    "Her er eit forslag til løysing av hausteksamen i S1 2023. I del 2 er oppgåvene stort sett Python brukt som hjelpemiddel.\n",
    "\n",
    "Eg kan ikkje lova at løysinga er feilfri... 😊 Gje meg gjerne ein lyd i kommentarfeltet eller [her](/about.qmd) om du ser feil :mag: \n",
    "\n",
    "Sist oppdatert: 16.11.2023\n",
    "\n",
    "---\n",
    "\n",
    "Miniatyrbilete: \n",
    "<a href=\"https://www.flaticon.com/free-icons/exam\" title=\"exam icons\">Exam icons created by Freepik - Flaticon</a>\n",
    "\n",
    "Eksamenssettet finn du hos UDIR: [Finn eksamensoppgaver](https://sokeresultat.udir.no/eksamensoppgaver.html)"
   ]
  },
  {
   "attachments": {},
   "cell_type": "markdown",
   "metadata": {},
   "source": [
    "\n",
    "# Del 1 - utan hjelpemiddel\n",
    "\n",
    "## Oppgåve 1\n",
    "\n",
    "Skriv så enkelt som mogleg\n",
    "\n",
    "$$ \\begin{align*} \n",
    "\\left( \\frac{3a^2}{2b^3}\\right)^2 \\cdot \\left( \\frac{a^2 b^{-5}}{4}\\right)^{-1} &= \\left( \\frac{3^2 a^4}{2^2 b^6}\\right) \\cdot \\left(\\frac{a^{-2} b^{5}}{{(2^2)}^{-1}}\\right) \\\\\n",
    "&= \\left(\\frac{3^2 a^4 a^{-2} b^5}{2^2 b^6 2^{-2}}\\right) \\\\\n",
    "&= \\frac{3^2 a^2 b^5}{b^6} \\\\\n",
    "&= \\frac{9a^2}{b}\n",
    "\\end{align*}$$\n"
   ]
  },
  {
   "attachments": {},
   "cell_type": "markdown",
   "metadata": {},
   "source": [
    "## Oppgåve 2\n",
    "\n",
    "Skriv uttrykka i stigande rekkefølge: $$2\\ln e^{3} \\quad , \\quad  3\\lg 70 \\quad , \\quad e^{3\\ln 2} $$\n",
    "\n",
    "Ser på kvart uttrykk for seg.\n",
    "\n",
    "**Først $2\\ln e^3$**\n",
    "$$2 \\ln e^3 = 2\\cdot 3 \\ln e = 6 \\cdot 1 = 6$$\n",
    "\n",
    "**Vidare $3 \\lg 70$**\n",
    "$$3 \\lg 70 = 3 \\lg (7\\cdot 10) = 3 (\\lg 7 + \\lg 10) = 3 \\lg 7 + 3 $$\n",
    "Veit at $0<\\lg 7 < 1$ så $3 \\lg 7 < 3$ og $3 \\lg 70 < 6$\n",
    "\n",
    "**Til slutt $e^{3\\ln 2}$**\n",
    "$$e^{3\\ln 2} = {\\left(e^{\\ln 2}\\right)^3} = 2^3 = 8$$\n",
    "\n",
    "**I stigande rekkefølge:**\n",
    " $$3\\lg 70 \\quad , \\quad  2\\ln e^{3} \\quad , \\quad e^{3\\ln 2} $$\n"
   ]
  },
  {
   "attachments": {},
   "cell_type": "markdown",
   "metadata": {},
   "source": [
    "## Oppgåve 3\n",
    "\n",
    "Du kastar tre terningar\n",
    "\n",
    "### a) alle ulike\n",
    "\n",
    "Terninane har seks sider. Finn sannsynet for at alle terningane viser forskjellige tal på auge. \n",
    "$$P(\\text{alle ulike}) = \\frac{6}{6} \\cdot \\frac{5}{6} \\cdot \\frac{4}{6} = 1\\cdot \\frac{20}{36} = \\frac{5}{9}$$  \n",
    "\n",
    "Eventuelt\n",
    "$$P(\\text{alle ulike}) = \\frac{\\text{gunstige utfall}}{\\text{moglege utfall}} = \\frac{6\\cdot 5 \\cdot 4}{6\\cdot 6\\cdot 6} = \\frac{5}{9}$$\n",
    "\n",
    "### b) nøyaktig to terningar er like\n",
    "\n",
    "Det at nøyaktig to terningar er like skjer viss ikkje alle terningane viser ulikt, eller alle terningane viser likt.\n",
    "\n",
    "$$P(\\text{to like}) = 1 - P(\\text{alle like}) - P(\\text{alle ulike})$$\n",
    "\n",
    "Må finna $P(\\text{alle like})$\n",
    "\n",
    "$$P(\\text{alle like}) = \\frac{\\text{gunstige utfall}}{\\text{moglege utfall}} = \\frac{6\\cdot 1 \\cdot 1}{6\\cdot 6\\cdot 6} = \\frac{1}{36}$$\n",
    "\n",
    "Dermed kan me finna sannsynet for at nøyaktig to er like:\n",
    "\n",
    "$$ \\begin{align*} \n",
    "P(\\text{to like}) &= 1 - P(\\text{alle like}) - P(\\text{alle ulike}) \\\\\n",
    "&= 1 - \\frac{1}{36} - \\frac{5}{9} \\\\\n",
    "&= \\frac{36}{36} - \\frac{1}{36} - \\frac{5\\cdot 4}{9 \\cdot 4} \\\\\n",
    "&= \\frac{36-1-20}{36} \\\\\n",
    "&= \\frac{15}{36} \\\\&= \\frac{5}{12}\n",
    "\\end{align*}$$"
   ]
  },
  {
   "attachments": {},
   "cell_type": "markdown",
   "metadata": {},
   "source": [
    "## Oppgåve 4\n",
    "\n",
    "Ein funksjon $f$ er gitt ved\n",
    "\n",
    "$$f(x) = \n",
    "\\begin{cases} \n",
    "x^2+3x-a^2 & \\text{for } x < 1 \\\\\n",
    "x-1 & \\text{for } x \\geq 1\n",
    "\\end{cases} $$\n",
    "\n",
    "Bestem $a$ slik at funksjonen blir kontinuerleg. \n",
    "\n",
    "Viss funksjonen skal vera kontinuerleg må \n",
    "$$\\begin{align*}\n",
    "\\lim_{x\\rightarrow 1^{-}}f(x) &= \\lim_{x\\rightarrow 1^{+}}f(x) \\\\\n",
    "1^2 + 3\\cdot 1 - a^2 &= 1-1 \\\\\n",
    "4-a^2 &= 0 \\\\\n",
    "a^2 &= 4 \\\\\n",
    "a &= \\pm 2\n",
    "\\end{align*}\n",
    "$$\n",
    "\n",
    "$f(x)$ er kontinuerleg når $a=-2 \\vee a=2$\n"
   ]
  },
  {
   "attachments": {},
   "cell_type": "markdown",
   "metadata": {},
   "source": [
    "## Oppgåve 5\n",
    "\n",
    "Ei bedrift produserer ei vare. Dei daglege kostnadane $K$ i kroner ved produksjon av $x$ einingar av vara er gitt ved\n",
    "$$K(x) = 0,1x^2 + 100x + 9000$$\n",
    "\n",
    "Den økonomiansvarlege i bedrifta har laga programmet nedanfor. "
   ]
  },
  {
   "cell_type": "code",
   "execution_count": 128,
   "metadata": {},
   "outputs": [
    {
     "name": "stdout",
     "output_type": "stream",
     "text": [
      "500\n"
     ]
    }
   ],
   "source": [
    "#| eval: false\n",
    "#| output: false\n",
    "#| code-line-numbers: true\n",
    "def K(x):\n",
    "    return 0.1*x**2 + 100*x + 9000\n",
    "\n",
    "grense = 200\n",
    "h = 0.00001\n",
    "a = 1\n",
    "\n",
    "while (K(a + h) - K(a))/h < grense:\n",
    "    a = a + 1\n",
    "\n",
    "print(a)"
   ]
  },
  {
   "attachments": {},
   "cell_type": "markdown",
   "metadata": {},
   "source": [
    "Me kjenner att `K(a + h) - K(a))/h` som definisjonen til den deriverte av $K$. Programmet finn dermed ut kva tid den deriverte til $K$, *grensekostnaden (kompetansemål i S2)*, blir større enn/passerer `grense = 200`. \n",
    "\n",
    "Resultatet når ein køyrer programmet vert då den siste x-verdien (heiltal) som gjer $K'(x) \\leq 200$. \n",
    "\n",
    "Løyser likninga $K'(x)=200$: \n",
    "\n",
    "$$\\begin{align*} \n",
    "K'(x) &= 200 \\\\\n",
    "0,2x + 100 &= 200 \\\\\n",
    "0,2x &= 200 - 100 \\\\\n",
    "x &= \\frac{100}{0,2} = 500\n",
    "\\end{align*} $$\n",
    "\n",
    "Dermed er $K'(500) = 200$ som vil seie at programmet skriv ut `500` når det køyrer, sidan $K'(501)$ vil vera større enn vilkåret i `while`-løkka i rad 8. (sidan $K'(a)$ er ein lineær funksjon med positivt stigningstal). \n",
    "\n",
    "Dette fortel bedrifta at om ein aukar produksjonen frå 500 til 501 einingar per veke så vil kostnadane auka med omlag 200 kr. Det vert 200 kr dyrare å laga ei til eining av vara. (og denne grensekostnaden vert større og større sidan $K'(x)$ har positivt stigningstal.  "
   ]
  },
  {
   "attachments": {},
   "cell_type": "markdown",
   "metadata": {},
   "source": [
    "# Del 2 - med hjelpemiddel"
   ]
  },
  {
   "cell_type": "markdown",
   "metadata": {},
   "source": [
    "## Oppgåve 1"
   ]
  },
  {
   "cell_type": "markdown",
   "metadata": {},
   "source": [
    "\n",
    "Ein møbelfabrikk produserer ein type sofaar. Tabellen viser samanhengen mellom tal sofaar produsert per månad og produksjonskostnadane per månad. \n",
    "\n",
    "| Tal sofaar | Produksjonskostnad (i tusen kr) |\n",
    "|---|---|\n",
    "|10 |270|\n",
    "|25 |550|\n",
    "|40 |870|\n",
    "|70 |1500|\n",
    "|140 |2200|\n",
    "|100 |3300|\n",
    "| 180|4500|\n",
    "\n",
    "Fabrikken sel alle sofaane til ei møbelkjede. Dei får 28 000 kr per sofa. "
   ]
  },
  {
   "attachments": {},
   "cell_type": "markdown",
   "metadata": {},
   "source": [
    "### a) Finne O(x)\n",
    "\n",
    "Bruker regresjon til å finna eit uttrykk for $K(x)$ som passar med tala i tabellen. $x$ er talet på sofaar produsert. \n"
   ]
  },
  {
   "cell_type": "code",
   "execution_count": 129,
   "metadata": {},
   "outputs": [
    {
     "name": "stdout",
     "output_type": "stream",
     "text": [
      "K(x) = 0.041x^2 + 17x + 103\n"
     ]
    }
   ],
   "source": [
    "import numpy as np \n",
    "\n",
    "# definerer variablar for x og y\n",
    "x = np.array([10, 25, 40, 70, 100, 140, 180])\n",
    "y = np.array([270, 550, 870, 1500, 2200, 3300, 4500])\n",
    "\n",
    "# finn koeffesientane med regresjon (andregradsfunksjon)\n",
    "a, b, c = np.polyfit(x, y, 2)\n",
    "\n",
    "print(f\"K(x) = {a:.3f}x^2 + {b:.0f}x + {c:.0f}\")"
   ]
  },
  {
   "cell_type": "markdown",
   "metadata": {},
   "source": [
    "Veit at dei får 28000 kr per sofa. Dermed er $$I(x) = 28x$$\n",
    "\n",
    "Overskotsfunksjonen finn me når me trekk kostnadane frå inntektene. \n",
    "\n",
    "$$O(x) = I(x) - K(x) = 28x - (0.041x^2 + 17x + 103) = -0.041x^2 + 11x - 103$$\n",
    "\n",
    "Modellen i oppgåva er den samme som me kom fram til her, og er dermed ein god modell for overskotet. "
   ]
  },
  {
   "cell_type": "markdown",
   "metadata": {},
   "source": [
    "### b) Størst overskot\n",
    "\n",
    "Finn ekstremalpunktet til $O(x)$ for å finna produksjonsmengda som gjev størst overskot. Sidan andregradsleddet er negativ er grafen konkav og ekstremalpunktet er difor eit toppunkt (*størst overskot*). "
   ]
  },
  {
   "cell_type": "code",
   "execution_count": 130,
   "metadata": {},
   "outputs": [
    {
     "name": "stdout",
     "output_type": "stream",
     "text": [
      "x = {134.1}\n"
     ]
    }
   ],
   "source": [
    "from sympy import Symbol, diff, Eq, Reals, solveset\n",
    "\n",
    "# definerer x\n",
    "x = Symbol(\"x\")\n",
    "\n",
    "O = -0.041*x**2 +11*x -103\n",
    "\n",
    "# definerer vs og hs av likninga\n",
    "vs = diff(O)    #O'(x)\n",
    "hs = 0 \n",
    "\n",
    "# set opp likninga, og løyser ho\n",
    "likning = Eq(vs, hs)\n",
    "løysing = solveset(likning, x, domain=Reals)\n",
    "\n",
    "# skriv ut svaret\n",
    "print(f\"x = {løysing.evalf(4)}\")"
   ]
  },
  {
   "attachments": {},
   "cell_type": "markdown",
   "metadata": {},
   "source": [
    "Bedrifta får størst overskot om dei produserer 134 sofaar i månaden. "
   ]
  },
  {
   "attachments": {},
   "cell_type": "markdown",
   "metadata": {},
   "source": [
    "### c) Lågast salspris\n",
    "\n",
    "Fabrikken ønskjer at overskotet skal vere 1 000 000 kr per månad. Dei vil endre salsprisen på sofaane. Bestem den lågaste salsprisen dei kan setje per sofa dersom dei skal få dette overskotet. \n",
    "\n",
    "Løyser likninga med CAS i Python (`SymPy`).\n"
   ]
  },
  {
   "cell_type": "code",
   "execution_count": 131,
   "metadata": {},
   "outputs": [
    {
     "data": {
      "text/latex": [
       "$\\displaystyle \\mathbb{R} \\cap \\left\\{12.1951219512195 a - 207.317073170732\\right\\}$"
      ],
      "text/plain": [
       "Intersection({12.1951219512195*a - 207.317073170732}, Reals)"
      ]
     },
     "execution_count": 131,
     "metadata": {},
     "output_type": "execute_result"
    }
   ],
   "source": [
    "from sympy import Symbol, diff, Eq, Reals, solveset\n",
    "\n",
    "# definerer symboler\n",
    "x = Symbol(\"x\")\n",
    "a = Symbol(\"a\")\n",
    "\n",
    "# definerer K(x) og I(x). Ny pris = a. \n",
    "K = 0.041*x**2 + 17*x + 103\n",
    "I = a*x\n",
    "\n",
    "# Bestemmer O(x)\n",
    "O = I - K\n",
    "\n",
    "# Finn likning for ekstremalpunktet til O\n",
    "vs = diff(O, x)\n",
    "hs = 0\n",
    "\n",
    "# set opp likninga, og løyser ho\n",
    "likning = Eq(vs, hs)\n",
    "løysing = solveset(likning, x, domain=Reals)\n",
    "løysing"
   ]
  },
  {
   "cell_type": "markdown",
   "metadata": {},
   "source": [
    "Ser at $O(x)$ har ekstremalpunkt i $x=12.2a - 207.3$. "
   ]
  },
  {
   "cell_type": "code",
   "execution_count": 132,
   "metadata": {},
   "outputs": [
    {
     "data": {
      "text/latex": [
       "$\\displaystyle \\left\\{3.55039004456709, 30.449616515434\\right\\}$"
      ],
      "text/plain": [
       "{3.55039004456709, 30.449616515434}"
      ]
     },
     "execution_count": 132,
     "metadata": {},
     "output_type": "execute_result"
    }
   ],
   "source": [
    "# definerer x-verdien til ekstremalpunktet uttrykt ved a\n",
    "x_topp = 12.2*a - 207.3\n",
    "\n",
    "# finn O(x_topp)\n",
    "nyO = O.subs(x, x_topp)\n",
    "\n",
    "# Sett opp likning for O(x_topp)=1000 \n",
    "vs = nyO\n",
    "hs = 1000\n",
    "\n",
    "# set opp likninga, og løyser ho\n",
    "likning = Eq(vs, hs)\n",
    "løysing = solveset(likning, a, domain=Reals)\n",
    "løysing"
   ]
  },
  {
   "cell_type": "markdown",
   "metadata": {},
   "source": [
    "Ser at $a = 3.55 \\vee a = 30.45$. \n",
    "Sjekkar kva $x$ er for dei ulike verdiane.  "
   ]
  },
  {
   "cell_type": "code",
   "execution_count": 133,
   "metadata": {},
   "outputs": [
    {
     "name": "stdout",
     "output_type": "stream",
     "text": [
      "Pris på 3550.0 kr gjev x = -164\n",
      "Pris på 30450.0 kr gjev x = 164\n"
     ]
    }
   ],
   "source": [
    "a1 = 3.55\n",
    "a2 = 30.45\n",
    "\n",
    "x1 = x_topp.subs(a, a1).evalf()\n",
    "x2 = x_topp.subs(a, a2).evalf()\n",
    "\n",
    "print(f\"Pris på {a1*1000} kr gjev x = {x1:.0f}\")\n",
    "print(f\"Pris på {a2*1000} kr gjev x = {x2:.0f}\")"
   ]
  },
  {
   "cell_type": "markdown",
   "metadata": {},
   "source": [
    "Produksjonsmengda, $x$, må vera positiv. Dermed er den lågaste prisen bedrifta kan ta for å få 1M kr overskot 30450 kr pr. sofa. "
   ]
  },
  {
   "cell_type": "markdown",
   "metadata": {},
   "source": [
    "::: {.callout-tip collapse=\"true\"}\n",
    "## Løyse i GeoGebra sin CAS\n",
    "\n",
    "Her er løysing av 1c i \"vanleg\" CAS.\n",
    "\n",
    "![](cas-1c-del2.png){fig-alt=\"Bilde av 1c løyst i CAS.\" fig-align=\"left\" width=60%}\n",
    ":::"
   ]
  },
  {
   "cell_type": "markdown",
   "metadata": {},
   "source": [
    "## Oppgåve 2\n",
    "\n",
    "Undersøkingar viser at 10 % av alle menn og 8 % av alle kvinner er venstrehendte.  På ein skule er det 280 gutar og 220 jenter. \n",
    "\n",
    "### a) minst 25 gutar er venstrehendte\n",
    "\n",
    "Bestem sannsynet for at minst 25 av gutane er venstrehendte. \n"
   ]
  },
  {
   "cell_type": "code",
   "execution_count": 134,
   "metadata": {},
   "outputs": [
    {
     "name": "stdout",
     "output_type": "stream",
     "text": [
      "P(X>=25) = 0.7530\n"
     ]
    }
   ],
   "source": [
    "import numpy as np\n",
    "\n",
    "# definerer tilfeldighetsgeneratoren\n",
    "rng = np.random.default_rng()\n",
    "\n",
    "# tal simuleringar \n",
    "N = 10000000\n",
    "\n",
    "# simulerer uttrekk av 280 gutar\n",
    "simulert = rng.binomial(n = 280, p = 0.1, size = N)\n",
    "\n",
    "# tel opp gunstige utfall og finn sannsynet\n",
    "gunstige = sum(simulert >= 25)\n",
    "sannsyn = gunstige / N\n",
    "\n",
    "print(f\"P(X>=25) = {sannsyn:.4f}\")"
   ]
  },
  {
   "cell_type": "markdown",
   "metadata": {},
   "source": [
    "Sannsynet for at minst 25 av gutane er venstrehendte er $75,3\\, \\%$. "
   ]
  },
  {
   "cell_type": "markdown",
   "metadata": {},
   "source": [
    "### b) P(minst tre gutar venstrehendt) > 0.20\n",
    "\n",
    "Kor mange gutar må det vere i ein klasse dersom sannsynet for at minst tre\n",
    "av gutane er venstrehendte, skal vere større enn 20 %?\n",
    "\n",
    "Finn svaret med simuleringar. "
   ]
  },
  {
   "cell_type": "code",
   "execution_count": 135,
   "metadata": {},
   "outputs": [
    {
     "name": "stdout",
     "output_type": "stream",
     "text": [
      "16\n"
     ]
    }
   ],
   "source": [
    "def minst_tre_av(n):\n",
    "    # tal simuleringar \n",
    "    N = 1000\n",
    "\n",
    "    # simulerer uttrekk av n gutar\n",
    "    simulert = rng.binomial(n = n, p = 0.1, size = N)\n",
    "\n",
    "    # tel opp gunstige utfall og finn sannsynet\n",
    "    gunstige = sum(simulert >= 3)\n",
    "    sannsyn = gunstige / N\n",
    "\n",
    "    return sannsyn\n",
    "\n",
    "n_gutar = 3\n",
    "\n",
    "while minst_tre_av(n_gutar) < 0.20:\n",
    "    n_gutar += 1\n",
    "\n",
    "print(n_gutar)"
   ]
  },
  {
   "cell_type": "markdown",
   "metadata": {},
   "source": [
    "Det må vera 16 gutar i klassen for at sannsynet for at minst tre av gutane skal vera venstrehendte skal vera større enn 16 %. "
   ]
  },
  {
   "cell_type": "markdown",
   "metadata": {},
   "source": [
    "\n",
    "### c) Nøyaktig tre venstrehendte elevar i klassen\n",
    "\n",
    "I ein klasse er det 13 gutar og 17 jenter. Bestem sannsynet for at nøyaktig tre av elevane i klassen er venstrehendte"
   ]
  },
  {
   "cell_type": "code",
   "execution_count": 136,
   "metadata": {},
   "outputs": [
    {
     "name": "stdout",
     "output_type": "stream",
     "text": [
      "P(nøyaktig tre venstrehendte) = 0.2308\n"
     ]
    }
   ],
   "source": [
    "# tal simuleringar\n",
    "N = 10000000\n",
    "\n",
    "# trekk venstrehendte jenter og gutar for seg\n",
    "jenter = rng.binomial(n=17, p=0.08, size=N)\n",
    "gutar = rng.binomial(n=13, p=0.10, size=N)\n",
    "\n",
    "# finn totalt simulert tal venstrehendte i klassen\n",
    "venstrehendte = jenter + gutar \n",
    "\n",
    "# tel opp gunstige og finn sannsynet. \n",
    "gunstige = sum(venstrehendte == 3)\n",
    "sannsyn = gunstige / N\n",
    "print(f\"P(nøyaktig tre venstrehendte) = {sannsyn:.4f}\")\n"
   ]
  },
  {
   "cell_type": "markdown",
   "metadata": {},
   "source": [
    "Sannsynet for at nøyaktig tre av elevane er venstrehendte er 23,1%. "
   ]
  },
  {
   "cell_type": "markdown",
   "metadata": {},
   "source": [
    "## Oppgåve 3\n",
    "\n",
    "Per og Kåre set inn like store beløp på kvar sin konto. Per får ei årleg rente på\n",
    "3,00 %, mens Kåre får ei årleg rente på 6,00 %.\n"
   ]
  },
  {
   "cell_type": "markdown",
   "metadata": {},
   "source": [
    "\n",
    "\n",
    "### a) finne sparebeløp\n",
    "Kva for eit beløp må Per setje inn dersom han skal ha 30 000 kroner på kontoen etter 8 år?\n",
    "\n"
   ]
  },
  {
   "cell_type": "markdown",
   "metadata": {},
   "source": [
    "Løyser likninga $x\\cdot 1.03^8 = 30000$ i CAS:"
   ]
  },
  {
   "cell_type": "code",
   "execution_count": 138,
   "metadata": {},
   "outputs": [
    {
     "data": {
      "text/latex": [
       "$\\displaystyle \\left\\{23682.2770294181\\right\\}$"
      ],
      "text/plain": [
       "{23682.2770294181}"
      ]
     },
     "execution_count": 138,
     "metadata": {},
     "output_type": "execute_result"
    }
   ],
   "source": [
    "from sympy import Symbol, Eq, Reals, solveset\n",
    "\n",
    "# definerer symboler\n",
    "x = Symbol(\"x\")\n",
    "\n",
    "# Finn likning\n",
    "vs = x * 1.03**8\n",
    "hs = 30000\n",
    "\n",
    "# set opp likninga, og løyser ho\n",
    "likning = Eq(vs, hs)\n",
    "løysing = solveset(likning, x, domain=Reals)\n",
    "løysing"
   ]
  },
  {
   "cell_type": "markdown",
   "metadata": {},
   "source": [
    "Per må sette inn 23683 kr for å ha 30 000 kr på kontoen etter 8 år. "
   ]
  },
  {
   "cell_type": "markdown",
   "metadata": {},
   "source": [
    "\n",
    "\n",
    "### b) dobbelt sparebeløp\n",
    "\n",
    "**Påstand**\n",
    "\n",
    "> Det vil gå nøyaktig dobbelt så lang tid før beløpet Per har på konto, har dobla seg, som det vil gå før beløpet Kåre har på konto, har dobla seg.\n",
    "\n",
    "Argumenter for at påstanden ikkje er riktig."
   ]
  },
  {
   "cell_type": "markdown",
   "metadata": {},
   "source": [
    "Dersom dette stemmer må $1.03^{2x}$ og $1.06^x$ vera det same.\n",
    "$$1.03^{2x} = (1.03^2)^x = 1.0609^x \\neq 1.06^x$$\n",
    "\n",
    "Påstanden er ikkje riktig."
   ]
  },
  {
   "cell_type": "markdown",
   "metadata": {},
   "source": [
    "### c) doble totalt sparebeløp\n",
    "\n",
    "Kor lang tid vil det går før Per og Kåre til saman har dobbelt så mykje pengar\n",
    "som dei sette inn på kontoane, dersom den årlege renta er høvesvis 3,00 % og 6,00 %?\n",
    "\n",
    "Kallar innskotet for $I$. Då får me likninga\n",
    "\n",
    "$$I\\cdot 1.03^x + I\\cdot 1.06^x = 4I \\Leftrightarrow 1.03^x + 1.06^x = 4$$\n",
    "\n",
    "Løyser i CAS:"
   ]
  },
  {
   "cell_type": "code",
   "execution_count": 139,
   "metadata": {},
   "outputs": [
    {
     "name": "stdout",
     "output_type": "stream",
     "text": [
      "15.2433642255997\n"
     ]
    }
   ],
   "source": [
    "from sympy import Symbol, Eq, nsolve\n",
    "\n",
    "# definerer symboler\n",
    "x = Symbol(\"x\")\n",
    "\n",
    "# Finn likning\n",
    "vs = 1.03**x + 1.06**x\n",
    "hs = 4\n",
    "\n",
    "# set opp likninga, og løyser ho numerisk\n",
    "likning = Eq(vs, hs)\n",
    "løysing = nsolve(likning, x, 1)\n",
    "print(løysing)\n"
   ]
  },
  {
   "cell_type": "markdown",
   "metadata": {},
   "source": [
    "Viss dei får rente ein gong i året vil beløpet ha (litt meir enn) dobla seg i løpet av 16 år. "
   ]
  },
  {
   "cell_type": "markdown",
   "metadata": {},
   "source": [
    "## Oppgåve 4\n",
    "\n",
    "Du kastar fem terningar.\n",
    "\n",
    "### a) minst to like\n",
    "\n",
    "Bestem sannsynet for at minst to av terningane viser same tal på auge.\n",
    "$$P(\\text{minst to like}) = 1 - P(\\text{ingen like})$$\n",
    "\n",
    "Reknar ut med python:"
   ]
  },
  {
   "cell_type": "code",
   "execution_count": 140,
   "metadata": {},
   "outputs": [
    {
     "name": "stdout",
     "output_type": "stream",
     "text": [
      "P(minst to like) = 0.9074\n"
     ]
    }
   ],
   "source": [
    "# gunstige / moglege utfall\n",
    "ingen_like = (6*5*4*3*2) / (6**5)\n",
    "\n",
    "minst_to_like = 1 - ingen_like\n",
    "\n",
    "print(f\"P(minst to like) = {minst_to_like:.4f}\")"
   ]
  },
  {
   "cell_type": "markdown",
   "metadata": {},
   "source": [
    "Sannsynet for minst to like terningar er 0.907. \n",
    "\n",
    "### b) sum auge\n",
    "\n",
    "La X vere summen av talet på auge på dei fem terningane.\n",
    "Bruk programmering til å bestemme $P(X>20)$.\n",
    "\n",
    "Bruker simulering til å svara på dette:\n"
   ]
  },
  {
   "cell_type": "code",
   "execution_count": 141,
   "metadata": {},
   "outputs": [
    {
     "name": "stdout",
     "output_type": "stream",
     "text": [
      "P(X > 20) = 0.2216\n"
     ]
    }
   ],
   "source": [
    "import numpy as np\n",
    "\n",
    "# definerer tilfeldighetsgeneratoren\n",
    "rng = np.random.default_rng()\n",
    "\n",
    "# tal simuleringar \n",
    "N = 10000000\n",
    "\n",
    "# triller 5 terningar N gongar\n",
    "terningar = rng.integers(1, 7, size=(5, N))\n",
    "\n",
    "# finn summen av kvart forsøk\n",
    "fem_kast = terningar.sum(axis=0)\n",
    "\n",
    "# tel opp kor mange gongar summen vart større enn 20\n",
    "gunstige = sum(fem_kast > 20)\n",
    "\n",
    "# finn sannsynet og skriv ut\n",
    "p = gunstige / N\n",
    "\n",
    "print(f\"P(X > 20) = {p:.4f}\")"
   ]
  },
  {
   "cell_type": "markdown",
   "metadata": {},
   "source": [
    "Finn at $P(X>20)\\approx 0.221$. Talet simuleringar er så høgt (10 000 000) at dette sannsynet er ganske nøyaktig.\n",
    "\n",
    "::: {.callout-tip collapse=\"true\"}\n",
    "## Forklaring av kodelinjer 10-13 ⬆️\n",
    "\n",
    "Her bruker eg ei todimensjonal array/tabell for å rekna ut sannsynet. \n",
    "\n",
    "Trillar terningar: "
   ]
  },
  {
   "cell_type": "code",
   "execution_count": 142,
   "metadata": {},
   "outputs": [
    {
     "name": "stdout",
     "output_type": "stream",
     "text": [
      "[[2 5 4 4 5 1 5 6 6 1]\n",
      " [4 5 1 4 6 5 5 3 2 6]\n",
      " [2 2 4 2 5 2 1 4 5 4]\n",
      " [4 2 2 1 1 5 5 1 6 4]\n",
      " [1 3 6 3 4 3 3 6 4 4]]\n"
     ]
    }
   ],
   "source": [
    "N = 10\n",
    "\n",
    "terningar = rng.integers(1, 7, size=(5, N))\n",
    "\n",
    "print(terningar)"
   ]
  },
  {
   "cell_type": "markdown",
   "metadata": {},
   "source": [
    "Ser at denne tabellen får 5 rader og `N` kolonner. \n",
    "\n",
    "Finn vidare summen av kvar kolonne:"
   ]
  },
  {
   "cell_type": "code",
   "execution_count": 143,
   "metadata": {},
   "outputs": [
    {
     "name": "stdout",
     "output_type": "stream",
     "text": [
      "[13 17 17 14 21 16 19 20 23 19]\n"
     ]
    }
   ],
   "source": [
    "kolonnesum = terningar.sum(axis=0)\n",
    "print(kolonnesum)"
   ]
  },
  {
   "cell_type": "markdown",
   "metadata": {},
   "source": [
    ":::"
   ]
  },
  {
   "cell_type": "markdown",
   "metadata": {},
   "source": [
    "\n",
    "\n",
    "### c) bestemme k\n",
    "\n",
    "Bestem den største verdien av k som er slik at $P(X\\geq k )> 0,8$ \n",
    "\n",
    "Startar med å gjera koden frå (b) om til ein funksjon som returnerer sannsynet for at P(X>= k). "
   ]
  },
  {
   "cell_type": "code",
   "execution_count": 144,
   "metadata": {},
   "outputs": [],
   "source": [
    "import numpy as np\n",
    "rng = np.random.default_rng()\n",
    "\n",
    "def sum_større_eller_lik(k):\n",
    "    N = 1000000\n",
    "    terningar = rng.integers(1, 7, size = (5, N))\n",
    "    fem_kast = terningar.sum(axis=0)\n",
    "    gunstige = sum(fem_kast >= k)\n",
    "    p = gunstige / N\n",
    "    return p   "
   ]
  },
  {
   "cell_type": "markdown",
   "metadata": {},
   "source": [
    "Bruker denne funksjonen til å sjå på ulike verdiar for `k`. Startar med 30 (som er maks sum) og reduserer med 1 til sannsynet vert mindre enn 0,8. "
   ]
  },
  {
   "cell_type": "code",
   "execution_count": 145,
   "metadata": {},
   "outputs": [
    {
     "name": "stdout",
     "output_type": "stream",
     "text": [
      "14\n"
     ]
    }
   ],
   "source": [
    "k = 30\n",
    "\n",
    "while sum_større_eller_lik(k) < 0.8:\n",
    "    k = k - 1\n",
    "\n",
    "print(k)"
   ]
  },
  {
   "cell_type": "markdown",
   "metadata": {},
   "source": [
    "Den største verdien `k` kan ha er 14. "
   ]
  },
  {
   "cell_type": "markdown",
   "metadata": {},
   "source": [
    "## Oppgåve 5\n",
    "\n",
    "Du skal lage ein kasse utan lokk. Han skal ha form som eit rett prisme.\n",
    "Grunnflata i kassen skal vere kvadratisk. For at vekta ikkje skal bli for stor, kan\n",
    "ikkje det samla arealet av platene som blir brukte til å lage kassen, vere meir\n",
    "enn $120\\, dm^2$. \n",
    "\n",
    "### a) botn på 5 dm\n",
    "\n",
    "Kva er det største volumet kassen kan få dersom sidene i botnen skal vere\n",
    "$5\\, dm$?\n",
    "\n",
    "Lagar uttrykk for areal og volum. Kallar sidene til grunnflata $s$ og høgda $h$. \n",
    "$$V = s^2 h$$\n",
    "$$A = s^2 + 4sh$$\n",
    "\n",
    "Med $s=5$ er det begrensinga i areal av platene på $120\\,dm^2$ som er avgrensande. Finn høgda når $A=120$. \n",
    "Bruker CAS:\n"
   ]
  },
  {
   "cell_type": "code",
   "execution_count": 146,
   "metadata": {},
   "outputs": [
    {
     "data": {
      "text/latex": [
       "$\\displaystyle \\left\\{\\frac{19}{4}\\right\\}$"
      ],
      "text/plain": [
       "{19/4}"
      ]
     },
     "execution_count": 146,
     "metadata": {},
     "output_type": "execute_result"
    }
   ],
   "source": [
    "from sympy import Symbol, Eq, Reals, solveset\n",
    "\n",
    "# definerer symboler\n",
    "s = Symbol(\"s\")\n",
    "h = Symbol(\"h\")\n",
    "\n",
    "# Set opp likningane\n",
    "A = s**2 + 4*s*h\n",
    "V = s**2 * h\n",
    "\n",
    "# Finn uttrykk for h når A=120 og s=5\n",
    "A_2 = A.subs(s, 5)\n",
    "likning = Eq(A_2, 120)\n",
    "løysing = solveset(likning, h, domain=Reals)\n",
    "løysing"
   ]
  },
  {
   "cell_type": "markdown",
   "metadata": {},
   "source": [
    "Bruker $h=\\frac{19}{4}$ for å finne volumet. "
   ]
  },
  {
   "cell_type": "code",
   "execution_count": 147,
   "metadata": {},
   "outputs": [
    {
     "data": {
      "text/latex": [
       "$\\displaystyle 118.75$"
      ],
      "text/plain": [
       "118.750000000000"
      ]
     },
     "execution_count": 147,
     "metadata": {},
     "output_type": "execute_result"
    }
   ],
   "source": [
    "volum = V.subs(s, 5).subs(h, 19/4).evalf()\n",
    "volum"
   ]
  },
  {
   "cell_type": "markdown",
   "metadata": {},
   "source": [
    "Med sider på $5\\,dm$ er maks volum $118.75\\,dm^3$."
   ]
  },
  {
   "cell_type": "markdown",
   "metadata": {},
   "source": [
    "### b) maks volum\n",
    "\n",
    "Kva er det maksimale volumet kassen kan få?\n",
    "\n",
    "Lagar uttrykk for $h$ uttrykt ved $s$. Brukar det til å laga funksjon for volum som funksjon av sidelengde, $V(s)$. Finn ekstremalpunktet til denne funksjonen. "
   ]
  },
  {
   "cell_type": "code",
   "execution_count": 148,
   "metadata": {},
   "outputs": [
    {
     "data": {
      "text/latex": [
       "$\\displaystyle \\mathbb{R} \\cap \\left\\{\\frac{120 - s^{2}}{4 s}\\right\\}$"
      ],
      "text/plain": [
       "Intersection({(120 - s**2)/(4*s)}, Reals)"
      ]
     },
     "execution_count": 148,
     "metadata": {},
     "output_type": "execute_result"
    }
   ],
   "source": [
    "# finn uttrykk for h\n",
    "likning = Eq(A, 120)\n",
    "løysing = solveset(likning, h, domain=Reals)\n",
    "løysing"
   ]
  },
  {
   "cell_type": "code",
   "execution_count": 149,
   "metadata": {},
   "outputs": [
    {
     "data": {
      "text/latex": [
       "$\\displaystyle \\frac{s \\left(120 - s^{2}\\right)}{4}$"
      ],
      "text/plain": [
       "s*(120 - s**2)/4"
      ]
     },
     "execution_count": 149,
     "metadata": {},
     "output_type": "execute_result"
    }
   ],
   "source": [
    "# byttar ut h med uttrykket for h. \n",
    "V_funk = V.subs(h, (120-s**2)/(4*s))\n",
    "V_funk"
   ]
  },
  {
   "cell_type": "code",
   "execution_count": 150,
   "metadata": {},
   "outputs": [
    {
     "data": {
      "text/latex": [
       "$\\displaystyle \\left\\{- 2 \\sqrt{10}, 2 \\sqrt{10}\\right\\}$"
      ],
      "text/plain": [
       "{-2*sqrt(10), 2*sqrt(10)}"
      ]
     },
     "execution_count": 150,
     "metadata": {},
     "output_type": "execute_result"
    }
   ],
   "source": [
    "from sympy import diff\n",
    "\n",
    "# deriverer\n",
    "dV = V_funk.diff()\n",
    "\n",
    "# løyser V'=0\n",
    "likning = Eq(dV, 0)\n",
    "løysing = solveset(likning, s, domain=Reals)\n",
    "løysing"
   ]
  },
  {
   "cell_type": "markdown",
   "metadata": {},
   "source": [
    "Sidan lengda på sidekanten må vera positiv forkastar me den negative løysinga. \n",
    "Finn volumet når $s=2\\sqrt{10}$."
   ]
  },
  {
   "cell_type": "code",
   "execution_count": 151,
   "metadata": {},
   "outputs": [
    {
     "data": {
      "text/latex": [
       "$\\displaystyle 126.491106406735$"
      ],
      "text/plain": [
       "126.491106406735"
      ]
     },
     "execution_count": 151,
     "metadata": {},
     "output_type": "execute_result"
    }
   ],
   "source": [
    "V_funk.subs(s, 2*np.sqrt(10))"
   ]
  },
  {
   "cell_type": "markdown",
   "metadata": {},
   "source": [
    "Det største volumet er $126,5\\,dm^3$. (toppunkt sidan $V(s)$ er tredjegradsfunksjon med negativt tredjegradsledd) "
   ]
  },
  {
   "cell_type": "markdown",
   "metadata": {},
   "source": [
    "\n",
    "\n",
    "### c) minst areal\n",
    "\n",
    "Du skal lage ein slik kasse som rommar $80\\, dm^3$. Kva er det minste samla arealet platene kan ha, dersom du skal lage ein slik kasse? "
   ]
  },
  {
   "cell_type": "code",
   "execution_count": 152,
   "metadata": {},
   "outputs": [
    {
     "data": {
      "text/latex": [
       "$\\displaystyle \\mathbb{R} \\cap \\left\\{\\frac{80}{s^{2}}\\right\\}$"
      ],
      "text/plain": [
       "Intersection({80/s**2}, Reals)"
      ]
     },
     "execution_count": 152,
     "metadata": {},
     "output_type": "execute_result"
    }
   ],
   "source": [
    "# finn uttrykk for h når V=80\n",
    "likning = Eq(V, 80)\n",
    "løysing = solveset(likning, h, domain=Reals)\n",
    "løysing"
   ]
  },
  {
   "cell_type": "code",
   "execution_count": 153,
   "metadata": {},
   "outputs": [
    {
     "data": {
      "text/latex": [
       "$\\displaystyle s^{2} + \\frac{320}{s}$"
      ],
      "text/plain": [
       "s**2 + 320/s"
      ]
     },
     "execution_count": 153,
     "metadata": {},
     "output_type": "execute_result"
    }
   ],
   "source": [
    "# set dette uttrykket inn i A\n",
    "A_funk = A.subs(h, 80/(s**2))\n",
    "A_funk"
   ]
  },
  {
   "cell_type": "code",
   "execution_count": 154,
   "metadata": {},
   "outputs": [
    {
     "data": {
      "text/latex": [
       "$\\displaystyle \\left\\{5.43\\right\\}$"
      ],
      "text/plain": [
       "{5.43}"
      ]
     },
     "execution_count": 154,
     "metadata": {},
     "output_type": "execute_result"
    }
   ],
   "source": [
    "# deriverer og finn ekstremalpunkt\n",
    "dA = A_funk.diff()\n",
    "likning = Eq(dA, 0)\n",
    "løysing = solveset(likning, s, domain=Reals)\n",
    "løysing.evalf(3)"
   ]
  },
  {
   "cell_type": "code",
   "execution_count": 155,
   "metadata": {},
   "outputs": [
    {
     "data": {
      "text/latex": [
       "$\\displaystyle 88.4$"
      ],
      "text/plain": [
       "88.4"
      ]
     },
     "execution_count": 155,
     "metadata": {},
     "output_type": "execute_result"
    }
   ],
   "source": [
    "# finn arealet med s=5.43\n",
    "A_funk.subs(s, 5.43).evalf(3)"
   ]
  },
  {
   "cell_type": "markdown",
   "metadata": {},
   "source": [
    "Det minste arealet platene brukt i boksen kan ha er $88,4\\,dm^2$. (botnpunkt sidan $A(s)$ er konveks)"
   ]
  },
  {
   "cell_type": "markdown",
   "metadata": {},
   "source": [
    "## Oppgåve 6\n",
    "\n",
    "La $f$ vere ein tredjegradsfunksjon.\n",
    "Avgjer for kvar av påstandane nedanfor om han er sann eller usann. Grunngi\n",
    "svaret.\n",
    "\n",
    "### a) Påstand 1\n",
    "\n",
    "Grafen til $f$ har minst eitt ekstremalpunkt.\n",
    "\n",
    "Viss $f$ skal ha minst eitt ekstremalpunkt må $f'$ ha minst eitt nullpunkt. \n",
    "\n",
    "$$f(x) = ax^3 + bx^2 + cx + d \\Leftrightarrow f'(x)=3ax^2+2bx+c$$\n"
   ]
  },
  {
   "cell_type": "code",
   "execution_count": 156,
   "metadata": {},
   "outputs": [
    {
     "data": {
      "text/latex": [
       "$\\displaystyle \\mathbb{R} \\cap \\left\\{- \\frac{b}{3 a} - \\frac{\\sqrt{- 3 a c + b^{2}}}{3 a}, - \\frac{b}{3 a} + \\frac{\\sqrt{- 3 a c + b^{2}}}{3 a}\\right\\}$"
      ],
      "text/plain": [
       "Intersection({-b/(3*a) - sqrt(-3*a*c + b**2)/(3*a), -b/(3*a) + sqrt(-3*a*c + b**2)/(3*a)}, Reals)"
      ]
     },
     "execution_count": 156,
     "metadata": {},
     "output_type": "execute_result"
    }
   ],
   "source": [
    "from sympy import symbols, diff, solve\n",
    "\n",
    "# definerer symboler\n",
    "x, a, b, c, d = symbols(\"x a b c d\")\n",
    "\n",
    "# definerer f\n",
    "f = a*x**3 + b*x**2 + c*x + d \n",
    "\n",
    "# deriverer f\n",
    "df = diff(f, x)\n",
    "\n",
    "# finn nullpunkta til f'(x)\n",
    "løysingar = solveset(Eq(df, 0), x, domain=Reals)\n",
    "løysingar"
   ]
  },
  {
   "cell_type": "markdown",
   "metadata": {},
   "source": [
    "Ser at viss $b^2-3ac<0 \\Leftrightarrow b^2 < 3ac$ så har $f'(x)=0$ ingen reelle løysingar (diskriminanten er negativ). \n",
    "Dermed har ikkje alle tredjegradsfunksjonar ekstremalpunkt. \n",
    "\n",
    "Påstanden er usann. "
   ]
  },
  {
   "cell_type": "markdown",
   "metadata": {},
   "source": [
    "### b) Påstand 2\n",
    "\n",
    "Alle linjer på forma $y=ax + b$, der $a, b, \\in \\mathbb{R}$ vil skjere grafen til $f$.\n"
   ]
  },
  {
   "cell_type": "code",
   "execution_count": 157,
   "metadata": {},
   "outputs": [],
   "source": [
    "from sympy import limit, oo\n",
    "\n",
    "# definerer funksjonen og symbola\n",
    "x, a, b, c, d = symbols(\"x a b c d\")\n",
    "f = a*x**3 + b*x**2 + c*x + d "
   ]
  },
  {
   "cell_type": "code",
   "execution_count": 158,
   "metadata": {},
   "outputs": [
    {
     "data": {
      "text/latex": [
       "$\\displaystyle \\infty \\operatorname{sign}{\\left(a \\right)}$"
      ],
      "text/plain": [
       "oo*sign(a)"
      ]
     },
     "execution_count": 158,
     "metadata": {},
     "output_type": "execute_result"
    }
   ],
   "source": [
    "# grense mot uendeleg\n",
    "limit(f, x, oo)"
   ]
  },
  {
   "cell_type": "code",
   "execution_count": 159,
   "metadata": {},
   "outputs": [
    {
     "data": {
      "text/latex": [
       "$\\displaystyle - \\infty \\operatorname{sign}{\\left(a \\right)}$"
      ],
      "text/plain": [
       "-oo*sign(a)"
      ]
     },
     "execution_count": 159,
     "metadata": {},
     "output_type": "execute_result"
    }
   ],
   "source": [
    "# grense mot minus uendeleg\n",
    "limit(f, x, -oo)"
   ]
  },
  {
   "cell_type": "markdown",
   "metadata": {},
   "source": [
    "Ser at grenseverdien til $f(x)$ går «kvar sin veg» når $x\\rightarrow \\pm \\infty$ (avhengig av forteiknet til $a$). \n",
    "Dermed vil alle linjer på forma $y=ax+b$ på eitt eller anna tidspunkt krysse $f(x)$. \n",
    "\n",
    "Påstanden er sann."
   ]
  },
  {
   "cell_type": "markdown",
   "metadata": {},
   "source": [
    "\n",
    "\n",
    "\n",
    "### c) Påstand 3\n",
    "\n",
    "Dersom grafen til $f$ har eit vendepunkt for $x=3$ er $f'(1)=f'(5)$\n"
   ]
  },
  {
   "cell_type": "markdown",
   "metadata": {},
   "source": [
    "Dersom grafen til $f$ har vendepunkt for $x=3$ vil det seie at $f''(3)=0$. Sidan $f''(x)$ er den deriverte tik $f'(x)$ veit me då at $f'(x)$ har ekstremalpunkt for $x=3$. Sidan $f(x)$ er eit tredjegradspolynom er $f'(x)$ eit andregradspolynom. Andregradspolynomer er symmetriske om ekstremalpunktet sitt. Sidan $x=1$ og $x=5$ ligg like langt frå $x=3$ vil $f'(1)=f'(5)$. \n",
    "\n",
    "Påstanden er sann. "
   ]
  }
 ],
 "metadata": {
  "kernelspec": {
   "display_name": "Python 3",
   "language": "python",
   "name": "python3"
  },
  "language_info": {
   "codemirror_mode": {
    "name": "ipython",
    "version": 3
   },
   "file_extension": ".py",
   "mimetype": "text/x-python",
   "name": "python",
   "nbconvert_exporter": "python",
   "pygments_lexer": "ipython3",
   "version": "3.11.6"
  },
  "orig_nbformat": 4,
  "vscode": {
   "interpreter": {
    "hash": "369f2c481f4da34e4445cda3fffd2e751bd1c4d706f27375911949ba6bb62e1c"
   }
  }
 },
 "nbformat": 4,
 "nbformat_minor": 2
}
