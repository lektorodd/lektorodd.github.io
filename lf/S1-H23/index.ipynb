{
 "cells": [
  {
   "cell_type": "raw",
   "metadata": {},
   "source": [
    "---\n",
    "title: \"Eksamen H23 S1\"\n",
    "from: markdown+emoji\n",
    "author: \"Torodd F. Ottestad\"\n",
    "date: \"11-15-2023\"\n",
    "categories: [S1, H23, eksamen]\n",
    "image: \"exam.png\"\n",
    "---"
   ]
  },
  {
   "attachments": {},
   "cell_type": "markdown",
   "metadata": {},
   "source": [
    "# Løysingsforslag eksamen S1 - H23 \n",
    "\n",
    "Her er eit forslag til løysing av hausteksamen i S1 2023. I del 2 er oppgåvene stort sett Python brukt som hjelpemiddel.\n",
    "\n",
    "Eg kan ikkje lova at løysinga er feilfri... 😊 Gje meg gjerne ein lyd i kommentarfeltet eller [her](/about.qmd) om du ser feil :mag: \n",
    "\n",
    "Sist oppdatert: 15.11.2023\n",
    "\n",
    "---\n",
    "\n",
    "Miniatyrbilete: \n",
    "<a href=\"https://www.flaticon.com/free-icons/exam\" title=\"exam icons\">Exam icons created by Freepik - Flaticon</a>\n",
    "\n",
    "Eksamenssettet finn du hos UDIR: [Finn eksamensoppgaver](https://sokeresultat.udir.no/eksamensoppgaver.html)"
   ]
  },
  {
   "attachments": {},
   "cell_type": "markdown",
   "metadata": {},
   "source": [
    "\n",
    "# Del 1 - utan hjelpemiddel\n",
    "\n",
    "## Oppgåve 1\n",
    "\n",
    "Skriv så enkelt som mogleg\n",
    "\n",
    "$$ \\begin{align*} \n",
    "\\left( \\frac{3a^2}{2b^3}\\right)^2 \\cdot \\left( \\frac{a^2 b^{-5}}{4}\\right)^{-1} &= \\left( \\frac{3^2 a^4}{2^2 b^6}\\right) \\cdot \\left(\\frac{a^{-2} b^{5}}{{(2^2)}^{-1}}\\right) \\\\\n",
    "&= \\left(\\frac{3^2 a^4 a^{-2} b^5}{2^2 b^6 2^{-2}}\\right) \\\\\n",
    "&= \\frac{3^2 a^2 b^5}{b^6} \\\\\n",
    "&= \\frac{9a^2}{b}\n",
    "\\end{align*}$$\n"
   ]
  },
  {
   "attachments": {},
   "cell_type": "markdown",
   "metadata": {},
   "source": [
    "## Oppgåve 2\n",
    "\n",
    "Skriv uttrykka i stigande rekkefølge: $$2\\ln e^{3} \\quad , \\quad  3\\lg 70 \\quad , \\quad e^{3\\ln 2} $$\n",
    "\n",
    "Ser på kvart uttrykk for seg.\n",
    "\n",
    "**Først $2\\ln e^3$**\n",
    "$$2 \\ln e^3 = 2\\cdot 3 \\ln e = 6 \\cdot 1 = 6$$\n",
    "\n",
    "**Vidare $3 \\lg 70$**\n",
    "$$3 \\lg 70 = 3 \\lg (7\\cdot 10) = 3 (\\lg 7 + \\lg 10) = 3 \\lg 7 + 3 $$\n",
    "Veit at $0<\\lg 7 < 1$ så $3 \\lg 7 < 3$ og $3 \\lg 70 < 6$\n",
    "\n",
    "**Til slutt $e^{3\\ln 2}$**\n",
    "$$e^{3\\ln 2} = {\\left(e^{\\ln 2}\\right)^3} = 2^3 = 8$$\n",
    "\n",
    "**I stigande rekkefølge:**\n",
    " $$3\\lg 70 \\quad , \\quad  2\\ln e^{3} \\quad , \\quad e^{3\\ln 2} $$\n"
   ]
  },
  {
   "attachments": {},
   "cell_type": "markdown",
   "metadata": {},
   "source": [
    "## Oppgåve 3\n",
    "\n",
    "Du kastar tre terningar\n",
    "\n",
    "### a) alle ulike\n",
    "\n",
    "Terninane har seks sider. Finn sannsynet for at alle terningane viser forskjellige tal på auge. \n",
    "$$P(\\text{alle ulike}) = \\frac{6}{6} \\cdot \\frac{5}{6} \\cdot \\frac{4}{6} = 1\\cdot \\frac{20}{36} = \\frac{5}{9}$$  \n",
    "\n",
    "Eventuelt\n",
    "$$P(\\text{alle ulike}) = \\frac{\\text{gunstige utfall}}{\\text{moglege utfall}} = \\frac{6\\cdot 5 \\cdot 4}{6\\cdot 6\\cdot 6} = \\frac{5}{9}$$\n",
    "\n",
    "### b) nøyaktig to terningar er like\n",
    "\n",
    "Det at nøyaktig to terningar er like skjer viss ikkje alle terningane viser ulikt, eller alle terningane viser likt.\n",
    "\n",
    "$$P(\\text{to like}) = 1 - P(\\text{alle like}) - P(\\text{alle ulike})$$\n",
    "\n",
    "Må finna $P(\\text{alle like})$\n",
    "\n",
    "$$P(\\text{alle like}) = \\frac{\\text{gunstige utfall}}{\\text{moglege utfall}} = \\frac{6\\cdot 1 \\cdot 1}{6\\cdot 6\\cdot 6} = \\frac{1}{36}$$\n",
    "\n",
    "Dermed kan me finna sannsynet for at nøyaktig to er like:\n",
    "\n",
    "$$ \\begin{align*} \n",
    "P(\\text{to like}) &= 1 - P(\\text{alle like}) - P(\\text{alle ulike}) \\\\\n",
    "&= 1 - \\frac{1}{36} - \\frac{5}{9} \\\\\n",
    "&= \\frac{36}{36} - \\frac{1}{36} - \\frac{5\\cdot 4}{9 \\cdot 4} \\\\\n",
    "&= \\frac{36-1-20}{36} \\\\\n",
    "&= \\frac{15}{36} \\\\&= \\frac{5}{12}\n",
    "\\end{align*}$$"
   ]
  },
  {
   "attachments": {},
   "cell_type": "markdown",
   "metadata": {},
   "source": [
    "## Oppgåve 4\n",
    "\n",
    "Ein funksjon $f$ er gitt ved\n",
    "\n",
    "$$f(x) = \n",
    "\\begin{cases} \n",
    "x^2+3x-a^2 & \\text{for } x < 1 \\\\\n",
    "x-1 & \\text{for } x \\geq 1\n",
    "\\end{cases} $$\n",
    "\n",
    "Bestem $a$ slik at funksjonen blir kontinuerleg. \n",
    "\n",
    "Viss funksjonen skal vera kontinuerleg må \n",
    "$$\\begin{align*}\n",
    "\\lim_{x\\rightarrow 1^{-}}f(x) &= \\lim_{x\\rightarrow 1^{+}}f(x) \\\\\n",
    "1^2 + 3\\cdot 1 - a^2 &= 1-1 \\\\\n",
    "4-a^2 &= 0 \\\\\n",
    "a^2 &= 4 \\\\\n",
    "a = \\pm 2\n",
    "\\end{align*}\n",
    "$$\n",
    "\n",
    "$f(x)$ er kontinuerleg når $a=-2 \\vee a=2$\n"
   ]
  },
  {
   "attachments": {},
   "cell_type": "markdown",
   "metadata": {},
   "source": [
    "## Oppgåve 5\n",
    "\n",
    "Ei bedrift produserer ei vare. Dei daglege kostnadane $K$ i kroner ved produksjon av $x$ einingar av vara er gitt ved\n",
    "$$K(x) = 0,1x^2 + 100x + 9000$$\n",
    "\n",
    "Den økonomiansvarlege i bedrifta har laga programmet nedanfor. "
   ]
  },
  {
   "cell_type": "code",
   "execution_count": 1,
   "metadata": {},
   "outputs": [
    {
     "name": "stdout",
     "output_type": "stream",
     "text": [
      "500\n"
     ]
    }
   ],
   "source": [
    "#| eval: false\n",
    "#| output: false\n",
    "#| code-line-numbers: true\n",
    "def K(x):\n",
    "    return 0.1*x**2 + 100*x + 9000\n",
    "\n",
    "grense = 200\n",
    "h = 0.00001\n",
    "a = 1\n",
    "\n",
    "while (K(a + h) - K(a))/h < grense:\n",
    "    a = a + 1\n",
    "\n",
    "print(a)"
   ]
  },
  {
   "attachments": {},
   "cell_type": "markdown",
   "metadata": {},
   "source": [
    "Me kjenner att `K(a + h) - K(a))/h` som definisjonen til den deriverte av $K$. Programmet finn dermed ut kva tid den deriverte til $K$, *grensekostnaden (kompetansemål i S2)*, blir større enn/passerer `grense = 200`. \n",
    "\n",
    "Resultatet når ein køyrer programmet vert då den siste x-verdien (heiltal) som gjer $K'(x) \\leq 200$. \n",
    "\n",
    "Løyser likninga $K'(x)=200$: \n",
    "\n",
    "$$\\begin{align*} \n",
    "K'(x) &= 200 \\\\\n",
    "0,2x + 100 &= 200 \\\\\n",
    "0,2x &= 200 - 100 \\\\\n",
    "x &= \\frac{100}{0,2} = 500\n",
    "\\end{align*} $$\n",
    "\n",
    "Dermed er $K'(500) = 200$ som vil seie at programmet skriv ut `500` når det køyrer, sidan $K'(501)$ vil vera større enn vilkåret i `while`-løkka i rad 8. (sidan $K'(a)$ er ein lineær funksjon med positivt stigningstal). \n",
    "\n",
    "Dette fortel bedrifta at om ein aukar produksjonen frå 500 til 501 einingar per veke så vil kostnadane auka med omlag 200 kr. Det vert 200 kr dyrare å laga ei til eining av vara. (og denne grensekostnaden vert større og større sidan $K'(x)$ har positivt stigningstal.  "
   ]
  },
  {
   "attachments": {},
   "cell_type": "markdown",
   "metadata": {},
   "source": [
    "# Del 2"
   ]
  },
  {
   "cell_type": "markdown",
   "metadata": {},
   "source": [
    "## Oppgåve 1"
   ]
  },
  {
   "cell_type": "markdown",
   "metadata": {},
   "source": [
    "\n",
    "Ein møbelfabrikk produserer ein type sofaar. Tabellen viser samanhengen mellom tal sofaar produsert per månad og produksjonskostnadane per månad. \n",
    "\n",
    "| Tal sofaar | Produksjonskostnad (i tusen kr) |\n",
    "|---|---|\n",
    "|10 |270|\n",
    "|25 |550|\n",
    "|40 |870|\n",
    "|70 |1500|\n",
    "|140 |2200|\n",
    "|100 |3300|\n",
    "| 180|4500|\n",
    "\n",
    "Fabrikken sel alle sofaane til ei møbelkjede. Dei får 28 000 kr per sofa. "
   ]
  },
  {
   "attachments": {},
   "cell_type": "markdown",
   "metadata": {},
   "source": [
    "### a) Finne O(x)\n",
    "\n",
    "Bruker regresjon til å finna eit uttrykk for $K(x)$ som passar med tala i tabellen. $x$ er talet på sofaar produsert. \n"
   ]
  },
  {
   "cell_type": "code",
   "execution_count": 1,
   "metadata": {},
   "outputs": [
    {
     "name": "stdout",
     "output_type": "stream",
     "text": [
      "K(x) = 0.041x^2 + 17x + 103\n"
     ]
    }
   ],
   "source": [
    "import numpy as np \n",
    "\n",
    "# definerer variablar for x og y\n",
    "x = np.array([10, 25, 40, 70, 100, 140, 180])\n",
    "y = np.array([270, 550, 870, 1500, 2200, 3300, 4500])\n",
    "\n",
    "# finn koeffesientane med regresjon (andregradsfunksjon)\n",
    "a, b, c = np.polyfit(x, y, 2)\n",
    "\n",
    "print(f\"K(x) = {a:.3f}x^2 + {b:.0f}x + {c:.0f}\")"
   ]
  },
  {
   "cell_type": "markdown",
   "metadata": {},
   "source": [
    "Veit at dei får 28000 kr per sofa. Dermed er $$I(x) = 28x$$\n",
    "\n",
    "Overskotsfunksjonen finn me når me trekk kostnadane frå inntektene. \n",
    "\n",
    "$$O(x) = I(x) - K(x) = 28x - (0.041x^2 + 17x + 103) = -0.041x^2 + 11x - 103$$\n",
    "\n",
    "Modellen i oppgåva er den samme som me kom fram til her, og er dermed ein god modell for overskotet. "
   ]
  },
  {
   "cell_type": "markdown",
   "metadata": {},
   "source": [
    "### b) Størst overskot\n",
    "\n",
    "Finn ekstremalpunktet til $O(x)$ for å finna produksjonsmengda som gjev størst overskot. Sidan andregradsleddet er negativ er grafen konkav og ekstremalpunktet er difor eit toppunkt (*størst overskot*). "
   ]
  },
  {
   "cell_type": "code",
   "execution_count": 2,
   "metadata": {},
   "outputs": [
    {
     "name": "stdout",
     "output_type": "stream",
     "text": [
      "x = {134.1}\n"
     ]
    }
   ],
   "source": [
    "from sympy import Symbol, diff, Eq, Reals, solveset\n",
    "\n",
    "# definerer x\n",
    "x = Symbol(\"x\")\n",
    "\n",
    "O = -0.041*x**2 +11*x -103\n",
    "\n",
    "# definerer vs og hs av likninga\n",
    "vs = diff(O)    #O'(x)\n",
    "hs = 0 \n",
    "\n",
    "# set opp likninga, og løyser ho\n",
    "likning = Eq(vs, hs)\n",
    "løysing = solveset(likning, x, domain=Reals)\n",
    "\n",
    "# skriv ut svaret\n",
    "print(f\"x = {løysing.evalf(4)}\")"
   ]
  },
  {
   "attachments": {},
   "cell_type": "markdown",
   "metadata": {},
   "source": [
    "Bedrifta får størst overskot om dei produserer 134 sofaar i månaden. "
   ]
  },
  {
   "attachments": {},
   "cell_type": "markdown",
   "metadata": {},
   "source": [
    "### c) Lågast salspris\n",
    "\n",
    "Fabrikken ønskjer at overskotet skal vere 1 000 000 kr per månad. Dei vil endre salsprisen på sofaane. Bestem den lågaste salsprisen dei kan setje per sofa dersom dei skal få dette overskotet. \n",
    "\n",
    "Løyser likninga med CAS i Python (`SymPy`).\n"
   ]
  },
  {
   "cell_type": "code",
   "execution_count": 3,
   "metadata": {},
   "outputs": [
    {
     "data": {
      "text/latex": [
       "$\\displaystyle \\mathbb{R} \\cap \\left\\{12.1951219512195 a - 207.317073170732\\right\\}$"
      ],
      "text/plain": [
       "Intersection({12.1951219512195*a - 207.317073170732}, Reals)"
      ]
     },
     "execution_count": 3,
     "metadata": {},
     "output_type": "execute_result"
    }
   ],
   "source": [
    "from sympy import Symbol, diff, Eq, Reals, solveset\n",
    "\n",
    "# definerer symboler\n",
    "x = Symbol(\"x\")\n",
    "a = Symbol(\"a\")\n",
    "\n",
    "# definerer K(x) og I(x). Ny pris = a. \n",
    "K = 0.041*x**2 + 17*x + 103\n",
    "I = a*x\n",
    "\n",
    "# Bestemmer O(x)\n",
    "O = I - K\n",
    "\n",
    "# Finn likning for ekstremalpunktet til O\n",
    "vs = diff(O, x)\n",
    "hs = 0\n",
    "\n",
    "# set opp likninga, og løyser ho\n",
    "likning = Eq(vs, hs)\n",
    "løysing = solveset(likning, x, domain=Reals)\n",
    "løysing"
   ]
  },
  {
   "cell_type": "markdown",
   "metadata": {},
   "source": [
    "Ser at $O(x)$ har ekstremalpunkt i $x=12.2a - 207.3$. "
   ]
  },
  {
   "cell_type": "code",
   "execution_count": 4,
   "metadata": {},
   "outputs": [
    {
     "data": {
      "text/latex": [
       "$\\displaystyle \\left\\{3.55039004456709, 30.449616515434\\right\\}$"
      ],
      "text/plain": [
       "{3.55039004456709, 30.449616515434}"
      ]
     },
     "execution_count": 4,
     "metadata": {},
     "output_type": "execute_result"
    }
   ],
   "source": [
    "# definerer x-verdien til ekstremalpunktet uttrykt ved a\n",
    "x_topp = 12.2*a - 207.3\n",
    "\n",
    "# finn O(x_topp)\n",
    "nyO = O.subs(x, x_topp)\n",
    "\n",
    "# Sett opp likning for O(x_topp)=1000 \n",
    "vs = nyO\n",
    "hs = 1000\n",
    "\n",
    "# set opp likninga, og løyser ho\n",
    "likning = Eq(vs, hs)\n",
    "løysing = solveset(likning, a, domain=Reals)\n",
    "løysing"
   ]
  },
  {
   "cell_type": "markdown",
   "metadata": {},
   "source": [
    "Ser at $a = 3.55 \\vee a = 30.45$. \n",
    "Sjekkar kva $x$ er for dei ulike verdiane.  "
   ]
  },
  {
   "cell_type": "code",
   "execution_count": 5,
   "metadata": {},
   "outputs": [
    {
     "name": "stdout",
     "output_type": "stream",
     "text": [
      "Pris på 3550.0 kr gjev x = -164\n",
      "Pris på 30450.0 kr gjev x = 164\n"
     ]
    }
   ],
   "source": [
    "a1 = 3.55\n",
    "a2 = 30.45\n",
    "\n",
    "x1 = x_topp.subs(a, a1).evalf()\n",
    "x2 = x_topp.subs(a, a2).evalf()\n",
    "\n",
    "print(f\"Pris på {a1*1000} kr gjev x = {x1:.0f}\")\n",
    "print(f\"Pris på {a2*1000} kr gjev x = {x2:.0f}\")"
   ]
  },
  {
   "cell_type": "markdown",
   "metadata": {},
   "source": [
    "Produksjonsmengda, $x$, må vera positiv. Dermed er den lågaste prisen bedrifta kan ta for å få 1M kr overskot 30450 kr pr. sofa. "
   ]
  },
  {
   "cell_type": "markdown",
   "metadata": {},
   "source": [
    "::: {.callout-tip collapse=\"true\"}\n",
    "## Løyse i GeoGebra sin CAS\n",
    "\n",
    "Her er løysing av 1c i \"vanleg\" CAS.\n",
    "\n",
    "![](cas-1c-del2.png){fig-alt=\"Bilde av 1c løyst i CAS.\" fig-align=\"left\" width=60%}\n",
    ":::"
   ]
  },
  {
   "cell_type": "markdown",
   "metadata": {},
   "source": [
    "## Oppgåve 2\n",
    "\n",
    "Undersøkingar viser at 10 % av alle menn og 8 % av alle kvinner er venstrehendte.  På ein skule er det 280 gutar og 220 jenter. \n",
    "\n",
    "### a) minst 25 gutar er venstrehendte\n",
    "\n",
    "Bestem sannsynet for at minst 25 av gutane er venstrehendte. \n",
    "\n",
    "### b) P(minst tre gutar venstrehendt) > 0.20\n",
    "\n",
    "Kor mange gutar må det vere i ein klasse dersom sannsynet for at minst tre\n",
    "av gutane er venstrehendte, skal vere større enn 20 %?\n",
    "\n",
    "### c) Nøyaktig tre venstrehendte elevar i klassen\n",
    "\n",
    "I ein klasse er det 13 gutar og 17 jenter. Bestem sannsynet for at nøyaktig tre av elevane i klassen er venstrehendte"
   ]
  },
  {
   "cell_type": "markdown",
   "metadata": {},
   "source": [
    "## Oppgåve 3\n",
    "\n",
    "Per og Kåre set inn like store beløp på kvar sin konto. Per får ei årleg rente på\n",
    "3,00 %, mens Kåre får ei årleg rente på 6,00 %.\n"
   ]
  },
  {
   "cell_type": "markdown",
   "metadata": {},
   "source": [
    "\n",
    "\n",
    "### a) finne sparebeløp\n",
    "Kva for eit beløp må Per setje inn dersom han skal ha 30 000 kroner på kontoen etter 8 år?\n",
    "\n"
   ]
  },
  {
   "cell_type": "markdown",
   "metadata": {},
   "source": [
    "Løyser likninga $x\\cdot 1.03^8 = 30000$ i CAS:"
   ]
  },
  {
   "cell_type": "code",
   "execution_count": 6,
   "metadata": {},
   "outputs": [
    {
     "data": {
      "text/latex": [
       "$\\displaystyle \\left\\{23682.2770294181\\right\\}$"
      ],
      "text/plain": [
       "{23682.2770294181}"
      ]
     },
     "execution_count": 6,
     "metadata": {},
     "output_type": "execute_result"
    }
   ],
   "source": [
    "from sympy import Symbol, Eq, Reals, solveset\n",
    "\n",
    "# definerer symboler\n",
    "x = Symbol(\"x\")\n",
    "\n",
    "# Finn likning\n",
    "vs = x * 1.03**8\n",
    "hs = 30000\n",
    "\n",
    "# set opp likninga, og løyser ho\n",
    "likning = Eq(vs, hs)\n",
    "løysing = solveset(likning, x, domain=Reals)\n",
    "løysing"
   ]
  },
  {
   "cell_type": "markdown",
   "metadata": {},
   "source": [
    "Per må sette inn 23683 kr for å ha 30 000 kr på kontoen etter 8 år. "
   ]
  },
  {
   "cell_type": "markdown",
   "metadata": {},
   "source": [
    "\n",
    "\n",
    "### b) dobbelt sparebeløp\n",
    "\n",
    "**Påstand**\n",
    "\n",
    "> Det vil gå nøyaktig dobbelt så lang tid før beløpet Per har på konto, har dobla seg, som det vil gå før beløpet Kåre har på konto, har dobla seg.\n",
    "\n",
    "Argumenter for at påstanden ikkje er riktig."
   ]
  },
  {
   "cell_type": "markdown",
   "metadata": {},
   "source": [
    "Dersom dette stemmer må $1.03^{2x}$ og $1.06^x$ vera det same.\n",
    "$$1.03^{2x} = (1.03^2)^x = 1.0609^x \\neq 1.06^x$$\n",
    "\n",
    "Påstanden er ikkje riktig."
   ]
  },
  {
   "cell_type": "markdown",
   "metadata": {},
   "source": [
    "### c) doble totalt sparebeløp\n",
    "\n",
    "Kor lang tid vil det går før Per og Kåre til saman har dobbelt så mykje pengar\n",
    "som dei sette inn på kontoane, dersom den årlege renta er høvesvis 3,00 % og 6,00 %?\n",
    "\n",
    "Kallar innskotet for $I$. Då får me likninga\n",
    "\n",
    "$$I\\cdot 1.03^x + I\\cdot 1.06^x = 4I \\Leftrightarrow 1.03^x + 1.06^x = 4$$\n",
    "\n",
    "Løyser i CAS:"
   ]
  },
  {
   "cell_type": "code",
   "execution_count": 20,
   "metadata": {},
   "outputs": [
    {
     "name": "stdout",
     "output_type": "stream",
     "text": [
      "15.2433642255997\n"
     ]
    }
   ],
   "source": [
    "from sympy import Symbol, Eq, nsolve\n",
    "\n",
    "# definerer symboler\n",
    "x = Symbol(\"x\")\n",
    "\n",
    "# Finn likning\n",
    "vs = 1.03**x + 1.06**x\n",
    "hs = 4\n",
    "\n",
    "# set opp likninga, og løyser ho numerisk\n",
    "likning = Eq(vs, hs)\n",
    "løysing = nsolve(likning, x, 1)\n",
    "print(løysing)\n"
   ]
  },
  {
   "cell_type": "markdown",
   "metadata": {},
   "source": [
    "Viss dei får rente ein gong i året vil beløpet ha (litt meir enn) dobla seg i løpet av 16 år. "
   ]
  },
  {
   "cell_type": "markdown",
   "metadata": {},
   "source": [
    "## Oppgåve 4\n",
    "\n",
    "Du kastar fem terningar.\n",
    "\n",
    "### a) minst to like\n",
    "\n",
    "Bestem sannsynet for at minst to av terningane viser same tal på auge.\n",
    "$$P(\\text{minst to like}) = 1 - P(\\text{ingen like})$$\n",
    "\n",
    "Reknar ut med python:"
   ]
  },
  {
   "cell_type": "code",
   "execution_count": 2,
   "metadata": {},
   "outputs": [
    {
     "name": "stdout",
     "output_type": "stream",
     "text": [
      "P(minst to like) = 0.9074\n"
     ]
    }
   ],
   "source": [
    "# gunstige / moglege utfall\n",
    "ingen_like = (6*5*4*3*2) / (6**5)\n",
    "\n",
    "minst_to_like = 1 - ingen_like\n",
    "\n",
    "print(f\"P(minst to like) = {minst_to_like:.4f}\")"
   ]
  },
  {
   "cell_type": "markdown",
   "metadata": {},
   "source": [
    "Sannsynet for minst to like terningar er 0.907. \n",
    "\n",
    "### b) sum auge\n",
    "\n",
    "La X vere summen av talet på auge på dei fem terningane.\n",
    "Bruk programmering til å bestemme $P(X>20)$.\n",
    "\n",
    "Bruker simulering til å svara på dette:\n"
   ]
  },
  {
   "cell_type": "code",
   "execution_count": 30,
   "metadata": {},
   "outputs": [
    {
     "name": "stdout",
     "output_type": "stream",
     "text": [
      "P(X > 20) = 0.2217\n"
     ]
    }
   ],
   "source": [
    "import numpy as np\n",
    "\n",
    "# definerer tilfeldighetsgeneratoren\n",
    "rng = np.random.default_rng()\n",
    "\n",
    "# tal simuleringar \n",
    "N = 10000000\n",
    "\n",
    "# triller 5 terningar N gongar\n",
    "terningar = rng.integers(1, 7, size=(5, N))\n",
    "\n",
    "# finn summen av kvart forsøk\n",
    "fem_kast = terningar.sum(axis=0)\n",
    "\n",
    "# tel opp kor mange gongar summen vart større enn 20\n",
    "gunstige = sum(fem_kast > 20)\n",
    "\n",
    "# finn sannsynet og skriv ut\n",
    "p = gunstige / N\n",
    "\n",
    "print(f\"P(X > 20) = {p:.4f}\")"
   ]
  },
  {
   "cell_type": "markdown",
   "metadata": {},
   "source": [
    "Finn at $P(X>20)\\approx 0.221$. Talet simuleringar er så høgt (10 000 000) at dette sannsynet er ganske nøyaktig.\n",
    "\n",
    "::: {.callout-tip collapse=\"true\"}\n",
    "## Forklaring av kodelinjer 10-13 ⬆️\n",
    "\n",
    "Her bruker eg ei todimensjonal array/tabell for å rekna ut sannsynet. \n",
    "\n",
    "Trillar terningar: "
   ]
  },
  {
   "cell_type": "code",
   "execution_count": 38,
   "metadata": {},
   "outputs": [
    {
     "name": "stdout",
     "output_type": "stream",
     "text": [
      "[[4 1 2 5 1 4 2 3 6 3]\n",
      " [6 1 2 2 4 4 1 4 5 2]\n",
      " [2 4 5 2 4 3 3 1 4 2]\n",
      " [4 2 5 4 1 6 3 3 2 6]\n",
      " [5 6 2 4 4 6 5 2 3 4]]\n"
     ]
    }
   ],
   "source": [
    "N = 10\n",
    "\n",
    "terningar = rng.integers(1, 7, size=(5, N))\n",
    "\n",
    "print(terningar)"
   ]
  },
  {
   "cell_type": "markdown",
   "metadata": {},
   "source": [
    "Ser at denne tabellen får 5 rader og `N` kolonner. \n",
    "\n",
    "Finn vidare summen av kvar kolonne:"
   ]
  },
  {
   "cell_type": "code",
   "execution_count": 39,
   "metadata": {},
   "outputs": [
    {
     "name": "stdout",
     "output_type": "stream",
     "text": [
      "[21 14 16 17 14 23 14 13 20 17]\n"
     ]
    }
   ],
   "source": [
    "kolonnesum = terningar.sum(axis=0)\n",
    "print(kolonnesum)"
   ]
  },
  {
   "cell_type": "markdown",
   "metadata": {},
   "source": [
    ":::"
   ]
  },
  {
   "cell_type": "markdown",
   "metadata": {},
   "source": [
    "\n",
    "\n",
    "### c) bestemme k\n",
    "\n",
    "Bestem den største verdien av k som er slik at $P(X\\geq k )> 0,8$ \n",
    "\n",
    "Bruker simuleringar og ser på ulike verdiar for k. Gjer koden frå (b) om til ein funksjon som returnerer sannsynet for at P(X>= k). "
   ]
  },
  {
   "cell_type": "code",
   "execution_count": 40,
   "metadata": {},
   "outputs": [
    {
     "data": {
      "text/plain": [
       "True"
      ]
     },
     "execution_count": 40,
     "metadata": {},
     "output_type": "execute_result"
    }
   ],
   "source": [
    "3 >= 1"
   ]
  },
  {
   "cell_type": "markdown",
   "metadata": {},
   "source": [
    "## Oppgåve 5"
   ]
  },
  {
   "cell_type": "markdown",
   "metadata": {},
   "source": [
    "## Oppgåve 6"
   ]
  },
  {
   "attachments": {},
   "cell_type": "markdown",
   "metadata": {},
   "source": [
    "Samla løn Per kan me finna på ulike måtar.\n",
    "\n",
    "Dersom me går ut frå at Per føl tabellen nøyaktig, dvs. 272,55 kr pr. time i 2008 og 2009, 285,50 kr pr. time i 2010, 2011, 2012 osv. vert den samla løna hans:"
   ]
  },
  {
   "cell_type": "code",
   "execution_count": 5,
   "metadata": {},
   "outputs": [
    {
     "name": "stdout",
     "output_type": "stream",
     "text": [
      "Samla løn, Per: 7811670.00\n"
     ]
    }
   ],
   "source": [
    "def periodeløn(tal_år, timeløn):\n",
    "    return tal_år * 1700 * timeløn\n",
    "\n",
    "# løn kvar periode\n",
    "p1 = periodeløn(2010-2008, 272.55)\n",
    "p2 = periodeløn(2013-2010, 285.50)\n",
    "p3 = periodeløn(2015-2013, 307.30)\n",
    "p4 = periodeløn(2019-2015, 314.00)\n",
    "p5 = periodeløn(2022-2019, 327.60)\n",
    "p6 = periodeløn(2023-2022, 340.10)\n",
    "\n",
    "samla_løn = p1 + p2 + p3 + p4 + p5 + p6\n",
    "\n",
    "print(f\"Samla løn, Per: {samla_løn:.2f}\")"
   ]
  },
  {
   "attachments": {},
   "cell_type": "markdown",
   "metadata": {},
   "source": [
    "Om me på den andre sida bruker modellen for timeløn som me fann i **b)** så kan me bruka den:"
   ]
  },
  {
   "cell_type": "code",
   "execution_count": 6,
   "metadata": {},
   "outputs": [
    {
     "name": "stdout",
     "output_type": "stream",
     "text": [
      "Samla løn, Per: 7903823.68\n"
     ]
    }
   ],
   "source": [
    "samla_løn = 0\n",
    "\n",
    "# modell for timeløn\n",
    "def g(x):\n",
    "    return 278.5 * 1.0151**x\n",
    "\n",
    "# i frå og med 0 til og med 14\n",
    "# finn ny årsløn og legg til samla løn dei 15 åra\n",
    "for i in range(15):\n",
    "    samla_løn += 1700 * g(i)\n",
    "\n",
    "print(f\"Samla løn, Per: {samla_løn:.2f}\")"
   ]
  },
  {
   "attachments": {},
   "cell_type": "markdown",
   "metadata": {},
   "source": [
    "Ser at skilnaden på dei to strategiane er rundt 92 000 kr i løpet av dei 15 åra (f.o.m. 2008, t.o.m. 2022). "
   ]
  },
  {
   "attachments": {},
   "cell_type": "markdown",
   "metadata": {},
   "source": [
    "## Oppgåve 2\n",
    "\n",
    "### a) Påstand 1 - logaritmar\n",
    "\n",
    "La $x=e$. Då er $x>0$ og $\\ln(x)=\\ln(e)=1$. Dermed får me\n",
    "\n",
    "$$\n",
    "\\begin{align*}\n",
    "    (\\ln(x))^4 &= 4\\ln(x) \\\\\n",
    "    1^4 &\\neq 4\\cdot 1\n",
    "\\end{align*}\n",
    "$$\n",
    "\n",
    "**Påstanden er usann**\n",
    "\n",
    "### b) Påstand 2 - fjerdegradsfunksjonar\n",
    "\n",
    "Talet på ekstremalpunkt til ein funksjon er knytt saman med talet på nullpunkt til den deriverte til funksjonen. \n",
    "\n",
    "Den deriverte til ein fjerdegradsfunksjon er ein tredjegradsfunksjon. Alle tredjegradsfunksjonar har minst eitt nullpunkt. \n",
    "\n",
    "Sidan alle tredjegradsfunksjonar har minst eitt nullpunkt har alle fjerdegradsfunksjonar minst eitt ekstremalpunkt. \n",
    "\n",
    "**Påstanden er sann**\n",
    "\n",
    "### c) Påstand 3 - Lotto\n",
    "\n",
    "Kan sjå på dette som hypergeometrisk sannsyn, der populasjon og utval er delt i to grupper, *mindre enn 18* og *ikkje mindre enn 18*.\n",
    "\n",
    "Det er 17 av tala som er *mindre enn 18*, $0\\rightarrow 17$, og 17 tala som er *ikkje mindre enn 18*, $18\\rightarrow 34$. \n",
    "\n",
    "La $X$ vera antall kuler mindre enn 18. Då er \n",
    "\n",
    "$$P(X=7) = \\frac{\\left(17 \\atop 7 \\right) \\left(17 \\atop 0 \\right)}{\\left(34 \\atop 7\\right)}$$\n",
    "\n",
    "og samtidig er \n",
    "\n",
    "$$P(X=0) = \\frac{\\left(17 \\atop 0 \\right) \\left(17 \\atop 7 \\right)}{\\left(34 \\atop 7\\right)}$$\n",
    "\n",
    "Dermed ser me at $P(X=7) = P(X=0)$. \n",
    "\n",
    "**Påstanden er sann**"
   ]
  },
  {
   "attachments": {},
   "cell_type": "markdown",
   "metadata": {},
   "source": [
    "## Oppgåve 3\n",
    "\n",
    "Eit spel med to terningar. Mona finn sannsyn med programmet\n",
    "\n",
    "\n"
   ]
  },
  {
   "cell_type": "code",
   "execution_count": 8,
   "metadata": {},
   "outputs": [
    {
     "name": "stdout",
     "output_type": "stream",
     "text": [
      "0.4166666666666667\n"
     ]
    }
   ],
   "source": [
    "#| code-line-numbers: true\n",
    "g = 0\n",
    "for i in range(1, 7):\n",
    "    for j in range(1, 7):\n",
    "        if i+j >= 8:\n",
    "            g = g + 1\n",
    "\n",
    "print(g/36)"
   ]
  },
  {
   "attachments": {},
   "cell_type": "markdown",
   "metadata": {},
   "source": [
    "### a) Sannsyn i programkoden\n",
    "\n",
    "Med dette programmet tel Mona opp kor mange av dei moglege utfalla (summen av to terningar) som blir 8 eller større. \n",
    "Løkka går gjennom alle kombinasjonar av dei to terningane `i=1, j=1`, `i=1, j=2`, ..., `i=2, j=1` osb.\n"
   ]
  },
  {
   "attachments": {},
   "cell_type": "markdown",
   "metadata": {},
   "source": [
    "### b) Nytt program - tre terningar\n",
    "\n",
    "Eit anna spel med tre terningar. Gevinst om summen av auge er 7 eller 11. \n",
    "Kan utvida programmet frå **a)**. Endrar nemnaren til 216 ($6\\cdot 6 \\cdot 6$) i siste linja. "
   ]
  },
  {
   "cell_type": "code",
   "execution_count": 9,
   "metadata": {},
   "outputs": [
    {
     "name": "stdout",
     "output_type": "stream",
     "text": [
      "0.19444444444444445\n"
     ]
    }
   ],
   "source": [
    "#| code-line-numbers: true\n",
    "g = 0\n",
    "for i in range(1, 7):\n",
    "    for j in range(1, 7):\n",
    "        for k in range(1, 7):\n",
    "            if (i+j+k == 7) or (i+j+k == 11):\n",
    "                g = g + 1\n",
    "\n",
    "print(g/216)"
   ]
  },
  {
   "attachments": {},
   "cell_type": "markdown",
   "metadata": {},
   "source": [
    "Sannsynet for å vinna dette spelet er $0,194$. "
   ]
  },
  {
   "attachments": {},
   "cell_type": "markdown",
   "metadata": {},
   "source": [
    "## Oppgåve 4\n",
    "\n",
    "### a) Pris 40 kr\n",
    "\n",
    "Viss $p=40$ les me av grafen at $e=2100$. \n",
    "\n",
    "Det vil seie at ein sel 2100 einingar til 40 kr pr. stk. \n",
    "\n",
    "Daglege inntekter på $2100 \\cdot 40 kr = 84 000 kr$. \n",
    "\n",
    "### b) Inntekt 75 000 kr\n",
    "\n",
    "Ser av grafen at $e(p)$ har konstantledd 4500 og stigningstal -60. (Nedgang frå 4500 til 3900 på y-aksen når ein går frå 0 til 10 på x-aksen)\n",
    "\n",
    "Dvs. $e(p) = 4500 - 60p$. \n",
    "\n",
    "Daglege inntekter er tal eiingar gange prisen, $e(p)\\cdot p$.\n",
    "\n",
    "Løyser likninga $e(p)\\cdot p = 75000$.\n",
    "\n"
   ]
  },
  {
   "cell_type": "code",
   "execution_count": 10,
   "metadata": {},
   "outputs": [
    {
     "name": "stdout",
     "output_type": "stream",
     "text": [
      "p = {25.0, 50.0}\n"
     ]
    }
   ],
   "source": [
    "from sympy import Symbol, diff, Eq, Reals, solveset\n",
    "\n",
    "# definerer p\n",
    "p = Symbol(\"p\")\n",
    "\n",
    "# definerer vs og hs av likninga\n",
    "vs = (4500 - 60*p)*p\n",
    "hs = 75000\n",
    "\n",
    "# set opp likninga, og løyser ho\n",
    "likning = Eq(vs, hs)\n",
    "løysing = solveset(likning, p, domain=Reals)\n",
    "\n",
    "# skriv ut svaret\n",
    "print(f\"p = {løysing.evalf(4)}\")"
   ]
  },
  {
   "attachments": {},
   "cell_type": "markdown",
   "metadata": {},
   "source": [
    "Ser at om prisen er 25 kr eller 50 kr så vil dei daglege inntektene bli 75000 kr. "
   ]
  },
  {
   "attachments": {},
   "cell_type": "markdown",
   "metadata": {},
   "source": [
    "### c) Størst inntekt \n",
    "\n",
    "Sidan funksjonen for daglege inntekter er ein konkav andregradsfunksjon ($(4500-60p)p = -60p^2+45000$) er ekstremalpunktet eit toppunkt. Av symmetri i andregradsfunksjonar følgjer det at toppunktet ligg midt mellom 25 kr og 50 kr. \n",
    "\n",
    "Pris på $(25 kr + 50 kr)/2 = 37,5 kr $ gjev størst inntekt. "
   ]
  },
  {
   "attachments": {},
   "cell_type": "markdown",
   "metadata": {},
   "source": [
    "## Oppgåve 5\n",
    "\n",
    "### a) Bestem sannsyn\n",
    "\n",
    "Her kan me gå ut frå at det binomisk sannsyn sidan me har\n",
    "- to utfall i kvart delforsøk, kvar bilett (brukt/ikkje brukt)\n",
    "- likt sannsyn for at billetten vert brukt (0,45) i kvart delforsøk\n",
    "- uavhengige delforsøk (viss me går ut frå at dei som får gratisbillettane ikkje påverkar kvarande med om dei bruker eller ikkje bruker billetten...)\n",
    "\n",
    "Lar $X$ vera tal billettar som vert brukt. \n",
    "\n",
    "Finn $P(X\\geq 600)$ ved simulering\n"
   ]
  },
  {
   "cell_type": "code",
   "execution_count": 11,
   "metadata": {},
   "outputs": [
    {
     "name": "stdout",
     "output_type": "stream",
     "text": [
      "P(X ≥ 600) = 0.2097\n"
     ]
    }
   ],
   "source": [
    "import numpy as np\n",
    "rng = np.random.default_rng()\n",
    "\n",
    "N = 10000000 # tal simuleringar\n",
    "p = 0.45     # P(brukt billett)\n",
    "n = 1300     # tal gratisbillettar\n",
    "\n",
    "# simulerer \n",
    "brukte_billettar = rng.binomial(n, p, size=N)\n",
    "\n",
    "# finn sannsynet\n",
    "gunstige = sum(brukte_billettar >= 600)\n",
    "sannsyn = gunstige / N\n",
    "print(f\"P(X ≥ 600) = {sannsyn:.4f}\")"
   ]
  },
  {
   "attachments": {},
   "cell_type": "markdown",
   "metadata": {},
   "source": [
    "Sannynet for at minst 600 av billettane vert brukt er omlag 0,21."
   ]
  },
  {
   "attachments": {},
   "cell_type": "markdown",
   "metadata": {},
   "source": [
    "### b) Finn tal gratisbilettar\n",
    "\n",
    "Vil finna ut kor mange gratisbillettar dei må dela ut dersom sannsynet for at minst 600 blir brukt skal vera over 95 %. \n",
    "\n",
    "Gjer simuleringa frå **a)** til ein funksjon og testar med fleire og fleire gratisbillettar til sannsynet for at minst 600 blir brukt passerer 95 %. "
   ]
  },
  {
   "cell_type": "code",
   "execution_count": 12,
   "metadata": {},
   "outputs": [
    {
     "name": "stdout",
     "output_type": "stream",
     "text": [
      "1401\n"
     ]
    }
   ],
   "source": [
    "# sannsynsfunksjon\n",
    "def sannsyn(n):\n",
    "    N = 1000000\n",
    "    p = 0.45\n",
    "\n",
    "    # simulerer \n",
    "    brukte_billettar = rng.binomial(n, p, size=N)\n",
    "\n",
    "    # finn sannsynet\n",
    "    gunstige = sum(brukte_billettar >= 600)\n",
    "    sannsyn = gunstige / N\n",
    "\n",
    "    return sannsyn\n",
    "\n",
    "n = 1300\n",
    "\n",
    "# aukar tal gratisbillettar til sannsynet er 95% eller meir\n",
    "while sannsyn(n) < 0.95:\n",
    "    n += 1\n",
    "\n",
    "print(n)"
   ]
  },
  {
   "attachments": {},
   "cell_type": "markdown",
   "metadata": {},
   "source": [
    "Dvs. om dei deler ut 1400 bilettar vil det vera over 95 % sannsynleg at minst 600 av dei vert brukt. "
   ]
  },
  {
   "attachments": {},
   "cell_type": "markdown",
   "metadata": {},
   "source": [
    "## Oppgåve 6\n",
    "\n",
    "Samanhengen mellom lydstyrken $L$ (målt i $dB$) og lydintensiteten $I$ (målt i $W/m^2$) er gitt ved\n",
    "\n",
    "$$L = 120 + 10\\cdot \\lg(I)$$\n",
    "\n",
    "Smertegrense for menneske på kring 130 $dB$\n",
    "\n",
    "### a) Bestem lydintensitet\n",
    "\n",
    "Set inn $L=130$ og løyser likninga for $I$. "
   ]
  },
  {
   "cell_type": "code",
   "execution_count": 13,
   "metadata": {},
   "outputs": [
    {
     "name": "stdout",
     "output_type": "stream",
     "text": [
      "I = {10.0}\n"
     ]
    }
   ],
   "source": [
    "from sympy import Symbol, diff, Eq, Reals, solveset, log\n",
    "\n",
    "# definerer I\n",
    "I = Symbol(\"I\")\n",
    "\n",
    "# definerer vs og hs av likninga\n",
    "vs = 130\n",
    "hs = 120 + 10*log(I, 10)\n",
    "\n",
    "# set opp likninga, og løyser ho\n",
    "likning = Eq(vs, hs)\n",
    "løysing = solveset(likning, I, domain=Reals)\n",
    "\n",
    "# skriv ut svaret\n",
    "print(f\"I = {løysing.evalf(4)}\")"
   ]
  },
  {
   "attachments": {},
   "cell_type": "markdown",
   "metadata": {},
   "source": [
    "Lydintensiteten er $10 W/m^2$ når lydstyrken er $130dB$."
   ]
  },
  {
   "attachments": {},
   "cell_type": "markdown",
   "metadata": {},
   "source": [
    "### b) Auke i intensitet\n",
    "\n",
    "Finn intensiten ved $132dB$. "
   ]
  },
  {
   "cell_type": "code",
   "execution_count": 14,
   "metadata": {},
   "outputs": [
    {
     "name": "stdout",
     "output_type": "stream",
     "text": [
      "I = {15.85}\n"
     ]
    }
   ],
   "source": [
    "# definerer vs og hs av likninga\n",
    "vs = 132\n",
    "hs = 120 + 10*log(I, 10)\n",
    "\n",
    "# set opp likninga, og løyser ho\n",
    "likning = Eq(vs, hs)\n",
    "løysing = solveset(likning, I, domain=Reals)\n",
    "\n",
    "# skriv ut svaret\n",
    "print(f\"I = {løysing.evalf(4)}\")"
   ]
  },
  {
   "attachments": {},
   "cell_type": "markdown",
   "metadata": {},
   "source": [
    "Lydinsiteten har auka frå 10 til 15,85. Det gir oss vekstfaktor $15,85 / 10 = 1,581$. \n",
    "\n",
    "Auken i lydintensitet er omlag 58,1 % når ein aukar lydstyrken med $2 dB$. "
   ]
  },
  {
   "attachments": {},
   "cell_type": "markdown",
   "metadata": {},
   "source": [
    "### c) Minste avstand til flyet\n",
    "\n",
    "Effekten til lyd frå lydkjelde, $E$, vil gje lydintensitet $I$ i ein avstand $r$ (målt i $m$) frå lydkjelda vera $$I = \\frac{E}{4\\pi \\cdot r^2}$$. \n",
    "\n",
    "Lydstyrke frå eit fly er $140 dB$ når ein er $50 m$ frå flyet. \n",
    "\n",
    "Bestem den minste avstanden til flyet der lydstyrken er mindre enn $130dB$. \n",
    "\n",
    "Finn intensiteten ved $140 dB$: \n",
    "\n"
   ]
  },
  {
   "cell_type": "code",
   "execution_count": 15,
   "metadata": {},
   "outputs": [
    {
     "name": "stdout",
     "output_type": "stream",
     "text": [
      "I = {100.0}\n"
     ]
    }
   ],
   "source": [
    "# definerer vs og hs av likninga\n",
    "vs = 140\n",
    "hs = 120 + 10*log(I, 10)\n",
    "\n",
    "# set opp likninga, og løyser ho\n",
    "likning = Eq(vs, hs)\n",
    "løysing = solveset(likning, I, domain=Reals)\n",
    "\n",
    "# skriv ut svaret\n",
    "print(f\"I = {løysing.evalf(4)}\")"
   ]
  },
  {
   "attachments": {},
   "cell_type": "markdown",
   "metadata": {},
   "source": [
    "Vidare bruker me at $I=100$ for å finna E. \n",
    "$$\\begin{align*}\n",
    "I &= \\frac{E}{4\\pi\\cdot r^2} \\\\\n",
    "100 &= \\frac{E}{4\\pi\\cdot 50^2} \\\\\n",
    "E &= 100 \\cdot 4\\pi\\cdot 50^2\n",
    "\\end{align*} $$"
   ]
  },
  {
   "attachments": {},
   "cell_type": "markdown",
   "metadata": {},
   "source": [
    "Dette gjev oss likninga \n",
    "\n",
    "$$\\begin{align*}\n",
    "L &= 120 + 10\\lg(I) \\\\\n",
    "&= 120 + 10\\lg\\left(\\frac{E}{4\\pi\\cdot r^2}\\right) \\\\\n",
    "&= 120 + 10\\lg\\left(\\frac{100 \\cdot 4\\pi\\cdot 50^2}{4\\pi\\cdot r^2}\\right) \\\\\n",
    "&= 120 + 10\\lg\\left(\\frac{100 \\cdot50^2}{r^2}\\right)\n",
    "\\end{align*} $$"
   ]
  },
  {
   "attachments": {},
   "cell_type": "markdown",
   "metadata": {},
   "source": [
    "Løyser likninga for $r$ når $L=130$. "
   ]
  },
  {
   "cell_type": "code",
   "execution_count": 16,
   "metadata": {},
   "outputs": [
    {
     "name": "stdout",
     "output_type": "stream",
     "text": [
      "r = {-158.1, 158.1}\n"
     ]
    }
   ],
   "source": [
    "# definerer r\n",
    "r = Symbol(\"r\")\n",
    "\n",
    "# definerer vs og hs av likninga\n",
    "vs = 130\n",
    "hs = 120 + 10*log((100*50**2)/(r**2), 10)\n",
    "\n",
    "# set opp likninga, og løyser ho\n",
    "likning = Eq(vs, hs)\n",
    "løysing = solveset(likning, r, domain=Reals)\n",
    "\n",
    "# skriv ut svaret\n",
    "print(f\"r = {løysing.evalf(4)}\")"
   ]
  },
  {
   "attachments": {},
   "cell_type": "markdown",
   "metadata": {},
   "source": [
    "Den minste avstanden er 158 meter. "
   ]
  },
  {
   "cell_type": "code",
   "execution_count": null,
   "metadata": {},
   "outputs": [],
   "source": []
  }
 ],
 "metadata": {
  "kernelspec": {
   "display_name": "Python 3",
   "language": "python",
   "name": "python3"
  },
  "language_info": {
   "codemirror_mode": {
    "name": "ipython",
    "version": 3
   },
   "file_extension": ".py",
   "mimetype": "text/x-python",
   "name": "python",
   "nbconvert_exporter": "python",
   "pygments_lexer": "ipython3",
   "version": "3.11.6"
  },
  "orig_nbformat": 4,
  "vscode": {
   "interpreter": {
    "hash": "369f2c481f4da34e4445cda3fffd2e751bd1c4d706f27375911949ba6bb62e1c"
   }
  }
 },
 "nbformat": 4,
 "nbformat_minor": 2
}
