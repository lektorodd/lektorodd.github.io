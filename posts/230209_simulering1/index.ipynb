{
 "cells": [
  {
   "cell_type": "raw",
   "metadata": {},
   "source": [
    "---\n",
    "title: \"Grunnleggjande simulering i NumPy\"\n",
    "from: markdown+emoji\n",
    "author: \"Torodd F. Ottestad\"\n",
    "date: \"2023-02-09\"\n",
    "categories: [programmering, s-matte, simulering, tips]\n",
    "image: \"terning.jpg\"\n",
    "---"
   ]
  },
  {
   "attachments": {},
   "cell_type": "markdown",
   "metadata": {},
   "source": [
    "# :computer: Simulering i NumPy \n",
    "\n",
    "Simulering er ein viktig del av læreplanen i matematikk for samfunnsfag (S1 + S2) i LK20. Mange lærebøker er opptatt av løkker i simuleringa si. Det tar tid å køyra, kan vera meir tungt for elevane å forstå og kan by på meir feilmeldingar mtp. syntaks. Her kjem eit (kanskje av fleire) innlegg med tips til simulering med [NumPy](https://numpy.org/). "
   ]
  },
  {
   "attachments": {},
   "cell_type": "markdown",
   "metadata": {},
   "source": [
    "## Random generator \n",
    "\n",
    "For å simulera lagar me ein *random generator*. Denne kallar me for `rng` (*random number generator*). Me kan tilpassa `default_rng()` med å gje han ulike argument (feks. `seed` for å få reproduserbare tal) men i praksis i S1 og S2 er det ikkje noko me treng å tenka på.\n"
   ]
  },
  {
   "cell_type": "code",
   "execution_count": 25,
   "metadata": {},
   "outputs": [],
   "source": [
    "import numpy as np\n",
    "rng = np.random.default_rng()"
   ]
  },
  {
   "attachments": {},
   "cell_type": "markdown",
   "metadata": {},
   "source": [
    "Denne generatoren kan me bruka til mange ulike simuleringar. Om me vil kasta ein terning ein gong kan me trekka eit heiltal. Det gjer me med funksjonen `integers(low, high)` som ligg i `rng`-en vår. "
   ]
  },
  {
   "cell_type": "code",
   "execution_count": 26,
   "metadata": {},
   "outputs": [
    {
     "name": "stdout",
     "output_type": "stream",
     "text": [
      "3\n"
     ]
    }
   ],
   "source": [
    "terning = rng.integers(1, 7)\n",
    "print(terning)"
   ]
  },
  {
   "attachments": {},
   "cell_type": "markdown",
   "metadata": {},
   "source": [
    "::: {.callout-important}\n",
    "## Pass på\n",
    "\n",
    "Her vil `terning = rng.integers(1, 7)` gje oss\n",
    "\n",
    "$$\\text{terning} \\in \\{1, 2, 3, 4, 5, 6\\}$$\n",
    "\n",
    "Med andre ord $$1 \\leq \\text{terning} < 7$$\n",
    ":::"
   ]
  },
  {
   "attachments": {},
   "cell_type": "markdown",
   "metadata": {},
   "source": [
    "Om me vil kasta fleire terningar kan me i tillegg gje inn `size` som argument til `rng.integers`"
   ]
  },
  {
   "cell_type": "code",
   "execution_count": 27,
   "metadata": {},
   "outputs": [
    {
     "name": "stdout",
     "output_type": "stream",
     "text": [
      "[1 1 4 2 5 1 6 5 3 5]\n"
     ]
    }
   ],
   "source": [
    "terningar = rng.integers(1, 7, 10)\n",
    "print(terningar)"
   ]
  },
  {
   "attachments": {},
   "cell_type": "markdown",
   "metadata": {},
   "source": [
    "Vidare kan me rekna med resultata. Desse er lagra i ein `array` (ein variabeltype som minnar om lister).\n",
    "\n",
    "Me kan t.d. sjekka kor mange av dei 10 terningane me kasta som vart seksarar. Først kan me sjekka kva verdiar som er 6:"
   ]
  },
  {
   "cell_type": "code",
   "execution_count": 28,
   "metadata": {},
   "outputs": [
    {
     "data": {
      "text/plain": [
       "array([False, False, False, False, False, False,  True, False, False,\n",
       "       False])"
      ]
     },
     "execution_count": 28,
     "metadata": {},
     "output_type": "execute_result"
    }
   ],
   "source": [
    "terningar == 6"
   ]
  },
  {
   "attachments": {},
   "cell_type": "markdown",
   "metadata": {},
   "source": [
    "Dette kan me bruka til å rekna med. Sidan `False` vert tolka som 0 og `True` vert tolka som 1 kan me finna summen av arrayen med sanningsvariablane:"
   ]
  },
  {
   "cell_type": "code",
   "execution_count": 29,
   "metadata": {},
   "outputs": [
    {
     "data": {
      "text/plain": [
       "1"
      ]
     },
     "execution_count": 29,
     "metadata": {},
     "output_type": "execute_result"
    }
   ],
   "source": [
    "sum(terningar == 6)"
   ]
  },
  {
   "attachments": {},
   "cell_type": "markdown",
   "metadata": {},
   "source": [
    "## Døme :game_die:\n",
    "\n",
    "Me trillar terning. \n",
    "\n",
    "$A$: terningen viser 5 eller 6.\n",
    "\n",
    "Finn $P(A)$ ved hjelp av simulering. "
   ]
  },
  {
   "cell_type": "code",
   "execution_count": 30,
   "metadata": {},
   "outputs": [
    {
     "name": "stdout",
     "output_type": "stream",
     "text": [
      "P(A) = 0.3332\n"
     ]
    }
   ],
   "source": [
    "import numpy as np\n",
    "rng = np.random.default_rng()\n",
    "\n",
    "# tal simuleringar\n",
    "N = 10000000\n",
    "\n",
    "# triller terning N gongar\n",
    "terningar = rng.integers(1, 7, N)\n",
    "\n",
    "# finn antall femmarar og seksarar\n",
    "gunstige = sum(terningar >= 5)\n",
    "\n",
    "# finn og skriv ut relativ frekvens\n",
    "rel_frek = gunstige / N\n",
    "print(f\"P(A) = {rel_frek:.4f}\")"
   ]
  },
  {
   "attachments": {},
   "cell_type": "markdown",
   "metadata": {},
   "source": [
    "Ut frå 10 000 000 simuleringar ser me at $P(A)=0,3333$. Dvs. det er $33,33\\%$ sannsynleg å trilla 5 eller 6 på terningen. "
   ]
  },
  {
   "attachments": {},
   "cell_type": "markdown",
   "metadata": {},
   "source": [
    "Dømet over er eit problem som ikkje er vanskeleg å løysa analytisk, og dermed ikkje veldig spennande å bruka simulering på. Men om problema vert vanskelege å rekna på er dei ofte ikkje så vanskelege å simulera. Eit litt meir avansert problem (som er lett å simulera) finn me i S1-eksamen frå våren 2022: \n",
    "\n",
    "> I eit spel kastar du tre terningar. Du multipliserer saman augetalet på terningane. Dersom dette produktet er større enn 100, vinn du. Bestem sannsynet for å vinne ved å køyre simuleringar. Hugs å vise korleis du kjem fram til svaret. [UDIR (2022) - Eksamen S1-V22](https://sokeresultat.udir.no/eksamensoppgaver.html?query=s1)"
   ]
  },
  {
   "attachments": {},
   "cell_type": "markdown",
   "metadata": {},
   "source": [
    "For å svare på denne oppgåva treng me litt meir kjennskap til korleis me kan jobba med arrays. \n",
    "Arrays er ein form for lister eller vektorar. Me kan utføra ulike rekneoperasjonar med dei. Me kan t.d. legga dei saman og multiplisera dei:"
   ]
  },
  {
   "cell_type": "code",
   "execution_count": 31,
   "metadata": {},
   "outputs": [
    {
     "name": "stdout",
     "output_type": "stream",
     "text": [
      "[7 7 7 7 7 7]\n",
      "[ 6 10 12 12 10  6]\n"
     ]
    }
   ],
   "source": [
    "a = np.array([1, 2, 3, 4, 5, 6])\n",
    "b = np.array([6, 5, 4, 3, 2, 1])\n",
    "\n",
    "print(a+b)\n",
    "print(a*b)"
   ]
  },
  {
   "attachments": {},
   "cell_type": "markdown",
   "metadata": {},
   "source": [
    "Då har me alt me treng for å løysa eksamensoppgåva:"
   ]
  },
  {
   "cell_type": "code",
   "execution_count": 32,
   "metadata": {},
   "outputs": [
    {
     "name": "stdout",
     "output_type": "stream",
     "text": [
      "P(produkt over 100) = 0.0928\n"
     ]
    }
   ],
   "source": [
    "import numpy as np\n",
    "rng = np.random.default_rng()\n",
    "\n",
    "# antall simuleringar\n",
    "N = 1000000\n",
    "\n",
    "# triller 3 terningar N gongar\n",
    "t1 = rng.integers(1, 7, N)\n",
    "t2 = rng.integers(1, 7, N)\n",
    "t3 = rng.integers(1, 7, N)\n",
    "\n",
    "# finn produktet\n",
    "prod = t1* t2 * t3\n",
    "\n",
    "# tel opp kor mange av produkta som er over 100\n",
    "gunstige = sum(prod > 100)\n",
    "\n",
    "# finn og skriv ut relativ frekvens\n",
    "rel_frek = gunstige / N\n",
    "print(f\"P(produkt over 100) = {rel_frek:.4f}\")"
   ]
  },
  {
   "attachments": {},
   "cell_type": "markdown",
   "metadata": {},
   "source": [
    "Det er med andre ord ca. $9,34\\%$ sannsynleg å vinna spelet. "
   ]
  },
  {
   "attachments": {},
   "cell_type": "markdown",
   "metadata": {},
   "source": [
    "# Binomisk sannsynsmodell\n",
    "\n",
    "I `rng` har me òg mogleiken for simulering av binomiske fordelingar. \n",
    "\n",
    "`rng.binomial(n, p)` der `n` er talet på delforsøk og `p` er sannsynet for suksess i kvart delforsøk. \n",
    "\n",
    "## Døme på bruk\n",
    "Me plantar 150 frø. Sannsynet for at eit frø spirer er 85%. \n",
    "\n",
    "Kva er sannsynet for at minst 130 frø spirer? \n",
    "\n",
    "$X$: antall frø som spirer. "
   ]
  },
  {
   "cell_type": "code",
   "execution_count": 33,
   "metadata": {},
   "outputs": [
    {
     "name": "stdout",
     "output_type": "stream",
     "text": [
      "P(X >= 130) = 0.3311\n"
     ]
    }
   ],
   "source": [
    "import numpy as np\n",
    "rng = np.random.default_rng()\n",
    "\n",
    "N = 1000000     # antall simuleringar\n",
    "\n",
    "n = 150         # antall delforsøk/frø\n",
    "p = 0.85        # sannsynet for at eitt frø spirer\n",
    "\n",
    "# ser kor mange av frøa som spirer kvar simulering\n",
    "spirer = rng.binomial(n, p, N)\n",
    "\n",
    "# tell opp dei simuleringane som gjev 130+ frø som spirer\n",
    "gunstige = sum(spirer >= 130)\n",
    "\n",
    "rel_frek = gunstige / N\n",
    "print(f\"P(X >= 130) = {rel_frek:.4f}\")"
   ]
  },
  {
   "attachments": {},
   "cell_type": "markdown",
   "metadata": {},
   "source": [
    "Ser at $P(X\\geq 130) = 0,3321$."
   ]
  },
  {
   "attachments": {},
   "cell_type": "markdown",
   "metadata": {},
   "source": [
    "# Hypergeometrisk sannsynsmodell\n",
    "\n",
    "På same måte kan me simulera hypergeometrisk fordeling. \n",
    "\n",
    "`rng.hypergeometric(ngood, nbad, nsample)` der `ngood` og `nbad` er dei to delane av populasjonen vår og `nsample` er storleiken på utvalet me trekk. \n",
    "\n",
    "## Døme på bruk\n",
    "\n",
    "Det ligg 4 daim og 7 banantwist i ei skål. Du trekk 3 bitar. Kva er sannsynet for at akkurat to av desse er daim? "
   ]
  },
  {
   "cell_type": "code",
   "execution_count": 34,
   "metadata": {},
   "outputs": [
    {
     "name": "stdout",
     "output_type": "stream",
     "text": [
      "P(X=2) = 0.2539\n"
     ]
    }
   ],
   "source": [
    "import numpy as np\n",
    "rng = np.random.default_rng()\n",
    "\n",
    "# antall simuleringar\n",
    "N = 1000000\n",
    "\n",
    "ngood = 4      # daim i populasjonen\n",
    "nbad = 7       # banan i populasjonen\n",
    "nsample = 3    # antall bitar me trekk\n",
    "\n",
    "# simulerer\n",
    "twist = rng.hypergeometric(ngood, nbad, nsample, size=N)\n",
    "\n",
    "# tel opp kor mange gonagar me fekk 2 daim\n",
    "gunstige = sum(twist == 2)\n",
    "\n",
    "rel_frek = gunstige / N\n",
    "print(f\"P(X=2) = {rel_frek:.4f}\")"
   ]
  },
  {
   "attachments": {},
   "cell_type": "markdown",
   "metadata": {},
   "source": [
    "Det er $25,5\\%$ sannsynleg at det er akkurat to daimtwist."
   ]
  },
  {
   "attachments": {},
   "cell_type": "markdown",
   "metadata": {},
   "source": [
    "# Oppsummert\n",
    "\n",
    "Simulering med `numpy` er altså fleksibelt og raskt med mindre komplisert syntaks enn store løkker. \n",
    "\n",
    "I tillegg er det mange andre kjekke funksjonar som mellom anna `rng.choice()` og `rng.normal()` som kan vera kjekke. Meir om dei ein annan dag :smile: "
   ]
  }
 ],
 "metadata": {
  "kernelspec": {
   "display_name": "Python 3",
   "language": "python",
   "name": "python3"
  },
  "language_info": {
   "codemirror_mode": {
    "name": "ipython",
    "version": 3
   },
   "file_extension": ".py",
   "mimetype": "text/x-python",
   "name": "python",
   "nbconvert_exporter": "python",
   "pygments_lexer": "ipython3",
   "version": "3.10.1"
  },
  "orig_nbformat": 4,
  "vscode": {
   "interpreter": {
    "hash": "aee8b7b246df8f9039afb4144a1f6fd8d2ca17a180786b69acc140d282b71a49"
   }
  }
 },
 "nbformat": 4,
 "nbformat_minor": 2
}
