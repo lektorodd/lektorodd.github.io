{
 "cells": [
  {
   "cell_type": "raw",
   "metadata": {},
   "source": [
    "---\n",
    "title: \"Nyttige simuleringskommandoar\"\n",
    "description: \"Her er ei oversikt over nyttige tips og triks til simulering i Python. Det kan jo vera kjekt til eksamen 🥳\"\n",
    "from: markdown+emoji\n",
    "author: \"Torodd F. Ottestad\"\n",
    "date: \"2023-05-11\"\n",
    "categories: [programmering, s-matte, simulering, eksamen]\n",
    "image: \"lykkehjul.jpg\"\n",
    "---"
   ]
  },
  {
   "attachments": {},
   "cell_type": "markdown",
   "metadata": {},
   "source": [
    "## Komme i gang\n",
    " \n",
    " Standard importering og oppsett av tilfeldighetsgenerator frå `NumPy`. \n"
   ]
  },
  {
   "cell_type": "code",
   "execution_count": 18,
   "metadata": {},
   "outputs": [],
   "source": [
    "import numpy as np\n",
    "rng = np.random.default_rng()"
   ]
  },
  {
   "attachments": {},
   "cell_type": "markdown",
   "metadata": {},
   "source": [
    "## Uniforme modellar\n",
    "\n",
    "Ofte enkelt å bruke heiltal når ein skal simulere noko med uniform sannsynsmodell - ein terning :game_die:, myntkast :coin:, gut/jente :couple: osv. "
   ]
  },
  {
   "attachments": {},
   "cell_type": "markdown",
   "metadata": {},
   "source": [
    "### Døme - myntkast\n",
    "\n",
    "Viss ein skal simulera myntkast kan ein la `0` vera mynt og `1` vera kron."
   ]
  },
  {
   "cell_type": "code",
   "execution_count": 19,
   "metadata": {},
   "outputs": [
    {
     "name": "stdout",
     "output_type": "stream",
     "text": [
      "[1 0 1 1 1 0 0 0 1 0]\n"
     ]
    }
   ],
   "source": [
    "# antall kast\n",
    "N = 10\n",
    "\n",
    "# kasta simulert\n",
    "mynt_kast = rng.integers(0, 2, size=N)\n",
    "\n",
    "print(mynt_kast)"
   ]
  },
  {
   "attachments": {},
   "cell_type": "markdown",
   "metadata": {},
   "source": [
    "Dermed kan ein enkelt telja opp kor mange kron det var:"
   ]
  },
  {
   "cell_type": "code",
   "execution_count": 25,
   "metadata": {},
   "outputs": [
    {
     "data": {
      "text/plain": [
       "5"
      ]
     },
     "execution_count": 25,
     "metadata": {},
     "output_type": "execute_result"
    }
   ],
   "source": [
    "sum(mynt_kast)"
   ]
  },
  {
   "attachments": {},
   "cell_type": "markdown",
   "metadata": {},
   "source": [
    "## Binomiske fordelingar\n",
    "\n",
    "Viss me ser på noko som er binomisk fordelt er `rng.binomial(n, p)` fin å nytta. `n` er antall *suksess* og `p` er sannsynet for *suksess* i kvart delforsøk. Her og kan ein bruka `size=` for å gjenta forsøket fleire gongar. \n",
    "\n",
    "### Døme\n",
    "\n",
    "Plantar 100 frø. Sannsynet for at eitt frø spirer er 0.7 :seedling:\n",
    "\n",
    "Dette kan me simulera: \n",
    "\n"
   ]
  },
  {
   "cell_type": "code",
   "execution_count": 21,
   "metadata": {},
   "outputs": [
    {
     "name": "stdout",
     "output_type": "stream",
     "text": [
      "[67 73 73 65 74 71 69 74 65 76]\n"
     ]
    }
   ],
   "source": [
    "# simulererer forsøket N gongar\n",
    "N = 10\n",
    "\n",
    "spirer = rng.binomial(n=100, p=0.7, size=N)\n",
    "print(spirer)\n"
   ]
  },
  {
   "attachments": {},
   "cell_type": "markdown",
   "metadata": {},
   "source": [
    "Tala her viser kor mange av dei 100 frøa som spirte i kvar av dei 10 gjennomførte forsøka. \n",
    "\n",
    "Me kan telja opp kor mange av forsøka som tilfredsstiller eit vilkår. T.d. kor mange gongar spira 70 eller fleire av frøa?"
   ]
  },
  {
   "cell_type": "code",
   "execution_count": 22,
   "metadata": {},
   "outputs": [
    {
     "data": {
      "text/plain": [
       "array([False,  True,  True, False,  True,  True, False,  True, False,\n",
       "        True])"
      ]
     },
     "execution_count": 22,
     "metadata": {},
     "output_type": "execute_result"
    }
   ],
   "source": [
    "spirer >= 70"
   ]
  },
  {
   "attachments": {},
   "cell_type": "markdown",
   "metadata": {},
   "source": [
    "Ser at me her får sanningsvariablar. Python reknar `false` som 0 og `true` som 1. Dermed blir det lett å telja opp:"
   ]
  },
  {
   "cell_type": "code",
   "execution_count": 23,
   "metadata": {},
   "outputs": [
    {
     "data": {
      "text/plain": [
       "6"
      ]
     },
     "execution_count": 23,
     "metadata": {},
     "output_type": "execute_result"
    }
   ],
   "source": [
    "sum(spirer >= 70)"
   ]
  },
  {
   "attachments": {},
   "cell_type": "markdown",
   "metadata": {},
   "source": [
    "Då kan me finna sannsynet på denne oppgåva ved simulering. \n",
    "\n",
    "> Du plantar 100 frø, sannsynet for at eitt frø spirer er 0.7. Kva er sannsynet for at 70 eller fleire av frøa spirer?"
   ]
  },
  {
   "cell_type": "code",
   "execution_count": 24,
   "metadata": {},
   "outputs": [
    {
     "name": "stdout",
     "output_type": "stream",
     "text": [
      "P(X ≥ 70) = 0.5490\n"
     ]
    }
   ],
   "source": [
    "# antall forsøk\n",
    "N = 1000000\n",
    "\n",
    "# simulering\n",
    "spirer = rng.binomial(n=100, p=0.7, size=N)\n",
    "\n",
    "# tel opp gunstige utfall\n",
    "gunstige = sum(spirer >= 70)\n",
    "\n",
    "# finn relativ frekvens\n",
    "sannsyn = gunstige / N \n",
    "\n",
    "# skriv ut sannsynet med 4 desimalar\n",
    "print(f\"P(X ≥ 70) = {sannsyn:.4f}\")"
   ]
  },
  {
   "attachments": {},
   "cell_type": "markdown",
   "metadata": {},
   "source": [
    "## Hypergeometriske fordelingar\n",
    "\n",
    "For hypergeometriske fordelingar kan ein nytta `rng.hypergeometric(ngood, nbad, nsample)`. \n",
    "I hypergeometriske fordelingar er populasjonen delt i to. `ngood` og `nbad` er storleiken på kvar av dei. `nsample` er storleiken på utvalet du trekk frå populasjonen.  \n",
    "\n",
    "> Det ligg 12 raude og 7 blåe kuler i ei korg. Du trekk ut 5 kuler. Kva er sannsynet for at minst to av dei er raude?"
   ]
  },
  {
   "cell_type": "code",
   "execution_count": 26,
   "metadata": {},
   "outputs": [
    {
     "data": {
      "text/plain": [
       "array([2, 4, 3, 3, 3, 3, 2, 3, 3, 3])"
      ]
     },
     "execution_count": 26,
     "metadata": {},
     "output_type": "execute_result"
    }
   ],
   "source": [
    "N = 10\n",
    "\n",
    "# definerer kuleantall og utvalstorleik\n",
    "raude = 12\n",
    "blå = 7\n",
    "utval = 5\n",
    "\n",
    "# simulerer 10 trekk\n",
    "rng.hypergeometric(ngood=raude, nbad=blå, nsample=utval, size=N)"
   ]
  },
  {
   "attachments": {},
   "cell_type": "markdown",
   "metadata": {},
   "source": [
    "Tala me får ut her er antall raude (ngood) i kvart forsøk. Resten av utvalet blir då blå. \n",
    "\n",
    "Bruker dette til å løysa oppgåva. "
   ]
  },
  {
   "cell_type": "code",
   "execution_count": 27,
   "metadata": {},
   "outputs": [
    {
     "name": "stdout",
     "output_type": "stream",
     "text": [
      "P(minst to raude) = 0.9619\n"
     ]
    }
   ],
   "source": [
    "N = 1000000\n",
    "\n",
    "# definerer kuleantall og utvalstorleik\n",
    "raude = 12\n",
    "blå = 7\n",
    "utval = 5\n",
    "\n",
    "# simulerer \n",
    "trekte_kuler = rng.hypergeometric(\n",
    "    ngood=raude, \n",
    "    nbad=blå, \n",
    "    nsample=utval, \n",
    "    size=N\n",
    ")\n",
    "\n",
    "# tel opp gunstige\n",
    "gunstige = sum(trekte_kuler >= 2)\n",
    "\n",
    "sannsyn = gunstige / N\n",
    "print(f\"P(minst to raude) = {sannsyn:.4f}\")\n"
   ]
  },
  {
   "attachments": {},
   "cell_type": "markdown",
   "metadata": {},
   "source": [
    "## Normalfordeling\n",
    "\n",
    "Her bruker me `rng.normal(loc, scale)` der `loc` er gjennomsnittet/forventningsverdien ($\\mu$) og `scale` er standardavviket ($\\sigma$).\n",
    "\n",
    "### Døme\n",
    "\n",
    "På ein skule er gjennomsnittshøgda på elevane 172 cm og standardavviket 9 cm. \n",
    "Kva er sannsynet for at ein tilfeldig elev er høgare enn 180 cm?"
   ]
  },
  {
   "cell_type": "code",
   "execution_count": 28,
   "metadata": {},
   "outputs": [
    {
     "name": "stdout",
     "output_type": "stream",
     "text": [
      "Sannsynet er 0.1876\n"
     ]
    }
   ],
   "source": [
    "N = 1000000\n",
    "\n",
    "# trekk tilfeldige elevar\n",
    "elevar = rng.normal(loc=172, scale=9, size=N)\n",
    "\n",
    "# tel opp og finn sannsynet\n",
    "gunstige = sum(elevar > 180)\n",
    "sannsyn = gunstige / N\n",
    "\n",
    "print(f\"Sannsynet er {sannsyn:.4f}\")"
   ]
  },
  {
   "attachments": {},
   "cell_type": "markdown",
   "metadata": {},
   "source": [
    "::: {.callout-tip}\n",
    "## Samansett simulering\n",
    "\n",
    "I [dette](/posts/230303_simulering2/index.ipynb) innlegget har eg vist korleis simuleringsoppgåva frå eksempelsettet til S2 kan løysast (på tre ulike måtar).\n",
    ":::"
   ]
  },
  {
   "attachments": {},
   "cell_type": "markdown",
   "metadata": {},
   "source": [
    "I tillegg denne er `rng.standard_normal()` eit alternativ om ein jobbar med noko som er standard normalfordelt. "
   ]
  },
  {
   "attachments": {},
   "cell_type": "markdown",
   "metadata": {},
   "source": [
    "## Også nyttig - `rng.choice()`\n",
    "\n",
    "Trekke andre ting enn tal med `rng.choice`\n",
    "\n",
    "> I ei skål ligg det 7 banan-twist og 3 daim-twist. Kva er sannsynet for at me får to banan når me trekk ut to bitar frå skåla.\n",
    "\n",
    "Startar med å \"lage\" twistskåla. "
   ]
  },
  {
   "cell_type": "code",
   "execution_count": 29,
   "metadata": {},
   "outputs": [
    {
     "name": "stdout",
     "output_type": "stream",
     "text": [
      "['Banan', 'Banan', 'Banan', 'Banan', 'Banan', 'Banan', 'Banan', 'Daim', 'Daim', 'Daim']\n"
     ]
    }
   ],
   "source": [
    "twistskål = [\"Banan\"]*7 + [\"Daim\"]*3\n",
    "print(twistskål)"
   ]
  },
  {
   "attachments": {},
   "cell_type": "markdown",
   "metadata": {},
   "source": [
    "\n",
    "### med tilbakelegging\n",
    "\n",
    "Ser først på forsøket *med tilbakelegging* (dette er default i `choice`). "
   ]
  },
  {
   "cell_type": "code",
   "execution_count": 31,
   "metadata": {},
   "outputs": [
    {
     "name": "stdout",
     "output_type": "stream",
     "text": [
      "P(BB) = 0.4897\n"
     ]
    }
   ],
   "source": [
    "N = 1000000\n",
    "\n",
    "# tellevariabel BB <- banan+banan\n",
    "BB = 0\n",
    "\n",
    "for i in range(N):\n",
    "    trekt_twist = rng.choice(a=twistskål, size = 2)\n",
    "    # legg til 1 om bit1 OG bit2 er banan. Legg til 0 om ikkje... \n",
    "    BB += ((trekt_twist[0] == \"Banan\") and (trekt_twist[1] == \"Banan\"))\n",
    "\n",
    "sannsyn = BB / N\n",
    "print(f\"P(BB) = {sannsyn:.4f}\")"
   ]
  },
  {
   "attachments": {},
   "cell_type": "markdown",
   "metadata": {},
   "source": [
    "### utan tilbakelegging\n",
    "\n",
    "Dette er nesten heilt likt, men me legg til argumentet `replace=False`. "
   ]
  },
  {
   "cell_type": "code",
   "execution_count": 32,
   "metadata": {},
   "outputs": [
    {
     "name": "stdout",
     "output_type": "stream",
     "text": [
      "P(BB) = 0.4661\n"
     ]
    }
   ],
   "source": [
    "N = 1000000\n",
    "\n",
    "# tellevariabel BB <- banan+banan\n",
    "BB = 0\n",
    "\n",
    "for i in range(N):\n",
    "    trekt_twist = rng.choice(a=twistskål, size = 2, replace=False)\n",
    "    BB += ((trekt_twist[0] == \"Banan\") and (trekt_twist[1] == \"Banan\"))\n",
    "\n",
    "sannsyn = BB / N\n",
    "print(f\"P(BB) = {sannsyn:.4f}\")"
   ]
  },
  {
   "attachments": {},
   "cell_type": "markdown",
   "metadata": {},
   "source": [
    "### ikkje-uniformt sannsyn\n",
    "\n",
    "Sannsynet over var ikkje-uniformt, men såpass enkelt at me laga ei liste med heile utfallsrommet. Det vert fort upraktisk om me har mange ulike utfall med store variasjonar i antall. Me kan heller legga inn sannsynet for kvart av utfalla direkte i `rng.choice()`"
   ]
  },
  {
   "cell_type": "code",
   "execution_count": 33,
   "metadata": {},
   "outputs": [
    {
     "name": "stdout",
     "output_type": "stream",
     "text": [
      "['Banan' 'Daim']\n"
     ]
    }
   ],
   "source": [
    "twistar = [\"Banan\", \"Daim\"]\n",
    "sannsyn = [7/10, 3/10]\n",
    "\n",
    "to_twist = rng.choice(a=twistar, size=2, p=sannsyn)\n",
    "print(to_twist)"
   ]
  },
  {
   "attachments": {},
   "cell_type": "markdown",
   "metadata": {},
   "source": [
    "Dette er fint t.d. ved simulering av lykkehjul der ulike fargar har ulik storleik, eller for å simulera blodtype hos menneske. "
   ]
  },
  {
   "attachments": {},
   "cell_type": "markdown",
   "metadata": {},
   "source": [
    "## Oppsummering\n",
    "\n",
    "Det var ein kort gjennomgang av dei viktigaste kommandoane me treng for simulering i S1 og S2. Det er ei rekka andre valg i *random number generator*-en. Sjekk gjerne ut [dokumentasjonen](https://numpy.org/doc/stable/reference/random/generator.html). \n",
    "\n",
    "Denne sida kan du lagra og ha med på eksamen om du vil 😎 \n",
    "\n",
    "Lykke til! :student:\n",
    "\n",
    "---\n",
    "\n",
    "[Miniatyrbilete laga av katemangostar på Freepik](https://www.freepik.com/free-vector/colorful-wheel-luck-with-money-spinning-fortune-wheel-las-vegas-prize_2553295.htm#query=wheel%20fortune&position=0&from_view=search&track=ais)"
   ]
  },
  {
   "cell_type": "code",
   "execution_count": null,
   "metadata": {},
   "outputs": [],
   "source": []
  }
 ],
 "metadata": {
  "kernelspec": {
   "display_name": "geo_env",
   "language": "python",
   "name": "python3"
  },
  "language_info": {
   "codemirror_mode": {
    "name": "ipython",
    "version": 3
   },
   "file_extension": ".py",
   "mimetype": "text/x-python",
   "name": "python",
   "nbconvert_exporter": "python",
   "pygments_lexer": "ipython3",
   "version": "3.11.2"
  },
  "orig_nbformat": 4
 },
 "nbformat": 4,
 "nbformat_minor": 2
}
