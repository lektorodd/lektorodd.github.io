{
  "cells": [
    {
      "cell_type": "raw",
      "id": "3a7795cb",
      "metadata": {},
      "source": [
        "---\n",
        "title: \"Hyrdologiprogrammering\"\n",
        "from: markdown+emoji\n",
        "author: \"Torodd F. Ottestad\"\n",
        "date: \"2023-01-27\"\n",
        "categories: [verktøy, programmering, tips, geofag]\n",
        "image: \"island.jpg\"\n",
        "draft: true\n",
        "---"
      ]
    },
    {
      "cell_type": "markdown",
      "id": "13481b69",
      "metadata": {},
      "source": [
        "![📷 Dettifoss, Island](island.jpg){fig-align=\"center\" width=\"90%\"}\n",
        "\n",
        "# Hydrologiprosjekt\n",
        "\n",
        "Her kjem eit døme på korleis ein kan bruka og behandla nokre av dei store hydrologi-datamengdene me har tilgjengeleg i Noreg. Datamaterialet er samla inn av [NVE](https://www.nve.no/) og henta frå [Sildre](https://sildre.nve.no/). \n",
        "\n",
        "I det følgjande dømet nyttar eg vassføringsdata frå Reinsnosvatn <br>📍[kart](https://www.norgeskart.no/#!?project=norgeskart&layers=1002&zoom=11&lat=6674836.62&lon=34802.80&sok=Reinsnosvatn&markerLat=6675824.352100712&markerLon=36873.4684766499&p=searchOptionsPanel)\n",
        "\n",
        "> Målestasjonen ligger i Ullensvang i Vestland og er aktiv. Den har vært i drift siden juni 1917 og leverer i dag 3 forskjellige målinger. (sildre.nve.no)\n",
        "\n",
        "## Importere bibliotek\n",
        "\n",
        "Vassføringsdataa er lasta ned i csv-format. Me bruker `pandas` for å jobba med dette effektivt. I tillegg vert det litt plotting og matematikk, så me treng `pyplot` og `numpy` i tillegg. \n"
      ]
    },
    {
      "cell_type": "code",
      "execution_count": 1,
      "id": "9bdf8874",
      "metadata": {},
      "outputs": [],
      "source": [
        "import pandas as pd\n",
        "import matplotlib.pyplot as plt\n",
        "import numpy as np"
      ]
    },
    {
      "attachments": {},
      "cell_type": "markdown",
      "id": "40b1020e",
      "metadata": {},
      "source": [
        "tester videre"
      ]
    },
    {
      "cell_type": "markdown",
      "id": "b5bccc0b",
      "metadata": {},
      "source": []
    }
  ],
  "metadata": {
    "kernelspec": {
      "display_name": "base",
      "language": "python",
      "name": "python3"
    },
    "language_info": {
      "codemirror_mode": {
        "name": "ipython",
        "version": 3
      },
      "file_extension": ".py",
      "mimetype": "text/x-python",
      "name": "python",
      "nbconvert_exporter": "python",
      "pygments_lexer": "ipython3",
      "version": "3.8.15"
    },
    "vscode": {
      "interpreter": {
        "hash": "40d3a090f54c6569ab1632332b64b2c03c39dcf918b08424e98f38b5ae0af88f"
      }
    }
  },
  "nbformat": 4,
  "nbformat_minor": 5
}
