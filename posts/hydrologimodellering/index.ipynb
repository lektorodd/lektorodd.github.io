{
  "cells": [
    {
      "cell_type": "raw",
      "id": "3a7795cb",
      "metadata": {},
      "source": [
        "---\n",
        "title: \"Hydrologiprogrammering\"\n",
        "from: markdown+emoji\n",
        "author: \"Torodd F. Ottestad\"\n",
        "date: \"2023-01-27\"\n",
        "categories: [modellering, programmering, tips, geofag]\n",
        "image: \"island.jpg\"\n",
        "draft: true\n",
        "---"
      ]
    },
    {
      "attachments": {},
      "cell_type": "markdown",
      "id": "13481b69",
      "metadata": {},
      "source": [
        "![📷 Dettifoss, Island](island.jpg){fig-align=\"center\" width=\"90%\"}\n",
        "\n",
        "# Hydrologiprosjekt\n",
        "\n",
        "Her kjem eit døme på korleis ein kan bruka og behandla nokre av dei store hydrologi-datamengdene me har tilgjengeleg i Noreg. Datamaterialet er samla inn av [NVE](https://www.nve.no/) og henta frå [Sildre](https://sildre.nve.no/). \n",
        "\n",
        "📌 I det følgjande dømet nyttar eg vassføringsdata frå [Reinsnosvatn](https://www.norgeskart.no/#!?project=norgeskart&layers=1002&zoom=11&lat=6674836.62&lon=34802.80&sok=Reinsnosvatn&markerLat=6675824.352100712&markerLon=36873.4684766499&p=searchOptionsPanel)\n",
        "\n",
        "> Målestasjonen ligger i Ullensvang i Vestland og er aktiv. Den har vært i drift siden juni 1917 og leverer i dag 3 forskjellige målinger. (sildre.nve.no)\n",
        "\n",
        "Prosjektet tek altså utgangspunkt i daglege målingar frå 1917! \n",
        "\n",
        "::: {.callout-tip collapse=\"true\"}\n",
        "## Tips til nedlasting\n",
        "\n",
        "1️⃣ Finn deg ei elv på [sildre.nve.no](https://sildre.nve.no) <br>\n",
        "2️⃣ Trykk på `last ned som csv` <br>\n",
        "3️⃣ Kryss av på aktuelle instillingar <br>\n",
        "4️⃣ Last ned\n",
        "\n",
        "![⬇️ Laste ned data](laste_ned.jpg){fig-align=\"center\"}\n",
        "\n",
        ":::\n",
        "\n",
        "\n",
        "## Importere bibliotek\n",
        "\n",
        "Vassføringsdataa er lasta ned i csv-format. Me bruker `pandas` for å jobba med dette effektivt. I tillegg vert det litt plotting og matematikk, så me treng `pyplot` og `numpy` i tillegg. \n"
      ]
    },
    {
      "cell_type": "code",
      "execution_count": 2,
      "id": "9bdf8874",
      "metadata": {},
      "outputs": [],
      "source": [
        "import pandas as pd\n",
        "import matplotlib.pyplot as plt\n",
        "import numpy as np"
      ]
    },
    {
      "attachments": {},
      "cell_type": "markdown",
      "id": "9e331a64",
      "metadata": {},
      "source": [
        "## Opprette dataramme\n",
        "\n"
      ]
    },
    {
      "cell_type": "code",
      "execution_count": 7,
      "id": "4f11450e",
      "metadata": {},
      "outputs": [],
      "source": [
        "df = pd.read_csv(\n",
        "    \"vassforing_reinsnos_dogn.csv\", \n",
        "    sep = \";\", \n",
        "    skiprows = 2, \n",
        "    names = [\"dato\", \"Vassføring\", \"Korrigert\", \"Kontrollert\"], \n",
        "    parse_dates = True, \n",
        "    decimal=\",\"\n",
        ")\n",
        "\n",
        "#df.index = pd.to_datetime(df['dato']) \n",
        "#df.index = df.index.date\n",
        "#df = df.drop(columns = [\"dato\", \"Korrigert\", \"Kontrollert\"])\n",
        "\n",
        "#df.index = pd.to_datetime(df.index)"
      ]
    },
    {
      "cell_type": "code",
      "execution_count": null,
      "id": "fea38cc9",
      "metadata": {},
      "outputs": [],
      "source": []
    }
  ],
  "metadata": {
    "kernelspec": {
      "display_name": "base",
      "language": "python",
      "name": "python3"
    },
    "language_info": {
      "codemirror_mode": {
        "name": "ipython",
        "version": 3
      },
      "file_extension": ".py",
      "mimetype": "text/x-python",
      "name": "python",
      "nbconvert_exporter": "python",
      "pygments_lexer": "ipython3",
      "version": "3.8.15"
    },
    "vscode": {
      "interpreter": {
        "hash": "40d3a090f54c6569ab1632332b64b2c03c39dcf918b08424e98f38b5ae0af88f"
      }
    }
  },
  "nbformat": 4,
  "nbformat_minor": 5
}
