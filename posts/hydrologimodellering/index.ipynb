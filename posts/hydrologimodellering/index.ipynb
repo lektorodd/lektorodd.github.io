{
  "cells": [
    {
      "cell_type": "raw",
      "id": "3a7795cb",
      "metadata": {},
      "source": [
        "---\n",
        "title: \"Hydrologiprogrammering\"\n",
        "from: markdown+emoji\n",
        "author: \"Torodd F. Ottestad\"\n",
        "date: \"2023-01-27\"\n",
        "categories: [modellering, programmering, tips, geofag]\n",
        "image: \"island.jpg\"\n",
        "draft: true\n",
        "---"
      ]
    },
    {
      "attachments": {},
      "cell_type": "markdown",
      "id": "13481b69",
      "metadata": {},
      "source": [
        "![📷 Dettifoss, Island](island.jpg){fig-align=\"center\" width=\"90%\"}\n",
        "\n",
        "# Hydrologiprosjekt\n",
        "\n",
        "Her kjem eit døme på korleis ein kan bruka og behandla nokre av dei store hydrologi-datamengdene me har tilgjengeleg i Noreg. Datamaterialet er samla inn av [NVE](https://www.nve.no/) og henta frå [Sildre](https://sildre.nve.no/). \n",
        "\n",
        "📌 I det følgjande dømet nyttar eg vassføringsdata frå [Reinsnosvatn](https://www.norgeskart.no/#!?project=norgeskart&layers=1002&zoom=11&lat=6674836.62&lon=34802.80&sok=Reinsnosvatn&markerLat=6675824.352100712&markerLon=36873.4684766499&p=searchOptionsPanel)\n",
        "\n",
        "> Målestasjonen ligger i Ullensvang i Vestland og er aktiv. Den har vært i drift siden juni 1917 og leverer i dag 3 forskjellige målinger. (sildre.nve.no)\n",
        "\n",
        "Prosjektet tek altså utgangspunkt i daglege målingar frå 1917! \n",
        "\n",
        "::: {.callout-tip collapse=\"true\"}\n",
        "## Tips til nedlasting\n",
        "\n",
        "1️⃣ Finn deg ei elv på [sildre.nve.no](https://sildre.nve.no) <br>\n",
        "2️⃣ Trykk på `last ned som csv` <br>\n",
        "3️⃣ Kryss av på aktuelle instillingar <br>\n",
        "4️⃣ Last ned\n",
        "\n",
        "![⬇️ Laste ned data](laste_ned.jpg){fig-align=\"center\"}\n",
        "\n",
        ":::\n",
        "\n",
        "\n",
        "## Importere bibliotek\n",
        "\n",
        "Vassføringsdataa er lasta ned i csv-format. Me bruker `pandas` for å jobba med dette effektivt. I tillegg vert det litt plotting og matematikk, så me treng `pyplot` og `numpy` i tillegg. \n"
      ]
    },
    {
      "cell_type": "code",
      "execution_count": 1,
      "id": "9bdf8874",
      "metadata": {},
      "outputs": [],
      "source": [
        "import pandas as pd\n",
        "import matplotlib.pyplot as plt\n",
        "import numpy as np"
      ]
    },
    {
      "attachments": {},
      "cell_type": "markdown",
      "id": "9e331a64",
      "metadata": {},
      "source": [
        "## Opprette dataramme\n",
        "\n",
        "CSV-fila med vassføringsdata les me inn i ei `dataramme` (*dataframe*). Viss ein tar ein kikk på fila ser ein at det er brukt semikolon for å skilja verdiane, det er to rader før verdiane kjem. Me lagar litt forenkla namn på kolonnene, og les inn data. I tillegg er det nytta komma (og ikkje punktum) som desimalteikn. \n",
        "\n",
        "![🔍 Dei første linjene](df.jpg)"
      ]
    },
    {
      "cell_type": "code",
      "execution_count": 16,
      "id": "4f11450e",
      "metadata": {},
      "outputs": [],
      "source": [
        "df = pd.read_csv(\n",
        "    \"vassforing_reinsnos_dogn.csv\", \n",
        "    sep = \";\", \n",
        "    skiprows = 2, \n",
        "    names = [\"dato\", \"Vassføring\", \"Korrigert\", \"Kontrollert\"], \n",
        "    parse_dates = True, \n",
        "    decimal=\",\"\n",
        ")\n",
        "\n",
        "df.index = pd.to_datetime(df['dato']) \n",
        "df.index = pd.to_datetime(df.index.date)\n",
        "df = df.drop(columns = [\"dato\", \"Korrigert\", \"Kontrollert\"])"
      ]
    },
    {
      "attachments": {},
      "cell_type": "markdown",
      "id": "95b03c96",
      "metadata": {},
      "source": [
        "Sjekkar dei nyaste fem målingane i tabellen for å sjå at alt ser ok ut. "
      ]
    },
    {
      "cell_type": "code",
      "execution_count": 17,
      "id": "fea38cc9",
      "metadata": {},
      "outputs": [
        {
          "data": {
            "text/html": [
              "<div>\n",
              "<style scoped>\n",
              "    .dataframe tbody tr th:only-of-type {\n",
              "        vertical-align: middle;\n",
              "    }\n",
              "\n",
              "    .dataframe tbody tr th {\n",
              "        vertical-align: top;\n",
              "    }\n",
              "\n",
              "    .dataframe thead th {\n",
              "        text-align: right;\n",
              "    }\n",
              "</style>\n",
              "<table border=\"1\" class=\"dataframe\">\n",
              "  <thead>\n",
              "    <tr style=\"text-align: right;\">\n",
              "      <th></th>\n",
              "      <th>Vassføring</th>\n",
              "    </tr>\n",
              "  </thead>\n",
              "  <tbody>\n",
              "    <tr>\n",
              "      <th>2023-01-24</th>\n",
              "      <td>1.299365</td>\n",
              "    </tr>\n",
              "    <tr>\n",
              "      <th>2023-01-25</th>\n",
              "      <td>1.593457</td>\n",
              "    </tr>\n",
              "    <tr>\n",
              "      <th>2023-01-26</th>\n",
              "      <td>2.128418</td>\n",
              "    </tr>\n",
              "    <tr>\n",
              "      <th>2023-01-27</th>\n",
              "      <td>2.322153</td>\n",
              "    </tr>\n",
              "    <tr>\n",
              "      <th>2023-01-28</th>\n",
              "      <td>2.324195</td>\n",
              "    </tr>\n",
              "  </tbody>\n",
              "</table>\n",
              "</div>"
            ],
            "text/plain": [
              "            Vassføring\n",
              "2023-01-24    1.299365\n",
              "2023-01-25    1.593457\n",
              "2023-01-26    2.128418\n",
              "2023-01-27    2.322153\n",
              "2023-01-28    2.324195"
            ]
          },
          "execution_count": 17,
          "metadata": {},
          "output_type": "execute_result"
        }
      ],
      "source": [
        "df.tail()"
      ]
    },
    {
      "attachments": {},
      "cell_type": "markdown",
      "id": "527ea3b9",
      "metadata": {},
      "source": [
        "I tillegg kan me prøva å plotta verdiane i dataramma."
      ]
    },
    {
      "cell_type": "code",
      "execution_count": 18,
      "id": "18381b06",
      "metadata": {},
      "outputs": [
        {
          "data": {
            "text/plain": [
              "<AxesSubplot:>"
            ]
          },
          "execution_count": 18,
          "metadata": {},
          "output_type": "execute_result"
        },
        {
          "data": {
            "image/png": "[encoded data removed]",
            "text/plain": [
              "<Figure size 640x480 with 1 Axes>"
            ]
          },
          "metadata": {},
          "output_type": "display_data"
        }
      ],
      "source": [
        "df.plot()"
      ]
    },
    {
      "attachments": {},
      "cell_type": "markdown",
      "id": "7ccc6920",
      "metadata": {},
      "source": [
        "Me ser her at dette ikkje er spesielt nyttig eller informativt. Det me ser her er at det på 1920-talet er eit par år utan målingar. Dette kjem me attende til litt seinare. "
      ]
    },
    {
      "attachments": {},
      "cell_type": "markdown",
      "id": "981a081a",
      "metadata": {},
      "source": [
        "## Middelflom\n",
        "\n",
        "Middelflommen til ei elv er rekna ut frå den største døgnvassføringa per år over eit lengre tidsrom. Frå [NVE/varsom.no](https://varsom.no/flom-og-jordskred/ordliste/ordliste-for-flom/) finn me denne definisjonen:\n",
        "\n",
        "> En middelflom (normal flom) defineres som gjennomsnittet av høyeste vannføring hvert år i en lang årrekke.\n",
        "\n",
        "For å rekna ut dette må me altså først finna den maksimale vassføringa per år. Bruker groupby i Pandas for å finne dette."
      ]
    },
    {
      "cell_type": "code",
      "execution_count": null,
      "id": "494bf395",
      "metadata": {},
      "outputs": [],
      "source": []
    }
  ],
  "metadata": {
    "kernelspec": {
      "display_name": "base",
      "language": "python",
      "name": "python3"
    },
    "language_info": {
      "codemirror_mode": {
        "name": "ipython",
        "version": 3
      },
      "file_extension": ".py",
      "mimetype": "text/x-python",
      "name": "python",
      "nbconvert_exporter": "python",
      "pygments_lexer": "ipython3",
      "version": "3.8.13"
    },
    "vscode": {
      "interpreter": {
        "hash": "034280a56507a596863b38a111dd31b1ed4d03eb6644e1297ef960ca85732ce5"
      }
    }
  },
  "nbformat": 4,
  "nbformat_minor": 5
}
