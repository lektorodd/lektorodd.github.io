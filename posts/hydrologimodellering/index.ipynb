{
  "cells": [
    {
      "cell_type": "raw",
      "metadata": {},
      "source": [
        "---\n",
        "title: \"Hyrdologiprogrammering\"\n",
        "from: markdown+emoji\n",
        "author: \"Torodd F. Ottestad\"\n",
        "date: \"2023-01-27\"\n",
        "categories: [verktøy, programmering, tips, geofag]\n",
        "image: \"island.jpg\"\n",
        "draft: true\n",
        "engine: jupyter\n",
        "---"
      ],
      "id": "12fb50ba"
    },
    {
      "cell_type": "markdown",
      "metadata": {},
      "source": [
        "![📷 Dettifoss, Island](island.jpg){fig-align=\"center\" width=\"90%\"}\n",
        "\n",
        "# Hydrologiprosjekt\n",
        "\n",
        "Her kjem eit døme på korleis ein kan bruka og behandla nokre av dei store hydrologi-datamengdene me har tilgjengeleg i Noreg. Datamaterialet er samla inn av [NVE](https://www.nve.no/) og henta frå [Sildre](https://sildre.nve.no/). \n",
        "\n",
        "I det følgjande dømet nyttar eg vassføringsdata frå Reinsnosvatn <br>📍[kart](https://www.norgeskart.no/#!?project=norgeskart&layers=1002&zoom=11&lat=6674836.62&lon=34802.80&sok=Reinsnosvatn&markerLat=6675824.352100712&markerLon=36873.4684766499&p=searchOptionsPanel)\n",
        "\n",
        "> Målestasjonen ligger i Ullensvang i Vestland og er aktiv. Den har vært i drift siden juni 1917 og leverer i dag 3 forskjellige målinger. (sildre.nve.no)\n",
        "\n",
        "## Importere bibliotek\n",
        "\n",
        "Vassføringsdataa er lasta ned i csv-format. Me bruker `pandas` for å jobba med dette effektivt. I tillegg vert det litt plotting og matematikk, så me treng `pyplot` og `numpy` i tillegg. \n"
      ],
      "id": "88933bbd"
    },
    {
      "cell_type": "code",
      "metadata": {},
      "source": [
        "import pandas as pd\n",
        "import matplotlib.pyplot as plt\n",
        "import numpy as np"
      ],
      "id": "26636177",
      "execution_count": null,
      "outputs": []
    }
  ],
  "metadata": {
    "kernelspec": {
      "name": "python3",
      "language": "python",
      "display_name": "Python 3 (ipykernel)"
    }
  },
  "nbformat": 4,
  "nbformat_minor": 5
}