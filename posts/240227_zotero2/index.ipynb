{
  "cells": [
    {
      "cell_type": "raw",
      "metadata": {},
      "source": [
        "---\n",
        "title: \"Zotero, KI og Quarto\"\n",
        "description: \"Litt testing med kjelder frå Zotero i Quarto/VS Code samt ein tanke og to om kjelder og KI\"\n",
        "from: markdown+emoji\n",
        "author: \"Torodd F. Ottestad\"\n",
        "date: \"2024-02-27\"\n",
        "categories: [KI, kjelder, verktøy, tips]\n",
        "image: \"kjelder.png\"\n",
        "engine: jupyter\n",
        "---"
      ],
      "id": "15ff0868"
    },
    {
      "cell_type": "markdown",
      "metadata": {},
      "source": [
        "# Avansert bruk av Zotero\n",
        "\n",
        "Som [tidlegare nemnt](posts\\\\230127_zotero\\index.qmd) er Zotero ei særs god hjelp til føring og lagring av kjelder.\n"
      ],
      "id": "d5245ef1"
    },
    {
      "cell_type": "code",
      "metadata": {},
      "source": [
        "import numpy as np\n",
        "print(np.pi)"
      ],
      "id": "6dae2b89",
      "execution_count": null,
      "outputs": []
    }
  ],
  "metadata": {
    "kernelspec": {
      "display_name": "Python 3",
      "language": "python",
      "name": "python3"
    }
  },
  "nbformat": 4,
  "nbformat_minor": 5
}