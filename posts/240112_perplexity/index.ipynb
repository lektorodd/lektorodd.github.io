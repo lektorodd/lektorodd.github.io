{
 "cells": [
  {
   "cell_type": "raw",
   "metadata": {},
   "source": [
    "---\n",
    "title: \"Perplexity\"\n",
    "description: \"Erfaringar og tankar kring \"Google-erstattaren\" Perplexity\n",
    "from: markdown+emoji\n",
    "author: \"Torodd F. Ottestad\"\n",
    "date: \"2024-01-12\"\n",
    "categories: [KI, verktøy, tips]\n",
    "image: (ha med bilde)\n",
    "---"
   ]
  },
  {
   "cell_type": "code",
   "execution_count": null,
   "metadata": {},
   "outputs": [],
   "source": []
  }
 ],
 "metadata": {
  "language_info": {
   "name": "python"
  }
 },
 "nbformat": 4,
 "nbformat_minor": 2
}
