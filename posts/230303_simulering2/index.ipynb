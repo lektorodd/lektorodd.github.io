{
 "cells": [
  {
   "cell_type": "raw",
   "metadata": {},
   "source": [
    "---\n",
    "title: \"Samansett simulering i S2\"\n",
    "from: markdown+emoji\n",
    "author: \"Torodd F. Ottestad\"\n",
    "date: \"2023-03-03\"\n",
    "categories: [programmering, s-matte, simulering, eksamensoppgåve, tips]\n",
    "image: \"kuleramme.jpg\"\n",
    "---"
   ]
  },
  {
   "attachments": {},
   "cell_type": "markdown",
   "metadata": {},
   "source": [
    "# Simulering som verktøy :muscle:\n",
    "\n",
    "Ein del problemstillingar kan vera ganske vanskelege å løysa ved rekning. Simulering kan hjelpa til å gjera denne type oppgåver **mykje** lettare å løysa. I dag ser me på ei oppgåve henta frå eksempelsettet til skriftleg eksamen etter ny læreplan i S2. \n",
    "\n",
    "Ta gjerne ein kikk på [dette innlegget](/posts/230209_simulering1/index.ipynb) om du treng oppfrisking i grunnleggande simulering med NumPy. Ellers er dokumentasjonen til [NumPy](https://numpy.org/doc/stable/reference/random/generator.html#numpy.random.default_rng) ein fin stad å vera... \n",
    "\n",
    "## Oppgåva\n",
    "\n",
    "> På ein skule er det 323 jenter og 301 gutar. La $X$ vera høgda til ei tilfeldig vald jente og $Y$ vera høgda til ein tilfeldig vald gut. Me går ut frå at $X$ og $Y$ er normalfordelt med $\\mu_x=168 cm$, $\\mu_y=180 cm$, $\\sigma_x = 6 cm$ og $\\sigma_y = 8 cm$. <br> <br> Lag eit program som du kan bruka til å simulera sannsynet for at ein tilfeldig vald elev er høgare enn 175 cm. Bestem dette sannsynet. <br> <br> *([UDIR](https://sokeresultat.udir.no/eksamensoppgaver.html) - Eksempelsett eksamen S2-V23 oppgåve 6, del 2)*\n",
    "\n",
    ":monocle_face: Me må altså både bestemma om det er gut eller jente me har trekt i tillegg til å finna høgda på eleven. Krevande for hand/analytisk men ikkje så aller verst å finna ut av ved simulering!"
   ]
  },
  {
   "attachments": {},
   "cell_type": "markdown",
   "metadata": {},
   "source": [
    "# :twisted_rightwards_arrows: Ulike framgangsmåtar\n",
    "\n",
    "Ser på tre ulike framgangsmåtar her <br>\n",
    ":one: \"rett fram\" med løkker (treg måte :turtle:) <br>\n",
    ":two: fancy versjon av :one: (men enno tregare :snail:)<br>\n",
    ":three: ingen løkker, kun arrays :crown: (rask måte :zap:)\n",
    "\n",
    ":bulb: Om du er fan av eleganse og fart kan du hoppa rett til :three:"
   ]
  },
  {
   "attachments": {},
   "cell_type": "markdown",
   "metadata": {},
   "source": [
    "## :one: Løkker\n",
    "\n",
    "Tanken her er å trekka ein elev `N` gongar. Trekk eit tal mellom 0 og 323+301, og seier at dei 323 første (fom. 0 tom. 322) er jenter, og dei siste (resten) er gutar. Simulerer høgda til kvar elev etter det. Tel til slutt opp kor mange som er over 175 cm. "
   ]
  },
  {
   "cell_type": "code",
   "execution_count": 6,
   "metadata": {},
   "outputs": [
    {
     "name": "stdout",
     "output_type": "stream",
     "text": [
      "Sannsynet for at ein tilfeldig elev er høgare enn 175 cm er 0.4172\n"
     ]
    }
   ],
   "source": [
    "import numpy as np\n",
    "rng = np.random.default_rng()\n",
    "\n",
    "# tal simuleringar\n",
    "N = 10000000\n",
    "\n",
    "# N elevar (tal mellom 0 og 323+301)\n",
    "elevar = rng.integers(0, (323+301), size=N)\n",
    "\n",
    "# tom liste til høgdene\n",
    "høgdar = []\n",
    "\n",
    "# Finn høgda til kvar elev\n",
    "for elev in elevar:\n",
    "    if elev<323: # 0 til 322 er jenter\n",
    "        høgdar.append(rng.normal(168, 6))\n",
    "    else: # 323 til 323+301 er gutar\n",
    "        høgdar.append(rng.normal(180, 8))\n",
    "\n",
    "# tel opp elevar høgare enn 175 cm\n",
    "gunstige = sum(np.array(høgdar)>175)\n",
    "sannsyn = gunstige / N\n",
    "\n",
    "print(f\"Sannsynet for at ein tilfeldig elev er høgare enn 175 cm er {sannsyn:.4f}\")"
   ]
  },
  {
   "attachments": {},
   "cell_type": "markdown",
   "metadata": {},
   "source": [
    ":hourglass_flowing_sand: Her brukte maskina mi ca. 17 sek. på 10 000 000 simuleringar. "
   ]
  },
  {
   "attachments": {},
   "cell_type": "markdown",
   "metadata": {},
   "source": [
    "## :two: funksjonar... \n",
    "\n",
    "Her gjer me :one: litt meir fancy. Mykje lik tankegang. "
   ]
  },
  {
   "cell_type": "code",
   "execution_count": 7,
   "metadata": {},
   "outputs": [
    {
     "name": "stdout",
     "output_type": "stream",
     "text": [
      "Sannsynet for at ein tilfeldig elev er høgare enn 175 cm er 0.4169\n"
     ]
    }
   ],
   "source": [
    "import numpy as np\n",
    "rng = np.random.default_rng()\n",
    "\n",
    "# tal simuleringar\n",
    "N = 10000000\n",
    "\n",
    "# finn sannsyn jente og sannsyn gutt\n",
    "p = np.array([323, 301]) / (323+301)\n",
    "\n",
    "# lagar funksjon som trekk ein elev\n",
    "def trekk_elev(p):\n",
    "    høgde = 0\n",
    "    # trekk kjønn:\n",
    "    kjønn = rng.choice(['j', 'g'], p=p)\n",
    "    \n",
    "    # trekk høgde (ut frå trekt kjønn)\n",
    "    if kjønn == 'j':\n",
    "        høgde = rng.normal(168, 6, 1)\n",
    "    else: \n",
    "        høgde = rng.normal(180, 8, 1)\n",
    "    \n",
    "    return høgde[0]\n",
    "\n",
    "# tel opp talet elevar som er over 175 cm\n",
    "gunstig = 0\n",
    "\n",
    "for i in range(N):\n",
    "    h = trekk_elev(p)\n",
    "    if h>175:\n",
    "        gunstig += 1\n",
    "\n",
    "# finn og skriv ut relativ frekvens\n",
    "sannsyn = gunstig/N\n",
    "print(f\"Sannsynet for at ein tilfeldig elev er høgare enn 175 cm er {sannsyn:.4f}\")"
   ]
  },
  {
   "attachments": {},
   "cell_type": "markdown",
   "metadata": {},
   "source": [
    ":hourglass_flowing_sand: Her brukte maskina mi ca. 5 min. (!!!) på 10 000 000 simuleringar."
   ]
  },
  {
   "attachments": {},
   "cell_type": "markdown",
   "metadata": {},
   "source": [
    "## :three: Alt i arrays :rocket:\n",
    "\n",
    "For å gjera programmet effektivt, raskt og lett leseleg droppar eg løkker og funksjonar. "
   ]
  },
  {
   "cell_type": "code",
   "execution_count": 8,
   "metadata": {},
   "outputs": [
    {
     "name": "stdout",
     "output_type": "stream",
     "text": [
      "Sannsynet for at ein tilfeldig elev er høgare enn 175 cm er 0.4168\n"
     ]
    }
   ],
   "source": [
    "import numpy as np\n",
    "rng = np.random.default_rng()\n",
    "\n",
    "# antall jenter, gutar og elevar på skulen\n",
    "j = 323\n",
    "g = 301\n",
    "n = j + g\n",
    "\n",
    "# tal simuleringar\n",
    "N = 10000000\n",
    "\n",
    "# finn antall gutar (0) og jenter (1)\n",
    "kjønn = rng.choice([0,1], size=N, p=[g/n, j/n])\n",
    "jenter = sum(kjønn)\n",
    "gutar = N - jenter\n",
    "\n",
    "# finn høgder på jenter og gutar for seg\n",
    "h_jenter = rng.normal(168, 6, size=jenter)\n",
    "h_gutar = rng.normal(180, 8, size=gutar)\n",
    "\n",
    "# høgder på alle dei trekte elevane\n",
    "h_trekte = np.append(h_jenter, h_gutar)\n",
    "\n",
    "# reknar ut sannsynet\n",
    "gunstige = sum(h_trekte > 175)\n",
    "sannsyn = gunstige / N\n",
    "\n",
    "print(f\"Sannsynet for at ein tilfeldig elev er høgare enn 175 cm er {sannsyn:.4f}\")"
   ]
  },
  {
   "attachments": {},
   "cell_type": "markdown",
   "metadata": {},
   "source": [
    ":zap: 3,4 sek. på 10 000 000 simuleringar! :sunglasses:"
   ]
  },
  {
   "attachments": {},
   "cell_type": "markdown",
   "metadata": {},
   "source": [
    "# Oppsummert\n",
    "\n",
    "Dette var eit lite innblikk i ulike måtar ei oppgåve som dette kan løysast på ved hjelp av simulering. Ville nok valgt den elegante og raske versjonen (:three:) sjølv. \n",
    "\n",
    "Gje gjerne eit pip om du lurer på noko :arrow_down: Plutseleg attende med nye innlegg :v:"
   ]
  }
 ],
 "metadata": {
  "kernelspec": {
   "display_name": "base",
   "language": "python",
   "name": "python3"
  },
  "language_info": {
   "codemirror_mode": {
    "name": "ipython",
    "version": 3
   },
   "file_extension": ".py",
   "mimetype": "text/x-python",
   "name": "python",
   "nbconvert_exporter": "python",
   "pygments_lexer": "ipython3",
   "version": "3.8.15"
  },
  "orig_nbformat": 4,
  "vscode": {
   "interpreter": {
    "hash": "40d3a090f54c6569ab1632332b64b2c03c39dcf918b08424e98f38b5ae0af88f"
   }
  }
 },
 "nbformat": 4,
 "nbformat_minor": 2
}
